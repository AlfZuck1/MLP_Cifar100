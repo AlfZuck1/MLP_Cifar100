{
 "cells": [
  {
   "cell_type": "code",
   "execution_count": 1,
   "id": "57b5801b",
   "metadata": {
    "_cell_guid": "b1076dfc-b9ad-4769-8c92-a6c4dae69d19",
    "_uuid": "8f2839f25d086af736a60e9eeb907d3b93b6e0e5",
    "execution": {
     "iopub.execute_input": "2024-06-29T23:23:48.084869Z",
     "iopub.status.busy": "2024-06-29T23:23:48.084526Z",
     "iopub.status.idle": "2024-06-29T23:23:48.830116Z",
     "shell.execute_reply": "2024-06-29T23:23:48.829273Z"
    },
    "papermill": {
     "duration": 0.757487,
     "end_time": "2024-06-29T23:23:48.832260",
     "exception": false,
     "start_time": "2024-06-29T23:23:48.074773",
     "status": "completed"
    },
    "tags": []
   },
   "outputs": [
    {
     "name": "stdout",
     "output_type": "stream",
     "text": [
      "/kaggle/input/itba-cifar-100-2024-q-1/y_train_fine.npy\n",
      "/kaggle/input/itba-cifar-100-2024-q-1/y_train_coarse.npy\n",
      "/kaggle/input/itba-cifar-100-2024-q-1/fine_label_names.pck\n",
      "/kaggle/input/itba-cifar-100-2024-q-1/coarse_label_names.pck\n",
      "/kaggle/input/itba-cifar-100-2024-q-1/x_test.npy\n",
      "/kaggle/input/itba-cifar-100-2024-q-1/x_train.npy\n"
     ]
    }
   ],
   "source": [
    "# This Python 3 environment comes with many helpful analytics libraries installed\n",
    "# It is defined by the kaggle/python Docker image: https://github.com/kaggle/docker-python\n",
    "# For example, here's several helpful packages to load\n",
    "\n",
    "import numpy as np # linear algebra\n",
    "import pandas as pd # data processing, CSV file I/O (e.g. pd.read_csv)\n",
    "\n",
    "# Input data files are available in the read-only \"../input/\" directory\n",
    "# For example, running this (by clicking run or pressing Shift+Enter) will list all files under the input directory\n",
    "\n",
    "import os\n",
    "for dirname, _, filenames in os.walk('/kaggle/input'):\n",
    "    for filename in filenames:\n",
    "        print(os.path.join(dirname, filename))\n",
    "\n",
    "# You can write up to 20GB to the current directory (/kaggle/working/) that gets preserved as output when you create a version using \"Save & Run All\" \n",
    "# You can also write temporary files to /kaggle/temp/, but they won't be saved outside of the current session"
   ]
  },
  {
   "cell_type": "code",
   "execution_count": 2,
   "id": "66bdaf93",
   "metadata": {
    "execution": {
     "iopub.execute_input": "2024-06-29T23:23:48.850452Z",
     "iopub.status.busy": "2024-06-29T23:23:48.849680Z",
     "iopub.status.idle": "2024-06-29T23:23:52.351010Z",
     "shell.execute_reply": "2024-06-29T23:23:52.350027Z"
    },
    "papermill": {
     "duration": 3.512781,
     "end_time": "2024-06-29T23:23:52.353474",
     "exception": false,
     "start_time": "2024-06-29T23:23:48.840693",
     "status": "completed"
    },
    "tags": []
   },
   "outputs": [],
   "source": [
    "x_train = np.load(\"/kaggle/input/itba-cifar-100-2024-q-1/x_train.npy\")/255.\n",
    "x_test = np.load(\"/kaggle/input/itba-cifar-100-2024-q-1/x_test.npy\")/255.\n",
    "y_train_coarse = np.load(\"/kaggle/input/itba-cifar-100-2024-q-1/y_train_coarse.npy\")\n",
    "y_train_fine = np.load(\"/kaggle/input/itba-cifar-100-2024-q-1/y_train_fine.npy\")"
   ]
  },
  {
   "cell_type": "code",
   "execution_count": 3,
   "id": "00b4b5bd",
   "metadata": {
    "execution": {
     "iopub.execute_input": "2024-06-29T23:23:52.371633Z",
     "iopub.status.busy": "2024-06-29T23:23:52.371337Z",
     "iopub.status.idle": "2024-06-29T23:23:52.386774Z",
     "shell.execute_reply": "2024-06-29T23:23:52.386075Z"
    },
    "papermill": {
     "duration": 0.026635,
     "end_time": "2024-06-29T23:23:52.388764",
     "exception": false,
     "start_time": "2024-06-29T23:23:52.362129",
     "status": "completed"
    },
    "tags": []
   },
   "outputs": [],
   "source": [
    "import pickle\n",
    "with open(\"/kaggle/input/itba-cifar-100-2024-q-1/fine_label_names.pck\", \"rb\") as f:\n",
    "    labels_fine = pickle.load(f)\n",
    "with open(\"/kaggle/input/itba-cifar-100-2024-q-1/coarse_label_names.pck\", \"rb\") as f:\n",
    "    labels_coarse = pickle.load(f)"
   ]
  },
  {
   "cell_type": "code",
   "execution_count": 4,
   "id": "0a220614",
   "metadata": {
    "execution": {
     "iopub.execute_input": "2024-06-29T23:23:52.406649Z",
     "iopub.status.busy": "2024-06-29T23:23:52.406366Z",
     "iopub.status.idle": "2024-06-29T23:23:52.426700Z",
     "shell.execute_reply": "2024-06-29T23:23:52.425846Z"
    },
    "papermill": {
     "duration": 0.03122,
     "end_time": "2024-06-29T23:23:52.428571",
     "exception": false,
     "start_time": "2024-06-29T23:23:52.397351",
     "status": "completed"
    },
    "tags": []
   },
   "outputs": [],
   "source": [
    "from matplotlib import pyplot as plt\n",
    "%load_ext tensorboard"
   ]
  },
  {
   "cell_type": "code",
   "execution_count": 5,
   "id": "694f02fc",
   "metadata": {
    "execution": {
     "iopub.execute_input": "2024-06-29T23:23:52.446404Z",
     "iopub.status.busy": "2024-06-29T23:23:52.445687Z",
     "iopub.status.idle": "2024-06-29T23:23:52.656860Z",
     "shell.execute_reply": "2024-06-29T23:23:52.655844Z"
    },
    "papermill": {
     "duration": 0.221829,
     "end_time": "2024-06-29T23:23:52.658883",
     "exception": false,
     "start_time": "2024-06-29T23:23:52.437054",
     "status": "completed"
    },
    "tags": []
   },
   "outputs": [
    {
     "data": {
      "text/plain": [
       "<matplotlib.image.AxesImage at 0x7ccaa69d0fa0>"
      ]
     },
     "execution_count": 5,
     "metadata": {},
     "output_type": "execute_result"
    },
    {
     "data": {
      "image/png": "[encoded data removed]",
      "text/plain": [
       "<Figure size 100x100 with 1 Axes>"
      ]
     },
     "metadata": {},
     "output_type": "display_data"
    }
   ],
   "source": [
    "plt.figure(figsize=(1,1))\n",
    "plt.imshow(x_train[25])"
   ]
  },
  {
   "cell_type": "code",
   "execution_count": 6,
   "id": "ef7e9f44",
   "metadata": {
    "execution": {
     "iopub.execute_input": "2024-06-29T23:23:52.679018Z",
     "iopub.status.busy": "2024-06-29T23:23:52.678646Z",
     "iopub.status.idle": "2024-06-29T23:23:52.686400Z",
     "shell.execute_reply": "2024-06-29T23:23:52.685279Z"
    },
    "papermill": {
     "duration": 0.0213,
     "end_time": "2024-06-29T23:23:52.688842",
     "exception": false,
     "start_time": "2024-06-29T23:23:52.667542",
     "status": "completed"
    },
    "tags": []
   },
   "outputs": [
    {
     "data": {
      "text/plain": [
       "84"
      ]
     },
     "execution_count": 6,
     "metadata": {},
     "output_type": "execute_result"
    }
   ],
   "source": [
    "y_train_fine[25]"
   ]
  },
  {
   "cell_type": "code",
   "execution_count": 7,
   "id": "79c3e7c5",
   "metadata": {
    "execution": {
     "iopub.execute_input": "2024-06-29T23:23:52.716972Z",
     "iopub.status.busy": "2024-06-29T23:23:52.716648Z",
     "iopub.status.idle": "2024-06-29T23:23:52.722980Z",
     "shell.execute_reply": "2024-06-29T23:23:52.722111Z"
    },
    "papermill": {
     "duration": 0.023375,
     "end_time": "2024-06-29T23:23:52.724980",
     "exception": false,
     "start_time": "2024-06-29T23:23:52.701605",
     "status": "completed"
    },
    "tags": []
   },
   "outputs": [
    {
     "data": {
      "text/plain": [
       "'table'"
      ]
     },
     "execution_count": 7,
     "metadata": {},
     "output_type": "execute_result"
    }
   ],
   "source": [
    "labels_fine[84]"
   ]
  },
  {
   "cell_type": "code",
   "execution_count": 8,
   "id": "9eb71cbe",
   "metadata": {
    "execution": {
     "iopub.execute_input": "2024-06-29T23:23:52.747378Z",
     "iopub.status.busy": "2024-06-29T23:23:52.746600Z",
     "iopub.status.idle": "2024-06-29T23:23:52.756868Z",
     "shell.execute_reply": "2024-06-29T23:23:52.755575Z"
    },
    "papermill": {
     "duration": 0.024839,
     "end_time": "2024-06-29T23:23:52.759538",
     "exception": false,
     "start_time": "2024-06-29T23:23:52.734699",
     "status": "completed"
    },
    "tags": []
   },
   "outputs": [
    {
     "name": "stdout",
     "output_type": "stream",
     "text": [
      "Grano grueso: household_furniture\n",
      "Grano fino: bed\n",
      "Grano fino: chair\n",
      "Grano fino: couch\n",
      "Grano fino: table\n",
      "Grano fino: wardrobe\n"
     ]
    }
   ],
   "source": [
    "# Me fijo para una categoría de grano grueso, cuáles son las categorías de grano fino\n",
    "coarse = 6\n",
    "print(f\"Grano grueso: {labels_coarse[coarse]}\")\n",
    "for fine in np.unique(y_train_fine[y_train_coarse == coarse]):\n",
    "    print(f\"Grano fino: {labels_fine[fine]}\")"
   ]
  },
  {
   "cell_type": "code",
   "execution_count": 9,
   "id": "3f3c84b9",
   "metadata": {
    "execution": {
     "iopub.execute_input": "2024-06-29T23:23:52.789460Z",
     "iopub.status.busy": "2024-06-29T23:23:52.789184Z",
     "iopub.status.idle": "2024-06-29T23:24:04.527867Z",
     "shell.execute_reply": "2024-06-29T23:24:04.527098Z"
    },
    "papermill": {
     "duration": 11.756181,
     "end_time": "2024-06-29T23:24:04.530173",
     "exception": false,
     "start_time": "2024-06-29T23:23:52.773992",
     "status": "completed"
    },
    "tags": []
   },
   "outputs": [
    {
     "name": "stderr",
     "output_type": "stream",
     "text": [
      "2024-06-29 23:23:54.610138: E external/local_xla/xla/stream_executor/cuda/cuda_dnn.cc:9261] Unable to register cuDNN factory: Attempting to register factory for plugin cuDNN when one has already been registered\n",
      "2024-06-29 23:23:54.610254: E external/local_xla/xla/stream_executor/cuda/cuda_fft.cc:607] Unable to register cuFFT factory: Attempting to register factory for plugin cuFFT when one has already been registered\n",
      "2024-06-29 23:23:54.760418: E external/local_xla/xla/stream_executor/cuda/cuda_blas.cc:1515] Unable to register cuBLAS factory: Attempting to register factory for plugin cuBLAS when one has already been registered\n"
     ]
    }
   ],
   "source": [
    "from tensorflow.keras.models import Sequential\n",
    "from tensorflow.keras.layers import Dense, Dropout, BatchNormalization, Flatten\n",
    "from tensorflow.keras.preprocessing.image import ImageDataGenerator\n",
    "from tensorflow.keras.optimizers import SGD, Adam, AdamW, RMSprop\n",
    "from tensorflow.keras.regularizers import l1, l2\n",
    "from tensorflow.keras.constraints import MaxNorm\n",
    "from tensorflow.keras.callbacks import ReduceLROnPlateau, EarlyStopping, ModelCheckpoint, TensorBoard"
   ]
  },
  {
   "cell_type": "code",
   "execution_count": 10,
   "id": "e1ee40d1",
   "metadata": {
    "execution": {
     "iopub.execute_input": "2024-06-29T23:24:04.549950Z",
     "iopub.status.busy": "2024-06-29T23:24:04.549408Z",
     "iopub.status.idle": "2024-06-29T23:24:04.555365Z",
     "shell.execute_reply": "2024-06-29T23:24:04.554564Z"
    },
    "papermill": {
     "duration": 0.017903,
     "end_time": "2024-06-29T23:24:04.557314",
     "exception": false,
     "start_time": "2024-06-29T23:24:04.539411",
     "status": "completed"
    },
    "tags": []
   },
   "outputs": [
    {
     "data": {
      "text/plain": [
       "(50000, 32, 32, 3)"
      ]
     },
     "execution_count": 10,
     "metadata": {},
     "output_type": "execute_result"
    }
   ],
   "source": [
    "x_train.shape"
   ]
  },
  {
   "cell_type": "code",
   "execution_count": 11,
   "id": "e09f2aea",
   "metadata": {
    "execution": {
     "iopub.execute_input": "2024-06-29T23:24:04.577400Z",
     "iopub.status.busy": "2024-06-29T23:24:04.577120Z",
     "iopub.status.idle": "2024-06-29T23:24:05.346901Z",
     "shell.execute_reply": "2024-06-29T23:24:05.345931Z"
    },
    "papermill": {
     "duration": 0.782487,
     "end_time": "2024-06-29T23:24:05.349206",
     "exception": false,
     "start_time": "2024-06-29T23:24:04.566719",
     "status": "completed"
    },
    "tags": []
   },
   "outputs": [
    {
     "name": "stderr",
     "output_type": "stream",
     "text": [
      "/opt/conda/lib/python3.10/site-packages/keras/src/layers/reshaping/flatten.py:37: UserWarning: Do not pass an `input_shape`/`input_dim` argument to a layer. When using Sequential models, prefer using an `Input(shape)` object as the first layer in the model instead.\n",
      "  super().__init__(**kwargs)\n"
     ]
    }
   ],
   "source": [
    "model = Sequential()\n",
    "model.add(Flatten(input_shape=(32,32,3)))\n",
    "model.add(BatchNormalization())\n",
    "model.add(Dense(1536,activation = \"leaky_relu\",use_bias=True))\n",
    "model.add(BatchNormalization())\n",
    "model.add(Dropout(0.5))\n",
    "model.add(Dense(100, activation= \"softmax\"))\n",
    "model.compile(loss=\"sparse_categorical_crossentropy\", metrics = [\"accuracy\"], optimizer = Adam(learning_rate=0.001))"
   ]
  },
  {
   "cell_type": "code",
   "execution_count": 12,
   "id": "ec7d27a8",
   "metadata": {
    "execution": {
     "iopub.execute_input": "2024-06-29T23:24:05.369481Z",
     "iopub.status.busy": "2024-06-29T23:24:05.368934Z",
     "iopub.status.idle": "2024-06-29T23:24:05.389342Z",
     "shell.execute_reply": "2024-06-29T23:24:05.388505Z"
    },
    "papermill": {
     "duration": 0.032375,
     "end_time": "2024-06-29T23:24:05.391274",
     "exception": false,
     "start_time": "2024-06-29T23:24:05.358899",
     "status": "completed"
    },
    "tags": []
   },
   "outputs": [
    {
     "data": {
      "text/html": [
       "<pre style=\"white-space:pre;overflow-x:auto;line-height:normal;font-family:Menlo,'DejaVu Sans Mono',consolas,'Courier New',monospace\"><span style=\"font-weight: bold\">Model: \"sequential\"</span>\n",
       "</pre>\n"
      ],
      "text/plain": [
       "\u001b[1mModel: \"sequential\"\u001b[0m\n"
      ]
     },
     "metadata": {},
     "output_type": "display_data"
    },
    {
     "data": {
      "text/html": [
       "<pre style=\"white-space:pre;overflow-x:auto;line-height:normal;font-family:Menlo,'DejaVu Sans Mono',consolas,'Courier New',monospace\">┏━━━━━━━━━━━━━━━━━━━━━━━━━━━━━━━━━┳━━━━━━━━━━━━━━━━━━━━━━━━┳━━━━━━━━━━━━━━━┓\n",
       "┃<span style=\"font-weight: bold\"> Layer (type)                    </span>┃<span style=\"font-weight: bold\"> Output Shape           </span>┃<span style=\"font-weight: bold\">       Param # </span>┃\n",
       "┡━━━━━━━━━━━━━━━━━━━━━━━━━━━━━━━━━╇━━━━━━━━━━━━━━━━━━━━━━━━╇━━━━━━━━━━━━━━━┩\n",
       "│ flatten (<span style=\"color: #0087ff; text-decoration-color: #0087ff\">Flatten</span>)               │ (<span style=\"color: #00d7ff; text-decoration-color: #00d7ff\">None</span>, <span style=\"color: #00af00; text-decoration-color: #00af00\">3072</span>)           │             <span style=\"color: #00af00; text-decoration-color: #00af00\">0</span> │\n",
       "├─────────────────────────────────┼────────────────────────┼───────────────┤\n",
       "│ batch_normalization             │ (<span style=\"color: #00d7ff; text-decoration-color: #00d7ff\">None</span>, <span style=\"color: #00af00; text-decoration-color: #00af00\">3072</span>)           │        <span style=\"color: #00af00; text-decoration-color: #00af00\">12,288</span> │\n",
       "│ (<span style=\"color: #0087ff; text-decoration-color: #0087ff\">BatchNormalization</span>)            │                        │               │\n",
       "├─────────────────────────────────┼────────────────────────┼───────────────┤\n",
       "│ dense (<span style=\"color: #0087ff; text-decoration-color: #0087ff\">Dense</span>)                   │ (<span style=\"color: #00d7ff; text-decoration-color: #00d7ff\">None</span>, <span style=\"color: #00af00; text-decoration-color: #00af00\">1536</span>)           │     <span style=\"color: #00af00; text-decoration-color: #00af00\">4,720,128</span> │\n",
       "├─────────────────────────────────┼────────────────────────┼───────────────┤\n",
       "│ batch_normalization_1           │ (<span style=\"color: #00d7ff; text-decoration-color: #00d7ff\">None</span>, <span style=\"color: #00af00; text-decoration-color: #00af00\">1536</span>)           │         <span style=\"color: #00af00; text-decoration-color: #00af00\">6,144</span> │\n",
       "│ (<span style=\"color: #0087ff; text-decoration-color: #0087ff\">BatchNormalization</span>)            │                        │               │\n",
       "├─────────────────────────────────┼────────────────────────┼───────────────┤\n",
       "│ dropout (<span style=\"color: #0087ff; text-decoration-color: #0087ff\">Dropout</span>)               │ (<span style=\"color: #00d7ff; text-decoration-color: #00d7ff\">None</span>, <span style=\"color: #00af00; text-decoration-color: #00af00\">1536</span>)           │             <span style=\"color: #00af00; text-decoration-color: #00af00\">0</span> │\n",
       "├─────────────────────────────────┼────────────────────────┼───────────────┤\n",
       "│ dense_1 (<span style=\"color: #0087ff; text-decoration-color: #0087ff\">Dense</span>)                 │ (<span style=\"color: #00d7ff; text-decoration-color: #00d7ff\">None</span>, <span style=\"color: #00af00; text-decoration-color: #00af00\">100</span>)            │       <span style=\"color: #00af00; text-decoration-color: #00af00\">153,700</span> │\n",
       "└─────────────────────────────────┴────────────────────────┴───────────────┘\n",
       "</pre>\n"
      ],
      "text/plain": [
       "┏━━━━━━━━━━━━━━━━━━━━━━━━━━━━━━━━━┳━━━━━━━━━━━━━━━━━━━━━━━━┳━━━━━━━━━━━━━━━┓\n",
       "┃\u001b[1m \u001b[0m\u001b[1mLayer (type)                   \u001b[0m\u001b[1m \u001b[0m┃\u001b[1m \u001b[0m\u001b[1mOutput Shape          \u001b[0m\u001b[1m \u001b[0m┃\u001b[1m \u001b[0m\u001b[1m      Param #\u001b[0m\u001b[1m \u001b[0m┃\n",
       "┡━━━━━━━━━━━━━━━━━━━━━━━━━━━━━━━━━╇━━━━━━━━━━━━━━━━━━━━━━━━╇━━━━━━━━━━━━━━━┩\n",
       "│ flatten (\u001b[38;5;33mFlatten\u001b[0m)               │ (\u001b[38;5;45mNone\u001b[0m, \u001b[38;5;34m3072\u001b[0m)           │             \u001b[38;5;34m0\u001b[0m │\n",
       "├─────────────────────────────────┼────────────────────────┼───────────────┤\n",
       "│ batch_normalization             │ (\u001b[38;5;45mNone\u001b[0m, \u001b[38;5;34m3072\u001b[0m)           │        \u001b[38;5;34m12,288\u001b[0m │\n",
       "│ (\u001b[38;5;33mBatchNormalization\u001b[0m)            │                        │               │\n",
       "├─────────────────────────────────┼────────────────────────┼───────────────┤\n",
       "│ dense (\u001b[38;5;33mDense\u001b[0m)                   │ (\u001b[38;5;45mNone\u001b[0m, \u001b[38;5;34m1536\u001b[0m)           │     \u001b[38;5;34m4,720,128\u001b[0m │\n",
       "├─────────────────────────────────┼────────────────────────┼───────────────┤\n",
       "│ batch_normalization_1           │ (\u001b[38;5;45mNone\u001b[0m, \u001b[38;5;34m1536\u001b[0m)           │         \u001b[38;5;34m6,144\u001b[0m │\n",
       "│ (\u001b[38;5;33mBatchNormalization\u001b[0m)            │                        │               │\n",
       "├─────────────────────────────────┼────────────────────────┼───────────────┤\n",
       "│ dropout (\u001b[38;5;33mDropout\u001b[0m)               │ (\u001b[38;5;45mNone\u001b[0m, \u001b[38;5;34m1536\u001b[0m)           │             \u001b[38;5;34m0\u001b[0m │\n",
       "├─────────────────────────────────┼────────────────────────┼───────────────┤\n",
       "│ dense_1 (\u001b[38;5;33mDense\u001b[0m)                 │ (\u001b[38;5;45mNone\u001b[0m, \u001b[38;5;34m100\u001b[0m)            │       \u001b[38;5;34m153,700\u001b[0m │\n",
       "└─────────────────────────────────┴────────────────────────┴───────────────┘\n"
      ]
     },
     "metadata": {},
     "output_type": "display_data"
    },
    {
     "data": {
      "text/html": [
       "<pre style=\"white-space:pre;overflow-x:auto;line-height:normal;font-family:Menlo,'DejaVu Sans Mono',consolas,'Courier New',monospace\"><span style=\"font-weight: bold\"> Total params: </span><span style=\"color: #00af00; text-decoration-color: #00af00\">4,892,260</span> (18.66 MB)\n",
       "</pre>\n"
      ],
      "text/plain": [
       "\u001b[1m Total params: \u001b[0m\u001b[38;5;34m4,892,260\u001b[0m (18.66 MB)\n"
      ]
     },
     "metadata": {},
     "output_type": "display_data"
    },
    {
     "data": {
      "text/html": [
       "<pre style=\"white-space:pre;overflow-x:auto;line-height:normal;font-family:Menlo,'DejaVu Sans Mono',consolas,'Courier New',monospace\"><span style=\"font-weight: bold\"> Trainable params: </span><span style=\"color: #00af00; text-decoration-color: #00af00\">4,883,044</span> (18.63 MB)\n",
       "</pre>\n"
      ],
      "text/plain": [
       "\u001b[1m Trainable params: \u001b[0m\u001b[38;5;34m4,883,044\u001b[0m (18.63 MB)\n"
      ]
     },
     "metadata": {},
     "output_type": "display_data"
    },
    {
     "data": {
      "text/html": [
       "<pre style=\"white-space:pre;overflow-x:auto;line-height:normal;font-family:Menlo,'DejaVu Sans Mono',consolas,'Courier New',monospace\"><span style=\"font-weight: bold\"> Non-trainable params: </span><span style=\"color: #00af00; text-decoration-color: #00af00\">9,216</span> (36.00 KB)\n",
       "</pre>\n"
      ],
      "text/plain": [
       "\u001b[1m Non-trainable params: \u001b[0m\u001b[38;5;34m9,216\u001b[0m (36.00 KB)\n"
      ]
     },
     "metadata": {},
     "output_type": "display_data"
    }
   ],
   "source": [
    "model.summary()"
   ]
  },
  {
   "cell_type": "code",
   "execution_count": 13,
   "id": "c721b055",
   "metadata": {
    "execution": {
     "iopub.execute_input": "2024-06-29T23:24:05.412183Z",
     "iopub.status.busy": "2024-06-29T23:24:05.411907Z",
     "iopub.status.idle": "2024-06-29T23:24:05.416051Z",
     "shell.execute_reply": "2024-06-29T23:24:05.415222Z"
    },
    "papermill": {
     "duration": 0.016675,
     "end_time": "2024-06-29T23:24:05.417964",
     "exception": false,
     "start_time": "2024-06-29T23:24:05.401289",
     "status": "completed"
    },
    "tags": []
   },
   "outputs": [],
   "source": [
    "rlrop = ReduceLROnPlateau(\n",
    "    monitor = \"val_accuracy\",\n",
    "    factor = 0.5,\n",
    "    patience = 2,\n",
    "    verbose = 1,\n",
    "    min_lr = 1e-7, \n",
    ")\n"
   ]
  },
  {
   "cell_type": "code",
   "execution_count": 14,
   "id": "341efb55",
   "metadata": {
    "execution": {
     "iopub.execute_input": "2024-06-29T23:24:05.438536Z",
     "iopub.status.busy": "2024-06-29T23:24:05.438294Z",
     "iopub.status.idle": "2024-06-29T23:24:05.442652Z",
     "shell.execute_reply": "2024-06-29T23:24:05.441531Z"
    },
    "papermill": {
     "duration": 0.016825,
     "end_time": "2024-06-29T23:24:05.444556",
     "exception": false,
     "start_time": "2024-06-29T23:24:05.427731",
     "status": "completed"
    },
    "tags": []
   },
   "outputs": [],
   "source": [
    "mc = ModelCheckpoint(\n",
    "    \"best.weights.h5\",\n",
    "    monitor = \"val_accuracy\",\n",
    "    verbose = 1,\n",
    "    save_best_only = True,\n",
    "    save_weights_only = True,\n",
    ")"
   ]
  },
  {
   "cell_type": "code",
   "execution_count": 15,
   "id": "1251c18d",
   "metadata": {
    "execution": {
     "iopub.execute_input": "2024-06-29T23:24:05.465562Z",
     "iopub.status.busy": "2024-06-29T23:24:05.464853Z",
     "iopub.status.idle": "2024-06-29T23:24:05.469093Z",
     "shell.execute_reply": "2024-06-29T23:24:05.468248Z"
    },
    "papermill": {
     "duration": 0.016582,
     "end_time": "2024-06-29T23:24:05.470979",
     "exception": false,
     "start_time": "2024-06-29T23:24:05.454397",
     "status": "completed"
    },
    "tags": []
   },
   "outputs": [],
   "source": [
    "es = EarlyStopping(\n",
    "    monitor = \"val_accuracy\",\n",
    "    patience = 8, \n",
    "    verbose = 1,\n",
    "    restore_best_weights = True,\n",
    ")"
   ]
  },
  {
   "cell_type": "code",
   "execution_count": 16,
   "id": "33be9202",
   "metadata": {
    "execution": {
     "iopub.execute_input": "2024-06-29T23:24:05.491361Z",
     "iopub.status.busy": "2024-06-29T23:24:05.491082Z",
     "iopub.status.idle": "2024-06-29T23:24:05.737784Z",
     "shell.execute_reply": "2024-06-29T23:24:05.736641Z"
    },
    "papermill": {
     "duration": 0.259674,
     "end_time": "2024-06-29T23:24:05.740294",
     "exception": false,
     "start_time": "2024-06-29T23:24:05.480620",
     "status": "completed"
    },
    "tags": []
   },
   "outputs": [],
   "source": [
    "data_val = ImageDataGenerator(validation_split = 0.2)\n",
    "\n",
    "data_train = ImageDataGenerator(\n",
    "    zoom_range = 0.2,\n",
    "    horizontal_flip = True,\n",
    "    validation_split = 0.2)\n",
    "\n",
    "train_data = data_train.flow(x_train, y_train_fine, batch_size=64, subset='training')\n",
    "val_data = data_val.flow(x_train, y_train_fine, batch_size=64, subset='validation')\n"
   ]
  },
  {
   "cell_type": "code",
   "execution_count": 17,
   "id": "4bcbf5b4",
   "metadata": {
    "execution": {
     "iopub.execute_input": "2024-06-29T23:24:05.761985Z",
     "iopub.status.busy": "2024-06-29T23:24:05.761667Z",
     "iopub.status.idle": "2024-06-29T23:24:05.765588Z",
     "shell.execute_reply": "2024-06-29T23:24:05.764806Z"
    },
    "papermill": {
     "duration": 0.017078,
     "end_time": "2024-06-29T23:24:05.767642",
     "exception": false,
     "start_time": "2024-06-29T23:24:05.750564",
     "status": "completed"
    },
    "tags": []
   },
   "outputs": [],
   "source": [
    "tb = TensorBoard(\n",
    "    log_dir=\"logs\",\n",
    ")"
   ]
  },
  {
   "cell_type": "code",
   "execution_count": 18,
   "id": "c9b1ac22",
   "metadata": {
    "execution": {
     "iopub.execute_input": "2024-06-29T23:24:05.789112Z",
     "iopub.status.busy": "2024-06-29T23:24:05.788294Z",
     "iopub.status.idle": "2024-06-29T23:44:14.951710Z",
     "shell.execute_reply": "2024-06-29T23:44:14.950661Z"
    },
    "papermill": {
     "duration": 1209.214762,
     "end_time": "2024-06-29T23:44:14.992317",
     "exception": false,
     "start_time": "2024-06-29T23:24:05.777555",
     "status": "completed"
    },
    "tags": []
   },
   "outputs": [
    {
     "name": "stdout",
     "output_type": "stream",
     "text": [
      "Epoch 1/200\n"
     ]
    },
    {
     "name": "stderr",
     "output_type": "stream",
     "text": [
      "/opt/conda/lib/python3.10/site-packages/keras/src/trainers/data_adapters/py_dataset_adapter.py:120: UserWarning: Your `PyDataset` class should call `super().__init__(**kwargs)` in its constructor. `**kwargs` can include `workers`, `use_multiprocessing`, `max_queue_size`. Do not pass these arguments to `fit()`, as they will be ignored.\n",
      "  self._warn_if_super_not_called()\n"
     ]
    },
    {
     "name": "stdout",
     "output_type": "stream",
     "text": [
      "\u001b[1m  6/625\u001b[0m \u001b[37m━━━━━━━━━━━━━━━━━━━━\u001b[0m \u001b[1m15s\u001b[0m 25ms/step - accuracy: 0.0282 - loss: 6.8072"
     ]
    },
    {
     "name": "stderr",
     "output_type": "stream",
     "text": [
      "WARNING: All log messages before absl::InitializeLog() is called are written to STDERR\n",
      "I0000 00:00:1719703450.933490      69 device_compiler.h:186] Compiled cluster using XLA!  This line is logged at most once for the lifetime of the process.\n"
     ]
    },
    {
     "name": "stdout",
     "output_type": "stream",
     "text": [
      "\u001b[1m625/625\u001b[0m \u001b[32m━━━━━━━━━━━━━━━━━━━━\u001b[0m\u001b[37m\u001b[0m \u001b[1m0s\u001b[0m 30ms/step - accuracy: 0.0704 - loss: 5.0282\n",
      "Epoch 1: val_accuracy improved from -inf to 0.14460, saving model to best.weights.h5\n",
      "\u001b[1m625/625\u001b[0m \u001b[32m━━━━━━━━━━━━━━━━━━━━\u001b[0m\u001b[37m\u001b[0m \u001b[1m25s\u001b[0m 33ms/step - accuracy: 0.0705 - loss: 5.0277 - val_accuracy: 0.1446 - val_loss: 3.9111 - learning_rate: 0.0010\n",
      "Epoch 2/200\n",
      "\u001b[1m623/625\u001b[0m \u001b[32m━━━━━━━━━━━━━━━━━━━\u001b[0m\u001b[37m━\u001b[0m \u001b[1m0s\u001b[0m 30ms/step - accuracy: 0.1089 - loss: 4.2627\n",
      "Epoch 2: val_accuracy improved from 0.14460 to 0.16110, saving model to best.weights.h5\n",
      "\u001b[1m625/625\u001b[0m \u001b[32m━━━━━━━━━━━━━━━━━━━━\u001b[0m\u001b[37m\u001b[0m \u001b[1m20s\u001b[0m 31ms/step - accuracy: 0.1089 - loss: 4.2623 - val_accuracy: 0.1611 - val_loss: 3.7416 - learning_rate: 0.0010\n",
      "Epoch 3/200\n",
      "\u001b[1m624/625\u001b[0m \u001b[32m━━━━━━━━━━━━━━━━━━━\u001b[0m\u001b[37m━\u001b[0m \u001b[1m0s\u001b[0m 30ms/step - accuracy: 0.1321 - loss: 3.9669\n",
      "Epoch 3: val_accuracy improved from 0.16110 to 0.16940, saving model to best.weights.h5\n",
      "\u001b[1m625/625\u001b[0m \u001b[32m━━━━━━━━━━━━━━━━━━━━\u001b[0m\u001b[37m\u001b[0m \u001b[1m19s\u001b[0m 31ms/step - accuracy: 0.1321 - loss: 3.9668 - val_accuracy: 0.1694 - val_loss: 3.6037 - learning_rate: 0.0010\n",
      "Epoch 4/200\n",
      "\u001b[1m618/625\u001b[0m \u001b[32m━━━━━━━━━━━━━━━━━━━\u001b[0m\u001b[37m━\u001b[0m \u001b[1m0s\u001b[0m 30ms/step - accuracy: 0.1474 - loss: 3.8016\n",
      "Epoch 4: val_accuracy improved from 0.16940 to 0.18950, saving model to best.weights.h5\n",
      "\u001b[1m625/625\u001b[0m \u001b[32m━━━━━━━━━━━━━━━━━━━━\u001b[0m\u001b[37m\u001b[0m \u001b[1m20s\u001b[0m 31ms/step - accuracy: 0.1474 - loss: 3.8014 - val_accuracy: 0.1895 - val_loss: 3.4895 - learning_rate: 0.0010\n",
      "Epoch 5/200\n",
      "\u001b[1m624/625\u001b[0m \u001b[32m━━━━━━━━━━━━━━━━━━━\u001b[0m\u001b[37m━\u001b[0m \u001b[1m0s\u001b[0m 30ms/step - accuracy: 0.1552 - loss: 3.6818\n",
      "Epoch 5: val_accuracy improved from 0.18950 to 0.20200, saving model to best.weights.h5\n",
      "\u001b[1m625/625\u001b[0m \u001b[32m━━━━━━━━━━━━━━━━━━━━\u001b[0m\u001b[37m\u001b[0m \u001b[1m20s\u001b[0m 31ms/step - accuracy: 0.1552 - loss: 3.6818 - val_accuracy: 0.2020 - val_loss: 3.4295 - learning_rate: 0.0010\n",
      "Epoch 6/200\n",
      "\u001b[1m624/625\u001b[0m \u001b[32m━━━━━━━━━━━━━━━━━━━\u001b[0m\u001b[37m━\u001b[0m \u001b[1m0s\u001b[0m 30ms/step - accuracy: 0.1706 - loss: 3.5641\n",
      "Epoch 6: val_accuracy improved from 0.20200 to 0.20740, saving model to best.weights.h5\n",
      "\u001b[1m625/625\u001b[0m \u001b[32m━━━━━━━━━━━━━━━━━━━━\u001b[0m\u001b[37m\u001b[0m \u001b[1m20s\u001b[0m 31ms/step - accuracy: 0.1706 - loss: 3.5641 - val_accuracy: 0.2074 - val_loss: 3.3832 - learning_rate: 0.0010\n",
      "Epoch 7/200\n",
      "\u001b[1m624/625\u001b[0m \u001b[32m━━━━━━━━━━━━━━━━━━━\u001b[0m\u001b[37m━\u001b[0m \u001b[1m0s\u001b[0m 30ms/step - accuracy: 0.1806 - loss: 3.5108\n",
      "Epoch 7: val_accuracy improved from 0.20740 to 0.21460, saving model to best.weights.h5\n",
      "\u001b[1m625/625\u001b[0m \u001b[32m━━━━━━━━━━━━━━━━━━━━\u001b[0m\u001b[37m\u001b[0m \u001b[1m20s\u001b[0m 31ms/step - accuracy: 0.1806 - loss: 3.5108 - val_accuracy: 0.2146 - val_loss: 3.3270 - learning_rate: 0.0010\n",
      "Epoch 8/200\n",
      "\u001b[1m624/625\u001b[0m \u001b[32m━━━━━━━━━━━━━━━━━━━\u001b[0m\u001b[37m━\u001b[0m \u001b[1m0s\u001b[0m 30ms/step - accuracy: 0.1894 - loss: 3.4506\n",
      "Epoch 8: val_accuracy did not improve from 0.21460\n",
      "\u001b[1m625/625\u001b[0m \u001b[32m━━━━━━━━━━━━━━━━━━━━\u001b[0m\u001b[37m\u001b[0m \u001b[1m19s\u001b[0m 30ms/step - accuracy: 0.1894 - loss: 3.4507 - val_accuracy: 0.2136 - val_loss: 3.3015 - learning_rate: 0.0010\n",
      "Epoch 9/200\n",
      "\u001b[1m624/625\u001b[0m \u001b[32m━━━━━━━━━━━━━━━━━━━\u001b[0m\u001b[37m━\u001b[0m \u001b[1m0s\u001b[0m 29ms/step - accuracy: 0.1947 - loss: 3.4034\n",
      "Epoch 9: val_accuracy improved from 0.21460 to 0.22620, saving model to best.weights.h5\n",
      "\u001b[1m625/625\u001b[0m \u001b[32m━━━━━━━━━━━━━━━━━━━━\u001b[0m\u001b[37m\u001b[0m \u001b[1m19s\u001b[0m 31ms/step - accuracy: 0.1947 - loss: 3.4034 - val_accuracy: 0.2262 - val_loss: 3.2534 - learning_rate: 0.0010\n",
      "Epoch 10/200\n",
      "\u001b[1m624/625\u001b[0m \u001b[32m━━━━━━━━━━━━━━━━━━━\u001b[0m\u001b[37m━\u001b[0m \u001b[1m0s\u001b[0m 29ms/step - accuracy: 0.2022 - loss: 3.3674\n",
      "Epoch 10: val_accuracy improved from 0.22620 to 0.23160, saving model to best.weights.h5\n",
      "\u001b[1m625/625\u001b[0m \u001b[32m━━━━━━━━━━━━━━━━━━━━\u001b[0m\u001b[37m\u001b[0m \u001b[1m19s\u001b[0m 31ms/step - accuracy: 0.2022 - loss: 3.3674 - val_accuracy: 0.2316 - val_loss: 3.2382 - learning_rate: 0.0010\n",
      "Epoch 11/200\n",
      "\u001b[1m624/625\u001b[0m \u001b[32m━━━━━━━━━━━━━━━━━━━\u001b[0m\u001b[37m━\u001b[0m \u001b[1m0s\u001b[0m 30ms/step - accuracy: 0.2087 - loss: 3.3378\n",
      "Epoch 11: val_accuracy improved from 0.23160 to 0.24380, saving model to best.weights.h5\n",
      "\u001b[1m625/625\u001b[0m \u001b[32m━━━━━━━━━━━━━━━━━━━━\u001b[0m\u001b[37m\u001b[0m \u001b[1m20s\u001b[0m 31ms/step - accuracy: 0.2087 - loss: 3.3378 - val_accuracy: 0.2438 - val_loss: 3.2067 - learning_rate: 0.0010\n",
      "Epoch 12/200\n",
      "\u001b[1m624/625\u001b[0m \u001b[32m━━━━━━━━━━━━━━━━━━━\u001b[0m\u001b[37m━\u001b[0m \u001b[1m0s\u001b[0m 29ms/step - accuracy: 0.2127 - loss: 3.3047\n",
      "Epoch 12: val_accuracy did not improve from 0.24380\n",
      "\u001b[1m625/625\u001b[0m \u001b[32m━━━━━━━━━━━━━━━━━━━━\u001b[0m\u001b[37m\u001b[0m \u001b[1m19s\u001b[0m 30ms/step - accuracy: 0.2127 - loss: 3.3048 - val_accuracy: 0.2378 - val_loss: 3.2024 - learning_rate: 0.0010\n",
      "Epoch 13/200\n",
      "\u001b[1m624/625\u001b[0m \u001b[32m━━━━━━━━━━━━━━━━━━━\u001b[0m\u001b[37m━\u001b[0m \u001b[1m0s\u001b[0m 30ms/step - accuracy: 0.2223 - loss: 3.2753\n",
      "Epoch 13: val_accuracy improved from 0.24380 to 0.24770, saving model to best.weights.h5\n",
      "\u001b[1m625/625\u001b[0m \u001b[32m━━━━━━━━━━━━━━━━━━━━\u001b[0m\u001b[37m\u001b[0m \u001b[1m20s\u001b[0m 31ms/step - accuracy: 0.2223 - loss: 3.2753 - val_accuracy: 0.2477 - val_loss: 3.1684 - learning_rate: 0.0010\n",
      "Epoch 14/200\n",
      "\u001b[1m618/625\u001b[0m \u001b[32m━━━━━━━━━━━━━━━━━━━\u001b[0m\u001b[37m━\u001b[0m \u001b[1m0s\u001b[0m 30ms/step - accuracy: 0.2215 - loss: 3.2613\n",
      "Epoch 14: val_accuracy did not improve from 0.24770\n",
      "\u001b[1m625/625\u001b[0m \u001b[32m━━━━━━━━━━━━━━━━━━━━\u001b[0m\u001b[37m\u001b[0m \u001b[1m20s\u001b[0m 31ms/step - accuracy: 0.2215 - loss: 3.2614 - val_accuracy: 0.2444 - val_loss: 3.1804 - learning_rate: 0.0010\n",
      "Epoch 15/200\n",
      "\u001b[1m624/625\u001b[0m \u001b[32m━━━━━━━━━━━━━━━━━━━\u001b[0m\u001b[37m━\u001b[0m \u001b[1m0s\u001b[0m 29ms/step - accuracy: 0.2246 - loss: 3.2291\n",
      "Epoch 15: val_accuracy improved from 0.24770 to 0.24920, saving model to best.weights.h5\n",
      "\u001b[1m625/625\u001b[0m \u001b[32m━━━━━━━━━━━━━━━━━━━━\u001b[0m\u001b[37m\u001b[0m \u001b[1m19s\u001b[0m 31ms/step - accuracy: 0.2246 - loss: 3.2292 - val_accuracy: 0.2492 - val_loss: 3.1512 - learning_rate: 0.0010\n",
      "Epoch 16/200\n",
      "\u001b[1m624/625\u001b[0m \u001b[32m━━━━━━━━━━━━━━━━━━━\u001b[0m\u001b[37m━\u001b[0m \u001b[1m0s\u001b[0m 29ms/step - accuracy: 0.2344 - loss: 3.2053\n",
      "Epoch 16: val_accuracy improved from 0.24920 to 0.25190, saving model to best.weights.h5\n",
      "\u001b[1m625/625\u001b[0m \u001b[32m━━━━━━━━━━━━━━━━━━━━\u001b[0m\u001b[37m\u001b[0m \u001b[1m19s\u001b[0m 31ms/step - accuracy: 0.2344 - loss: 3.2054 - val_accuracy: 0.2519 - val_loss: 3.1297 - learning_rate: 0.0010\n",
      "Epoch 17/200\n",
      "\u001b[1m624/625\u001b[0m \u001b[32m━━━━━━━━━━━━━━━━━━━\u001b[0m\u001b[37m━\u001b[0m \u001b[1m0s\u001b[0m 29ms/step - accuracy: 0.2332 - loss: 3.1970\n",
      "Epoch 17: val_accuracy improved from 0.25190 to 0.25330, saving model to best.weights.h5\n",
      "\u001b[1m625/625\u001b[0m \u001b[32m━━━━━━━━━━━━━━━━━━━━\u001b[0m\u001b[37m\u001b[0m \u001b[1m19s\u001b[0m 31ms/step - accuracy: 0.2332 - loss: 3.1970 - val_accuracy: 0.2533 - val_loss: 3.1260 - learning_rate: 0.0010\n",
      "Epoch 18/200\n",
      "\u001b[1m624/625\u001b[0m \u001b[32m━━━━━━━━━━━━━━━━━━━\u001b[0m\u001b[37m━\u001b[0m \u001b[1m0s\u001b[0m 29ms/step - accuracy: 0.2393 - loss: 3.1813\n",
      "Epoch 18: val_accuracy improved from 0.25330 to 0.26380, saving model to best.weights.h5\n",
      "\u001b[1m625/625\u001b[0m \u001b[32m━━━━━━━━━━━━━━━━━━━━\u001b[0m\u001b[37m\u001b[0m \u001b[1m19s\u001b[0m 30ms/step - accuracy: 0.2393 - loss: 3.1814 - val_accuracy: 0.2638 - val_loss: 3.1093 - learning_rate: 0.0010\n",
      "Epoch 19/200\n",
      "\u001b[1m624/625\u001b[0m \u001b[32m━━━━━━━━━━━━━━━━━━━\u001b[0m\u001b[37m━\u001b[0m \u001b[1m0s\u001b[0m 29ms/step - accuracy: 0.2380 - loss: 3.1587\n",
      "Epoch 19: val_accuracy did not improve from 0.26380\n",
      "\u001b[1m625/625\u001b[0m \u001b[32m━━━━━━━━━━━━━━━━━━━━\u001b[0m\u001b[37m\u001b[0m \u001b[1m19s\u001b[0m 30ms/step - accuracy: 0.2380 - loss: 3.1587 - val_accuracy: 0.2573 - val_loss: 3.1037 - learning_rate: 0.0010\n",
      "Epoch 20/200\n",
      "\u001b[1m618/625\u001b[0m \u001b[32m━━━━━━━━━━━━━━━━━━━\u001b[0m\u001b[37m━\u001b[0m \u001b[1m0s\u001b[0m 30ms/step - accuracy: 0.2443 - loss: 3.1304\n",
      "Epoch 20: val_accuracy improved from 0.26380 to 0.26700, saving model to best.weights.h5\n",
      "\u001b[1m625/625\u001b[0m \u001b[32m━━━━━━━━━━━━━━━━━━━━\u001b[0m\u001b[37m\u001b[0m \u001b[1m19s\u001b[0m 31ms/step - accuracy: 0.2443 - loss: 3.1307 - val_accuracy: 0.2670 - val_loss: 3.0852 - learning_rate: 0.0010\n",
      "Epoch 21/200\n",
      "\u001b[1m625/625\u001b[0m \u001b[32m━━━━━━━━━━━━━━━━━━━━\u001b[0m\u001b[37m\u001b[0m \u001b[1m0s\u001b[0m 29ms/step - accuracy: 0.2468 - loss: 3.1274\n",
      "Epoch 21: val_accuracy did not improve from 0.26700\n",
      "\u001b[1m625/625\u001b[0m \u001b[32m━━━━━━━━━━━━━━━━━━━━\u001b[0m\u001b[37m\u001b[0m \u001b[1m19s\u001b[0m 30ms/step - accuracy: 0.2468 - loss: 3.1274 - val_accuracy: 0.2664 - val_loss: 3.0776 - learning_rate: 0.0010\n",
      "Epoch 22/200\n",
      "\u001b[1m625/625\u001b[0m \u001b[32m━━━━━━━━━━━━━━━━━━━━\u001b[0m\u001b[37m\u001b[0m \u001b[1m0s\u001b[0m 29ms/step - accuracy: 0.2461 - loss: 3.1242\n",
      "Epoch 22: ReduceLROnPlateau reducing learning rate to 0.0005000000237487257.\n",
      "\n",
      "Epoch 22: val_accuracy did not improve from 0.26700\n",
      "\u001b[1m625/625\u001b[0m \u001b[32m━━━━━━━━━━━━━━━━━━━━\u001b[0m\u001b[37m\u001b[0m \u001b[1m19s\u001b[0m 30ms/step - accuracy: 0.2461 - loss: 3.1243 - val_accuracy: 0.2642 - val_loss: 3.0780 - learning_rate: 0.0010\n",
      "Epoch 23/200\n",
      "\u001b[1m618/625\u001b[0m \u001b[32m━━━━━━━━━━━━━━━━━━━\u001b[0m\u001b[37m━\u001b[0m \u001b[1m0s\u001b[0m 29ms/step - accuracy: 0.2623 - loss: 3.0659\n",
      "Epoch 23: val_accuracy improved from 0.26700 to 0.28140, saving model to best.weights.h5\n",
      "\u001b[1m625/625\u001b[0m \u001b[32m━━━━━━━━━━━━━━━━━━━━\u001b[0m\u001b[37m\u001b[0m \u001b[1m19s\u001b[0m 30ms/step - accuracy: 0.2623 - loss: 3.0659 - val_accuracy: 0.2814 - val_loss: 3.0146 - learning_rate: 5.0000e-04\n",
      "Epoch 24/200\n",
      "\u001b[1m625/625\u001b[0m \u001b[32m━━━━━━━━━━━━━━━━━━━━\u001b[0m\u001b[37m\u001b[0m \u001b[1m0s\u001b[0m 29ms/step - accuracy: 0.2644 - loss: 3.0313\n",
      "Epoch 24: val_accuracy did not improve from 0.28140\n",
      "\u001b[1m625/625\u001b[0m \u001b[32m━━━━━━━━━━━━━━━━━━━━\u001b[0m\u001b[37m\u001b[0m \u001b[1m19s\u001b[0m 30ms/step - accuracy: 0.2644 - loss: 3.0313 - val_accuracy: 0.2805 - val_loss: 3.0060 - learning_rate: 5.0000e-04\n",
      "Epoch 25/200\n",
      "\u001b[1m625/625\u001b[0m \u001b[32m━━━━━━━━━━━━━━━━━━━━\u001b[0m\u001b[37m\u001b[0m \u001b[1m0s\u001b[0m 29ms/step - accuracy: 0.2691 - loss: 3.0134\n",
      "Epoch 25: val_accuracy improved from 0.28140 to 0.28560, saving model to best.weights.h5\n",
      "\u001b[1m625/625\u001b[0m \u001b[32m━━━━━━━━━━━━━━━━━━━━\u001b[0m\u001b[37m\u001b[0m \u001b[1m19s\u001b[0m 30ms/step - accuracy: 0.2691 - loss: 3.0134 - val_accuracy: 0.2856 - val_loss: 2.9922 - learning_rate: 5.0000e-04\n",
      "Epoch 26/200\n",
      "\u001b[1m618/625\u001b[0m \u001b[32m━━━━━━━━━━━━━━━━━━━\u001b[0m\u001b[37m━\u001b[0m \u001b[1m0s\u001b[0m 29ms/step - accuracy: 0.2721 - loss: 3.0025\n",
      "Epoch 26: val_accuracy did not improve from 0.28560\n",
      "\u001b[1m625/625\u001b[0m \u001b[32m━━━━━━━━━━━━━━━━━━━━\u001b[0m\u001b[37m\u001b[0m \u001b[1m19s\u001b[0m 30ms/step - accuracy: 0.2721 - loss: 3.0027 - val_accuracy: 0.2852 - val_loss: 2.9828 - learning_rate: 5.0000e-04\n",
      "Epoch 27/200\n",
      "\u001b[1m618/625\u001b[0m \u001b[32m━━━━━━━━━━━━━━━━━━━\u001b[0m\u001b[37m━\u001b[0m \u001b[1m0s\u001b[0m 30ms/step - accuracy: 0.2697 - loss: 2.9971\n",
      "Epoch 27: val_accuracy improved from 0.28560 to 0.28990, saving model to best.weights.h5\n",
      "\u001b[1m625/625\u001b[0m \u001b[32m━━━━━━━━━━━━━━━━━━━━\u001b[0m\u001b[37m\u001b[0m \u001b[1m19s\u001b[0m 31ms/step - accuracy: 0.2697 - loss: 2.9973 - val_accuracy: 0.2899 - val_loss: 2.9839 - learning_rate: 5.0000e-04\n",
      "Epoch 28/200\n",
      "\u001b[1m618/625\u001b[0m \u001b[32m━━━━━━━━━━━━━━━━━━━\u001b[0m\u001b[37m━\u001b[0m \u001b[1m0s\u001b[0m 30ms/step - accuracy: 0.2732 - loss: 2.9753\n",
      "Epoch 28: val_accuracy did not improve from 0.28990\n",
      "\u001b[1m625/625\u001b[0m \u001b[32m━━━━━━━━━━━━━━━━━━━━\u001b[0m\u001b[37m\u001b[0m \u001b[1m19s\u001b[0m 30ms/step - accuracy: 0.2732 - loss: 2.9756 - val_accuracy: 0.2853 - val_loss: 2.9697 - learning_rate: 5.0000e-04\n",
      "Epoch 29/200\n",
      "\u001b[1m624/625\u001b[0m \u001b[32m━━━━━━━━━━━━━━━━━━━\u001b[0m\u001b[37m━\u001b[0m \u001b[1m0s\u001b[0m 30ms/step - accuracy: 0.2774 - loss: 2.9710\n",
      "Epoch 29: val_accuracy improved from 0.28990 to 0.29020, saving model to best.weights.h5\n",
      "\u001b[1m625/625\u001b[0m \u001b[32m━━━━━━━━━━━━━━━━━━━━\u001b[0m\u001b[37m\u001b[0m \u001b[1m20s\u001b[0m 31ms/step - accuracy: 0.2774 - loss: 2.9710 - val_accuracy: 0.2902 - val_loss: 2.9737 - learning_rate: 5.0000e-04\n",
      "Epoch 30/200\n",
      "\u001b[1m625/625\u001b[0m \u001b[32m━━━━━━━━━━━━━━━━━━━━\u001b[0m\u001b[37m\u001b[0m \u001b[1m0s\u001b[0m 30ms/step - accuracy: 0.2759 - loss: 2.9688\n",
      "Epoch 30: val_accuracy did not improve from 0.29020\n",
      "\u001b[1m625/625\u001b[0m \u001b[32m━━━━━━━━━━━━━━━━━━━━\u001b[0m\u001b[37m\u001b[0m \u001b[1m19s\u001b[0m 31ms/step - accuracy: 0.2759 - loss: 2.9688 - val_accuracy: 0.2888 - val_loss: 2.9674 - learning_rate: 5.0000e-04\n",
      "Epoch 31/200\n",
      "\u001b[1m624/625\u001b[0m \u001b[32m━━━━━━━━━━━━━━━━━━━\u001b[0m\u001b[37m━\u001b[0m \u001b[1m0s\u001b[0m 29ms/step - accuracy: 0.2783 - loss: 2.9588\n",
      "Epoch 31: val_accuracy improved from 0.29020 to 0.29070, saving model to best.weights.h5\n",
      "\u001b[1m625/625\u001b[0m \u001b[32m━━━━━━━━━━━━━━━━━━━━\u001b[0m\u001b[37m\u001b[0m \u001b[1m19s\u001b[0m 30ms/step - accuracy: 0.2783 - loss: 2.9588 - val_accuracy: 0.2907 - val_loss: 2.9577 - learning_rate: 5.0000e-04\n",
      "Epoch 32/200\n",
      "\u001b[1m625/625\u001b[0m \u001b[32m━━━━━━━━━━━━━━━━━━━━\u001b[0m\u001b[37m\u001b[0m \u001b[1m0s\u001b[0m 30ms/step - accuracy: 0.2847 - loss: 2.9458\n",
      "Epoch 32: val_accuracy improved from 0.29070 to 0.29400, saving model to best.weights.h5\n",
      "\u001b[1m625/625\u001b[0m \u001b[32m━━━━━━━━━━━━━━━━━━━━\u001b[0m\u001b[37m\u001b[0m \u001b[1m19s\u001b[0m 31ms/step - accuracy: 0.2847 - loss: 2.9458 - val_accuracy: 0.2940 - val_loss: 2.9577 - learning_rate: 5.0000e-04\n",
      "Epoch 33/200\n",
      "\u001b[1m618/625\u001b[0m \u001b[32m━━━━━━━━━━━━━━━━━━━\u001b[0m\u001b[37m━\u001b[0m \u001b[1m0s\u001b[0m 30ms/step - accuracy: 0.2785 - loss: 2.9515\n",
      "Epoch 33: val_accuracy did not improve from 0.29400\n",
      "\u001b[1m625/625\u001b[0m \u001b[32m━━━━━━━━━━━━━━━━━━━━\u001b[0m\u001b[37m\u001b[0m \u001b[1m19s\u001b[0m 31ms/step - accuracy: 0.2785 - loss: 2.9517 - val_accuracy: 0.2912 - val_loss: 2.9514 - learning_rate: 5.0000e-04\n",
      "Epoch 34/200\n",
      "\u001b[1m624/625\u001b[0m \u001b[32m━━━━━━━━━━━━━━━━━━━\u001b[0m\u001b[37m━\u001b[0m \u001b[1m0s\u001b[0m 29ms/step - accuracy: 0.2798 - loss: 2.9420\n",
      "Epoch 34: ReduceLROnPlateau reducing learning rate to 0.0002500000118743628.\n",
      "\n",
      "Epoch 34: val_accuracy did not improve from 0.29400\n",
      "\u001b[1m625/625\u001b[0m \u001b[32m━━━━━━━━━━━━━━━━━━━━\u001b[0m\u001b[37m\u001b[0m \u001b[1m19s\u001b[0m 30ms/step - accuracy: 0.2798 - loss: 2.9420 - val_accuracy: 0.2936 - val_loss: 2.9431 - learning_rate: 5.0000e-04\n",
      "Epoch 35/200\n",
      "\u001b[1m623/625\u001b[0m \u001b[32m━━━━━━━━━━━━━━━━━━━\u001b[0m\u001b[37m━\u001b[0m \u001b[1m0s\u001b[0m 31ms/step - accuracy: 0.2939 - loss: 2.8924\n",
      "Epoch 35: val_accuracy improved from 0.29400 to 0.29730, saving model to best.weights.h5\n",
      "\u001b[1m625/625\u001b[0m \u001b[32m━━━━━━━━━━━━━━━━━━━━\u001b[0m\u001b[37m\u001b[0m \u001b[1m20s\u001b[0m 32ms/step - accuracy: 0.2938 - loss: 2.8925 - val_accuracy: 0.2973 - val_loss: 2.9263 - learning_rate: 2.5000e-04\n",
      "Epoch 36/200\n",
      "\u001b[1m624/625\u001b[0m \u001b[32m━━━━━━━━━━━━━━━━━━━\u001b[0m\u001b[37m━\u001b[0m \u001b[1m0s\u001b[0m 30ms/step - accuracy: 0.2955 - loss: 2.8741\n",
      "Epoch 36: val_accuracy improved from 0.29730 to 0.29930, saving model to best.weights.h5\n",
      "\u001b[1m625/625\u001b[0m \u001b[32m━━━━━━━━━━━━━━━━━━━━\u001b[0m\u001b[37m\u001b[0m \u001b[1m19s\u001b[0m 31ms/step - accuracy: 0.2955 - loss: 2.8742 - val_accuracy: 0.2993 - val_loss: 2.9222 - learning_rate: 2.5000e-04\n",
      "Epoch 37/200\n",
      "\u001b[1m618/625\u001b[0m \u001b[32m━━━━━━━━━━━━━━━━━━━\u001b[0m\u001b[37m━\u001b[0m \u001b[1m0s\u001b[0m 30ms/step - accuracy: 0.2961 - loss: 2.8854\n",
      "Epoch 37: val_accuracy did not improve from 0.29930\n",
      "\u001b[1m625/625\u001b[0m \u001b[32m━━━━━━━━━━━━━━━━━━━━\u001b[0m\u001b[37m\u001b[0m \u001b[1m20s\u001b[0m 31ms/step - accuracy: 0.2960 - loss: 2.8855 - val_accuracy: 0.2989 - val_loss: 2.9191 - learning_rate: 2.5000e-04\n",
      "Epoch 38/200\n",
      "\u001b[1m618/625\u001b[0m \u001b[32m━━━━━━━━━━━━━━━━━━━\u001b[0m\u001b[37m━\u001b[0m \u001b[1m0s\u001b[0m 30ms/step - accuracy: 0.2995 - loss: 2.8590\n",
      "Epoch 38: ReduceLROnPlateau reducing learning rate to 0.0001250000059371814.\n",
      "\n",
      "Epoch 38: val_accuracy did not improve from 0.29930\n",
      "\u001b[1m625/625\u001b[0m \u001b[32m━━━━━━━━━━━━━━━━━━━━\u001b[0m\u001b[37m\u001b[0m \u001b[1m19s\u001b[0m 31ms/step - accuracy: 0.2994 - loss: 2.8592 - val_accuracy: 0.2970 - val_loss: 2.9152 - learning_rate: 2.5000e-04\n",
      "Epoch 39/200\n",
      "\u001b[1m624/625\u001b[0m \u001b[32m━━━━━━━━━━━━━━━━━━━\u001b[0m\u001b[37m━\u001b[0m \u001b[1m0s\u001b[0m 30ms/step - accuracy: 0.3037 - loss: 2.8456\n",
      "Epoch 39: val_accuracy improved from 0.29930 to 0.29970, saving model to best.weights.h5\n",
      "\u001b[1m625/625\u001b[0m \u001b[32m━━━━━━━━━━━━━━━━━━━━\u001b[0m\u001b[37m\u001b[0m \u001b[1m19s\u001b[0m 31ms/step - accuracy: 0.3037 - loss: 2.8456 - val_accuracy: 0.2997 - val_loss: 2.9061 - learning_rate: 1.2500e-04\n",
      "Epoch 40/200\n",
      "\u001b[1m618/625\u001b[0m \u001b[32m━━━━━━━━━━━━━━━━━━━\u001b[0m\u001b[37m━\u001b[0m \u001b[1m0s\u001b[0m 30ms/step - accuracy: 0.2981 - loss: 2.8668\n",
      "Epoch 40: val_accuracy improved from 0.29970 to 0.30310, saving model to best.weights.h5\n",
      "\u001b[1m625/625\u001b[0m \u001b[32m━━━━━━━━━━━━━━━━━━━━\u001b[0m\u001b[37m\u001b[0m \u001b[1m20s\u001b[0m 31ms/step - accuracy: 0.2982 - loss: 2.8668 - val_accuracy: 0.3031 - val_loss: 2.9039 - learning_rate: 1.2500e-04\n",
      "Epoch 41/200\n",
      "\u001b[1m625/625\u001b[0m \u001b[32m━━━━━━━━━━━━━━━━━━━━\u001b[0m\u001b[37m\u001b[0m \u001b[1m0s\u001b[0m 29ms/step - accuracy: 0.3070 - loss: 2.8468\n",
      "Epoch 41: val_accuracy did not improve from 0.30310\n",
      "\u001b[1m625/625\u001b[0m \u001b[32m━━━━━━━━━━━━━━━━━━━━\u001b[0m\u001b[37m\u001b[0m \u001b[1m19s\u001b[0m 30ms/step - accuracy: 0.3070 - loss: 2.8468 - val_accuracy: 0.3025 - val_loss: 2.9010 - learning_rate: 1.2500e-04\n",
      "Epoch 42/200\n",
      "\u001b[1m625/625\u001b[0m \u001b[32m━━━━━━━━━━━━━━━━━━━━\u001b[0m\u001b[37m\u001b[0m \u001b[1m0s\u001b[0m 29ms/step - accuracy: 0.3063 - loss: 2.8357\n",
      "Epoch 42: val_accuracy improved from 0.30310 to 0.30380, saving model to best.weights.h5\n",
      "\u001b[1m625/625\u001b[0m \u001b[32m━━━━━━━━━━━━━━━━━━━━\u001b[0m\u001b[37m\u001b[0m \u001b[1m20s\u001b[0m 30ms/step - accuracy: 0.3063 - loss: 2.8357 - val_accuracy: 0.3038 - val_loss: 2.9011 - learning_rate: 1.2500e-04\n",
      "Epoch 43/200\n",
      "\u001b[1m625/625\u001b[0m \u001b[32m━━━━━━━━━━━━━━━━━━━━\u001b[0m\u001b[37m\u001b[0m \u001b[1m0s\u001b[0m 29ms/step - accuracy: 0.3022 - loss: 2.8355\n",
      "Epoch 43: val_accuracy improved from 0.30380 to 0.30490, saving model to best.weights.h5\n",
      "\u001b[1m625/625\u001b[0m \u001b[32m━━━━━━━━━━━━━━━━━━━━\u001b[0m\u001b[37m\u001b[0m \u001b[1m19s\u001b[0m 30ms/step - accuracy: 0.3022 - loss: 2.8355 - val_accuracy: 0.3049 - val_loss: 2.8951 - learning_rate: 1.2500e-04\n",
      "Epoch 44/200\n",
      "\u001b[1m618/625\u001b[0m \u001b[32m━━━━━━━━━━━━━━━━━━━\u001b[0m\u001b[37m━\u001b[0m \u001b[1m0s\u001b[0m 29ms/step - accuracy: 0.3042 - loss: 2.8264\n",
      "Epoch 44: val_accuracy did not improve from 0.30490\n",
      "\u001b[1m625/625\u001b[0m \u001b[32m━━━━━━━━━━━━━━━━━━━━\u001b[0m\u001b[37m\u001b[0m \u001b[1m19s\u001b[0m 30ms/step - accuracy: 0.3042 - loss: 2.8265 - val_accuracy: 0.3031 - val_loss: 2.8949 - learning_rate: 1.2500e-04\n",
      "Epoch 45/200\n",
      "\u001b[1m622/625\u001b[0m \u001b[32m━━━━━━━━━━━━━━━━━━━\u001b[0m\u001b[37m━\u001b[0m \u001b[1m0s\u001b[0m 30ms/step - accuracy: 0.3049 - loss: 2.8476\n",
      "Epoch 45: ReduceLROnPlateau reducing learning rate to 6.25000029685907e-05.\n",
      "\n",
      "Epoch 45: val_accuracy did not improve from 0.30490\n",
      "\u001b[1m625/625\u001b[0m \u001b[32m━━━━━━━━━━━━━━━━━━━━\u001b[0m\u001b[37m\u001b[0m \u001b[1m20s\u001b[0m 31ms/step - accuracy: 0.3049 - loss: 2.8476 - val_accuracy: 0.3032 - val_loss: 2.8948 - learning_rate: 1.2500e-04\n",
      "Epoch 46/200\n",
      "\u001b[1m624/625\u001b[0m \u001b[32m━━━━━━━━━━━━━━━━━━━\u001b[0m\u001b[37m━\u001b[0m \u001b[1m0s\u001b[0m 30ms/step - accuracy: 0.3051 - loss: 2.8331\n",
      "Epoch 46: val_accuracy did not improve from 0.30490\n",
      "\u001b[1m625/625\u001b[0m \u001b[32m━━━━━━━━━━━━━━━━━━━━\u001b[0m\u001b[37m\u001b[0m \u001b[1m20s\u001b[0m 31ms/step - accuracy: 0.3051 - loss: 2.8330 - val_accuracy: 0.3046 - val_loss: 2.8905 - learning_rate: 6.2500e-05\n",
      "Epoch 47/200\n",
      "\u001b[1m624/625\u001b[0m \u001b[32m━━━━━━━━━━━━━━━━━━━\u001b[0m\u001b[37m━\u001b[0m \u001b[1m0s\u001b[0m 30ms/step - accuracy: 0.3036 - loss: 2.8377\n",
      "Epoch 47: ReduceLROnPlateau reducing learning rate to 3.125000148429535e-05.\n",
      "\n",
      "Epoch 47: val_accuracy did not improve from 0.30490\n",
      "\u001b[1m625/625\u001b[0m \u001b[32m━━━━━━━━━━━━━━━━━━━━\u001b[0m\u001b[37m\u001b[0m \u001b[1m19s\u001b[0m 31ms/step - accuracy: 0.3036 - loss: 2.8377 - val_accuracy: 0.3048 - val_loss: 2.8881 - learning_rate: 6.2500e-05\n",
      "Epoch 48/200\n",
      "\u001b[1m618/625\u001b[0m \u001b[32m━━━━━━━━━━━━━━━━━━━\u001b[0m\u001b[37m━\u001b[0m \u001b[1m0s\u001b[0m 30ms/step - accuracy: 0.3107 - loss: 2.8103\n",
      "Epoch 48: val_accuracy did not improve from 0.30490\n",
      "\u001b[1m625/625\u001b[0m \u001b[32m━━━━━━━━━━━━━━━━━━━━\u001b[0m\u001b[37m\u001b[0m \u001b[1m20s\u001b[0m 31ms/step - accuracy: 0.3107 - loss: 2.8103 - val_accuracy: 0.3038 - val_loss: 2.8878 - learning_rate: 3.1250e-05\n",
      "Epoch 49/200\n",
      "\u001b[1m625/625\u001b[0m \u001b[32m━━━━━━━━━━━━━━━━━━━━\u001b[0m\u001b[37m\u001b[0m \u001b[1m0s\u001b[0m 30ms/step - accuracy: 0.3156 - loss: 2.8057\n",
      "Epoch 49: val_accuracy improved from 0.30490 to 0.30600, saving model to best.weights.h5\n",
      "\u001b[1m625/625\u001b[0m \u001b[32m━━━━━━━━━━━━━━━━━━━━\u001b[0m\u001b[37m\u001b[0m \u001b[1m20s\u001b[0m 31ms/step - accuracy: 0.3156 - loss: 2.8057 - val_accuracy: 0.3060 - val_loss: 2.8871 - learning_rate: 3.1250e-05\n",
      "Epoch 50/200\n",
      "\u001b[1m620/625\u001b[0m \u001b[32m━━━━━━━━━━━━━━━━━━━\u001b[0m\u001b[37m━\u001b[0m \u001b[1m0s\u001b[0m 30ms/step - accuracy: 0.3065 - loss: 2.8190\n",
      "Epoch 50: val_accuracy did not improve from 0.30600\n",
      "\u001b[1m625/625\u001b[0m \u001b[32m━━━━━━━━━━━━━━━━━━━━\u001b[0m\u001b[37m\u001b[0m \u001b[1m19s\u001b[0m 31ms/step - accuracy: 0.3065 - loss: 2.8190 - val_accuracy: 0.3053 - val_loss: 2.8866 - learning_rate: 3.1250e-05\n",
      "Epoch 51/200\n",
      "\u001b[1m618/625\u001b[0m \u001b[32m━━━━━━━━━━━━━━━━━━━\u001b[0m\u001b[37m━\u001b[0m \u001b[1m0s\u001b[0m 30ms/step - accuracy: 0.3119 - loss: 2.8145\n",
      "Epoch 51: ReduceLROnPlateau reducing learning rate to 1.5625000742147677e-05.\n",
      "\n",
      "Epoch 51: val_accuracy did not improve from 0.30600\n",
      "\u001b[1m625/625\u001b[0m \u001b[32m━━━━━━━━━━━━━━━━━━━━\u001b[0m\u001b[37m\u001b[0m \u001b[1m19s\u001b[0m 31ms/step - accuracy: 0.3120 - loss: 2.8144 - val_accuracy: 0.3053 - val_loss: 2.8854 - learning_rate: 3.1250e-05\n",
      "Epoch 52/200\n",
      "\u001b[1m625/625\u001b[0m \u001b[32m━━━━━━━━━━━━━━━━━━━━\u001b[0m\u001b[37m\u001b[0m \u001b[1m0s\u001b[0m 29ms/step - accuracy: 0.3142 - loss: 2.8005\n",
      "Epoch 52: val_accuracy did not improve from 0.30600\n",
      "\u001b[1m625/625\u001b[0m \u001b[32m━━━━━━━━━━━━━━━━━━━━\u001b[0m\u001b[37m\u001b[0m \u001b[1m19s\u001b[0m 30ms/step - accuracy: 0.3142 - loss: 2.8005 - val_accuracy: 0.3042 - val_loss: 2.8859 - learning_rate: 1.5625e-05\n",
      "Epoch 53/200\n",
      "\u001b[1m618/625\u001b[0m \u001b[32m━━━━━━━━━━━━━━━━━━━\u001b[0m\u001b[37m━\u001b[0m \u001b[1m0s\u001b[0m 30ms/step - accuracy: 0.3084 - loss: 2.8108\n",
      "Epoch 53: ReduceLROnPlateau reducing learning rate to 7.812500371073838e-06.\n",
      "\n",
      "Epoch 53: val_accuracy did not improve from 0.30600\n",
      "\u001b[1m625/625\u001b[0m \u001b[32m━━━━━━━━━━━━━━━━━━━━\u001b[0m\u001b[37m\u001b[0m \u001b[1m19s\u001b[0m 31ms/step - accuracy: 0.3084 - loss: 2.8108 - val_accuracy: 0.3048 - val_loss: 2.8849 - learning_rate: 1.5625e-05\n",
      "Epoch 54/200\n",
      "\u001b[1m624/625\u001b[0m \u001b[32m━━━━━━━━━━━━━━━━━━━\u001b[0m\u001b[37m━\u001b[0m \u001b[1m0s\u001b[0m 30ms/step - accuracy: 0.3117 - loss: 2.8056\n",
      "Epoch 54: val_accuracy improved from 0.30600 to 0.30630, saving model to best.weights.h5\n",
      "\u001b[1m625/625\u001b[0m \u001b[32m━━━━━━━━━━━━━━━━━━━━\u001b[0m\u001b[37m\u001b[0m \u001b[1m20s\u001b[0m 31ms/step - accuracy: 0.3117 - loss: 2.8056 - val_accuracy: 0.3063 - val_loss: 2.8844 - learning_rate: 7.8125e-06\n",
      "Epoch 55/200\n",
      "\u001b[1m625/625\u001b[0m \u001b[32m━━━━━━━━━━━━━━━━━━━━\u001b[0m\u001b[37m\u001b[0m \u001b[1m0s\u001b[0m 29ms/step - accuracy: 0.3144 - loss: 2.8006\n",
      "Epoch 55: val_accuracy did not improve from 0.30630\n",
      "\u001b[1m625/625\u001b[0m \u001b[32m━━━━━━━━━━━━━━━━━━━━\u001b[0m\u001b[37m\u001b[0m \u001b[1m19s\u001b[0m 30ms/step - accuracy: 0.3144 - loss: 2.8006 - val_accuracy: 0.3054 - val_loss: 2.8853 - learning_rate: 7.8125e-06\n",
      "Epoch 56/200\n",
      "\u001b[1m624/625\u001b[0m \u001b[32m━━━━━━━━━━━━━━━━━━━\u001b[0m\u001b[37m━\u001b[0m \u001b[1m0s\u001b[0m 29ms/step - accuracy: 0.3111 - loss: 2.7948\n",
      "Epoch 56: ReduceLROnPlateau reducing learning rate to 3.906250185536919e-06.\n",
      "\n",
      "Epoch 56: val_accuracy did not improve from 0.30630\n",
      "\u001b[1m625/625\u001b[0m \u001b[32m━━━━━━━━━━━━━━━━━━━━\u001b[0m\u001b[37m\u001b[0m \u001b[1m19s\u001b[0m 30ms/step - accuracy: 0.3111 - loss: 2.7948 - val_accuracy: 0.3054 - val_loss: 2.8843 - learning_rate: 7.8125e-06\n",
      "Epoch 57/200\n",
      "\u001b[1m624/625\u001b[0m \u001b[32m━━━━━━━━━━━━━━━━━━━\u001b[0m\u001b[37m━\u001b[0m \u001b[1m0s\u001b[0m 29ms/step - accuracy: 0.3118 - loss: 2.8144\n",
      "Epoch 57: val_accuracy did not improve from 0.30630\n",
      "\u001b[1m625/625\u001b[0m \u001b[32m━━━━━━━━━━━━━━━━━━━━\u001b[0m\u001b[37m\u001b[0m \u001b[1m19s\u001b[0m 30ms/step - accuracy: 0.3118 - loss: 2.8144 - val_accuracy: 0.3049 - val_loss: 2.8845 - learning_rate: 3.9063e-06\n",
      "Epoch 58/200\n",
      "\u001b[1m624/625\u001b[0m \u001b[32m━━━━━━━━━━━━━━━━━━━\u001b[0m\u001b[37m━\u001b[0m \u001b[1m0s\u001b[0m 30ms/step - accuracy: 0.3141 - loss: 2.8066\n",
      "Epoch 58: ReduceLROnPlateau reducing learning rate to 1.9531250927684596e-06.\n",
      "\n",
      "Epoch 58: val_accuracy did not improve from 0.30630\n",
      "\u001b[1m625/625\u001b[0m \u001b[32m━━━━━━━━━━━━━━━━━━━━\u001b[0m\u001b[37m\u001b[0m \u001b[1m20s\u001b[0m 31ms/step - accuracy: 0.3141 - loss: 2.8066 - val_accuracy: 0.3059 - val_loss: 2.8843 - learning_rate: 3.9063e-06\n",
      "Epoch 59/200\n",
      "\u001b[1m618/625\u001b[0m \u001b[32m━━━━━━━━━━━━━━━━━━━\u001b[0m\u001b[37m━\u001b[0m \u001b[1m0s\u001b[0m 30ms/step - accuracy: 0.3124 - loss: 2.8093\n",
      "Epoch 59: val_accuracy did not improve from 0.30630\n",
      "\u001b[1m625/625\u001b[0m \u001b[32m━━━━━━━━━━━━━━━━━━━━\u001b[0m\u001b[37m\u001b[0m \u001b[1m19s\u001b[0m 31ms/step - accuracy: 0.3123 - loss: 2.8093 - val_accuracy: 0.3058 - val_loss: 2.8843 - learning_rate: 1.9531e-06\n",
      "Epoch 60/200\n",
      "\u001b[1m624/625\u001b[0m \u001b[32m━━━━━━━━━━━━━━━━━━━\u001b[0m\u001b[37m━\u001b[0m \u001b[1m0s\u001b[0m 29ms/step - accuracy: 0.3121 - loss: 2.8001\n",
      "Epoch 60: ReduceLROnPlateau reducing learning rate to 9.765625463842298e-07.\n",
      "\n",
      "Epoch 60: val_accuracy did not improve from 0.30630\n",
      "\u001b[1m625/625\u001b[0m \u001b[32m━━━━━━━━━━━━━━━━━━━━\u001b[0m\u001b[37m\u001b[0m \u001b[1m19s\u001b[0m 30ms/step - accuracy: 0.3121 - loss: 2.8001 - val_accuracy: 0.3063 - val_loss: 2.8840 - learning_rate: 1.9531e-06\n",
      "Epoch 61/200\n",
      "\u001b[1m618/625\u001b[0m \u001b[32m━━━━━━━━━━━━━━━━━━━\u001b[0m\u001b[37m━\u001b[0m \u001b[1m0s\u001b[0m 31ms/step - accuracy: 0.3116 - loss: 2.7970\n",
      "Epoch 61: val_accuracy did not improve from 0.30630\n",
      "\u001b[1m625/625\u001b[0m \u001b[32m━━━━━━━━━━━━━━━━━━━━\u001b[0m\u001b[37m\u001b[0m \u001b[1m20s\u001b[0m 32ms/step - accuracy: 0.3116 - loss: 2.7970 - val_accuracy: 0.3054 - val_loss: 2.8846 - learning_rate: 9.7656e-07\n",
      "Epoch 62/200\n",
      "\u001b[1m618/625\u001b[0m \u001b[32m━━━━━━━━━━━━━━━━━━━\u001b[0m\u001b[37m━\u001b[0m \u001b[1m0s\u001b[0m 29ms/step - accuracy: 0.3076 - loss: 2.8175\n",
      "Epoch 62: ReduceLROnPlateau reducing learning rate to 4.882812731921149e-07.\n",
      "\n",
      "Epoch 62: val_accuracy did not improve from 0.30630\n",
      "\u001b[1m625/625\u001b[0m \u001b[32m━━━━━━━━━━━━━━━━━━━━\u001b[0m\u001b[37m\u001b[0m \u001b[1m19s\u001b[0m 30ms/step - accuracy: 0.3076 - loss: 2.8174 - val_accuracy: 0.3061 - val_loss: 2.8844 - learning_rate: 9.7656e-07\n",
      "Epoch 62: early stopping\n",
      "Restoring model weights from the end of the best epoch: 54.\n"
     ]
    }
   ],
   "source": [
    "history = model.fit(\n",
    "    train_data,\n",
    "    epochs = 200,\n",
    "    validation_data = val_data,\n",
    "    callbacks= [rlrop, es, mc, tb]\n",
    ")"
   ]
  },
  {
   "cell_type": "code",
   "execution_count": 19,
   "id": "4aafffe3",
   "metadata": {
    "execution": {
     "iopub.execute_input": "2024-06-29T23:44:18.208011Z",
     "iopub.status.busy": "2024-06-29T23:44:18.207157Z",
     "iopub.status.idle": "2024-06-29T23:44:18.478921Z",
     "shell.execute_reply": "2024-06-29T23:44:18.478097Z"
    },
    "papermill": {
     "duration": 1.910635,
     "end_time": "2024-06-29T23:44:18.480888",
     "exception": false,
     "start_time": "2024-06-29T23:44:16.570253",
     "status": "completed"
    },
    "tags": []
   },
   "outputs": [
    {
     "data": {
      "text/plain": [
       "[<matplotlib.lines.Line2D at 0x7cc9a0429510>]"
      ]
     },
     "execution_count": 19,
     "metadata": {},
     "output_type": "execute_result"
    },
    {
     "data": {
      "image/png": "[encoded data removed]",
      "text/plain": [
       "<Figure size 640x480 with 1 Axes>"
      ]
     },
     "metadata": {},
     "output_type": "display_data"
    }
   ],
   "source": [
    "plt.plot(history.history[\"loss\"])\n",
    "plt.plot(history.history[\"val_loss\"])"
   ]
  },
  {
   "cell_type": "code",
   "execution_count": 20,
   "id": "0a15bb5e",
   "metadata": {
    "execution": {
     "iopub.execute_input": "2024-06-29T23:44:21.724515Z",
     "iopub.status.busy": "2024-06-29T23:44:21.724072Z",
     "iopub.status.idle": "2024-06-29T23:44:21.989923Z",
     "shell.execute_reply": "2024-06-29T23:44:21.989074Z"
    },
    "papermill": {
     "duration": 1.890876,
     "end_time": "2024-06-29T23:44:21.991887",
     "exception": false,
     "start_time": "2024-06-29T23:44:20.101011",
     "status": "completed"
    },
    "tags": []
   },
   "outputs": [
    {
     "data": {
      "text/plain": [
       "[<matplotlib.lines.Line2D at 0x7cc9a02a61d0>]"
      ]
     },
     "execution_count": 20,
     "metadata": {},
     "output_type": "execute_result"
    },
    {
     "data": {
      "image/png": "[encoded data removed]",
      "text/plain": [
       "<Figure size 640x480 with 1 Axes>"
      ]
     },
     "metadata": {},
     "output_type": "display_data"
    }
   ],
   "source": [
    "plt.plot(history.history[\"loss\"])\n",
    "plt.plot(history.history[\"val_loss\"])"
   ]
  },
  {
   "cell_type": "code",
   "execution_count": 21,
   "id": "9a5d359d",
   "metadata": {
    "execution": {
     "iopub.execute_input": "2024-06-29T23:44:25.204384Z",
     "iopub.status.busy": "2024-06-29T23:44:25.204026Z",
     "iopub.status.idle": "2024-06-29T23:44:25.456636Z",
     "shell.execute_reply": "2024-06-29T23:44:25.455693Z"
    },
    "papermill": {
     "duration": 1.88053,
     "end_time": "2024-06-29T23:44:25.458642",
     "exception": false,
     "start_time": "2024-06-29T23:44:23.578112",
     "status": "completed"
    },
    "tags": []
   },
   "outputs": [
    {
     "data": {
      "text/plain": [
       "[<matplotlib.lines.Line2D at 0x7cc9a03272e0>]"
      ]
     },
     "execution_count": 21,
     "metadata": {},
     "output_type": "execute_result"
    },
    {
     "data": {
      "image/png": "[encoded data removed]",
      "text/plain": [
       "<Figure size 640x480 with 1 Axes>"
      ]
     },
     "metadata": {},
     "output_type": "display_data"
    }
   ],
   "source": [
    "plt.plot(history.history[\"accuracy\"])\n",
    "plt.plot(history.history[\"val_accuracy\"])"
   ]
  },
  {
   "cell_type": "code",
   "execution_count": 22,
   "id": "24474658",
   "metadata": {
    "execution": {
     "iopub.execute_input": "2024-06-29T23:44:28.651294Z",
     "iopub.status.busy": "2024-06-29T23:44:28.650931Z",
     "iopub.status.idle": "2024-06-29T23:44:28.892620Z",
     "shell.execute_reply": "2024-06-29T23:44:28.891752Z"
    },
    "papermill": {
     "duration": 1.814397,
     "end_time": "2024-06-29T23:44:28.894473",
     "exception": false,
     "start_time": "2024-06-29T23:44:27.080076",
     "status": "completed"
    },
    "tags": []
   },
   "outputs": [
    {
     "data": {
      "text/plain": [
       "[<matplotlib.lines.Line2D at 0x7cc9a01a2050>]"
      ]
     },
     "execution_count": 22,
     "metadata": {},
     "output_type": "execute_result"
    },
    {
     "data": {
      "image/png": "[encoded data removed]",
      "text/plain": [
       "<Figure size 640x480 with 1 Axes>"
      ]
     },
     "metadata": {},
     "output_type": "display_data"
    }
   ],
   "source": [
    "plt.plot(history.history[\"accuracy\"])\n",
    "plt.plot(history.history[\"val_accuracy\"])"
   ]
  },
  {
   "cell_type": "code",
   "execution_count": 23,
   "id": "ca2848e8",
   "metadata": {
    "execution": {
     "iopub.execute_input": "2024-06-29T23:44:32.118587Z",
     "iopub.status.busy": "2024-06-29T23:44:32.118230Z",
     "iopub.status.idle": "2024-06-29T23:44:33.651619Z",
     "shell.execute_reply": "2024-06-29T23:44:33.650637Z"
    },
    "papermill": {
     "duration": 3.153679,
     "end_time": "2024-06-29T23:44:33.653916",
     "exception": false,
     "start_time": "2024-06-29T23:44:30.500237",
     "status": "completed"
    },
    "tags": []
   },
   "outputs": [
    {
     "name": "stdout",
     "output_type": "stream",
     "text": [
      "\u001b[1m118/313\u001b[0m \u001b[32m━━━━━━━\u001b[0m\u001b[37m━━━━━━━━━━━━━\u001b[0m \u001b[1m0s\u001b[0m 1ms/step"
     ]
    },
    {
     "name": "stderr",
     "output_type": "stream",
     "text": [
      "W0000 00:00:1719704672.812291      66 graph_launch.cc:671] Fallback to op-by-op mode because memset node breaks graph update\n"
     ]
    },
    {
     "name": "stdout",
     "output_type": "stream",
     "text": [
      "\u001b[1m313/313\u001b[0m \u001b[32m━━━━━━━━━━━━━━━━━━━━\u001b[0m\u001b[37m\u001b[0m \u001b[1m1s\u001b[0m 2ms/step\n"
     ]
    }
   ],
   "source": [
    "predictions = model.predict(x_test)"
   ]
  },
  {
   "cell_type": "code",
   "execution_count": 24,
   "id": "cc49ba09",
   "metadata": {
    "execution": {
     "iopub.execute_input": "2024-06-29T23:44:36.907647Z",
     "iopub.status.busy": "2024-06-29T23:44:36.907284Z",
     "iopub.status.idle": "2024-06-29T23:44:36.912183Z",
     "shell.execute_reply": "2024-06-29T23:44:36.911361Z"
    },
    "papermill": {
     "duration": 1.643921,
     "end_time": "2024-06-29T23:44:36.914190",
     "exception": false,
     "start_time": "2024-06-29T23:44:35.270269",
     "status": "completed"
    },
    "tags": []
   },
   "outputs": [],
   "source": [
    "predictions = predictions.argmax(axis=1)"
   ]
  },
  {
   "cell_type": "code",
   "execution_count": 25,
   "id": "c4497c9c",
   "metadata": {
    "execution": {
     "iopub.execute_input": "2024-06-29T23:44:40.121081Z",
     "iopub.status.busy": "2024-06-29T23:44:40.120694Z",
     "iopub.status.idle": "2024-06-29T23:44:40.126915Z",
     "shell.execute_reply": "2024-06-29T23:44:40.126073Z"
    },
    "papermill": {
     "duration": 1.642647,
     "end_time": "2024-06-29T23:44:40.128926",
     "exception": false,
     "start_time": "2024-06-29T23:44:38.486279",
     "status": "completed"
    },
    "tags": []
   },
   "outputs": [
    {
     "data": {
      "text/plain": [
       "array([12, 42, 15, ..., 18, 42, 45])"
      ]
     },
     "execution_count": 25,
     "metadata": {},
     "output_type": "execute_result"
    }
   ],
   "source": [
    "predictions"
   ]
  },
  {
   "cell_type": "code",
   "execution_count": 26,
   "id": "56b819ab",
   "metadata": {
    "execution": {
     "iopub.execute_input": "2024-06-29T23:44:43.409320Z",
     "iopub.status.busy": "2024-06-29T23:44:43.408244Z",
     "iopub.status.idle": "2024-06-29T23:44:43.416214Z",
     "shell.execute_reply": "2024-06-29T23:44:43.415297Z"
    },
    "papermill": {
     "duration": 1.665992,
     "end_time": "2024-06-29T23:44:43.418154",
     "exception": false,
     "start_time": "2024-06-29T23:44:41.752162",
     "status": "completed"
    },
    "tags": []
   },
   "outputs": [],
   "source": [
    "df = pd.DataFrame(predictions, columns=[\"Label\"])"
   ]
  },
  {
   "cell_type": "code",
   "execution_count": 27,
   "id": "0bafcf72",
   "metadata": {
    "execution": {
     "iopub.execute_input": "2024-06-29T23:44:46.682585Z",
     "iopub.status.busy": "2024-06-29T23:44:46.682258Z",
     "iopub.status.idle": "2024-06-29T23:44:46.686484Z",
     "shell.execute_reply": "2024-06-29T23:44:46.685587Z"
    },
    "papermill": {
     "duration": 1.639722,
     "end_time": "2024-06-29T23:44:46.688481",
     "exception": false,
     "start_time": "2024-06-29T23:44:45.048759",
     "status": "completed"
    },
    "tags": []
   },
   "outputs": [],
   "source": [
    "df.index.name = \"Id\""
   ]
  },
  {
   "cell_type": "code",
   "execution_count": 28,
   "id": "700b5e2b",
   "metadata": {
    "execution": {
     "iopub.execute_input": "2024-06-29T23:44:49.929866Z",
     "iopub.status.busy": "2024-06-29T23:44:49.929454Z",
     "iopub.status.idle": "2024-06-29T23:44:49.946258Z",
     "shell.execute_reply": "2024-06-29T23:44:49.945440Z"
    },
    "papermill": {
     "duration": 1.639679,
     "end_time": "2024-06-29T23:44:49.948345",
     "exception": false,
     "start_time": "2024-06-29T23:44:48.308666",
     "status": "completed"
    },
    "tags": []
   },
   "outputs": [
    {
     "data": {
      "text/html": [
       "<div>\n",
       "<style scoped>\n",
       "    .dataframe tbody tr th:only-of-type {\n",
       "        vertical-align: middle;\n",
       "    }\n",
       "\n",
       "    .dataframe tbody tr th {\n",
       "        vertical-align: top;\n",
       "    }\n",
       "\n",
       "    .dataframe thead th {\n",
       "        text-align: right;\n",
       "    }\n",
       "</style>\n",
       "<table border=\"1\" class=\"dataframe\">\n",
       "  <thead>\n",
       "    <tr style=\"text-align: right;\">\n",
       "      <th></th>\n",
       "      <th>Label</th>\n",
       "    </tr>\n",
       "    <tr>\n",
       "      <th>Id</th>\n",
       "      <th></th>\n",
       "    </tr>\n",
       "  </thead>\n",
       "  <tbody>\n",
       "    <tr>\n",
       "      <th>0</th>\n",
       "      <td>12</td>\n",
       "    </tr>\n",
       "    <tr>\n",
       "      <th>1</th>\n",
       "      <td>42</td>\n",
       "    </tr>\n",
       "    <tr>\n",
       "      <th>2</th>\n",
       "      <td>15</td>\n",
       "    </tr>\n",
       "    <tr>\n",
       "      <th>3</th>\n",
       "      <td>40</td>\n",
       "    </tr>\n",
       "    <tr>\n",
       "      <th>4</th>\n",
       "      <td>71</td>\n",
       "    </tr>\n",
       "  </tbody>\n",
       "</table>\n",
       "</div>"
      ],
      "text/plain": [
       "    Label\n",
       "Id       \n",
       "0      12\n",
       "1      42\n",
       "2      15\n",
       "3      40\n",
       "4      71"
      ]
     },
     "execution_count": 28,
     "metadata": {},
     "output_type": "execute_result"
    }
   ],
   "source": [
    "df.head()"
   ]
  },
  {
   "cell_type": "code",
   "execution_count": 29,
   "id": "af8d09e6",
   "metadata": {
    "execution": {
     "iopub.execute_input": "2024-06-29T23:44:53.206635Z",
     "iopub.status.busy": "2024-06-29T23:44:53.206308Z",
     "iopub.status.idle": "2024-06-29T23:44:53.224511Z",
     "shell.execute_reply": "2024-06-29T23:44:53.223781Z"
    },
    "papermill": {
     "duration": 1.680174,
     "end_time": "2024-06-29T23:44:53.226429",
     "exception": false,
     "start_time": "2024-06-29T23:44:51.546255",
     "status": "completed"
    },
    "tags": []
   },
   "outputs": [],
   "source": [
    "df.to_csv(\"submission.csv\")"
   ]
  },
  {
   "cell_type": "code",
   "execution_count": null,
   "id": "b68ae3ba",
   "metadata": {
    "papermill": {
     "duration": 1.581462,
     "end_time": "2024-06-29T23:44:56.427306",
     "exception": false,
     "start_time": "2024-06-29T23:44:54.845844",
     "status": "completed"
    },
    "tags": []
   },
   "outputs": [],
   "source": []
  }
 ],
 "metadata": {
  "kaggle": {
   "accelerator": "gpu",
   "dataSources": [
    {
     "databundleVersionId": 8490010,
     "sourceId": 77584,
     "sourceType": "competition"
    }
   ],
   "dockerImageVersionId": 30699,
   "isGpuEnabled": true,
   "isInternetEnabled": true,
   "language": "python",
   "sourceType": "notebook"
  },
  "kernelspec": {
   "display_name": "Python 3",
   "language": "python",
   "name": "python3"
  },
  "language_info": {
   "codemirror_mode": {
    "name": "ipython",
    "version": 3
   },
   "file_extension": ".py",
   "mimetype": "text/x-python",
   "name": "python",
   "nbconvert_exporter": "python",
   "pygments_lexer": "ipython3",
   "version": "3.10.13"
  },
  "papermill": {
   "default_parameters": {},
   "duration": 1274.60229,
   "end_time": "2024-06-29T23:44:59.875312",
   "environment_variables": {},
   "exception": null,
   "input_path": "__notebook__.ipynb",
   "output_path": "__notebook__.ipynb",
   "parameters": {},
   "start_time": "2024-06-29T23:23:45.273022",
   "version": "2.5.0"
  }
 },
 "nbformat": 4,
 "nbformat_minor": 5
}
