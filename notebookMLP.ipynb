{
  "metadata": {
    "kernelspec": {
      "display_name": "Python 3",
      "name": "python3"
    },
    "language_info": {
      "name": "python",
      "version": "3.10.13",
      "mimetype": "text/x-python",
      "codemirror_mode": {
        "name": "ipython",
        "version": 3
      },
      "pygments_lexer": "ipython3",
      "nbconvert_exporter": "python",
      "file_extension": ".py"
    },
    "kaggle": {
      "accelerator": "gpu",
      "dataSources": [
        {
          "sourceId": 77584,
          "databundleVersionId": 8490010,
          "sourceType": "competition"
        }
      ],
      "dockerImageVersionId": 30699,
      "isInternetEnabled": true,
      "language": "python",
      "sourceType": "notebook",
      "isGpuEnabled": true
    },
    "colab": {
      "name": "notebookCNN",
      "provenance": [],
      "gpuType": "T4",
      "include_colab_link": true
    },
    "accelerator": "GPU"
  },
  "nbformat_minor": 0,
  "nbformat": 4,
  "cells": [
    {
      "cell_type": "markdown",
      "metadata": {
        "id": "view-in-github",
        "colab_type": "text"
      },
      "source": [
        "<a href=\"https://colab.research.google.com/github/AlfZuck1/MLP_Cifar100/blob/main/notebookMLP.ipynb\" target=\"_parent\"><img src=\"https://colab.research.google.com/assets/colab-badge.svg\" alt=\"Open In Colab\"/></a>"
      ]
    },
    {
      "source": [
        "import os\n",
        "import sys\n",
        "from tempfile import NamedTemporaryFile\n",
        "from urllib.request import urlopen\n",
        "from urllib.parse import unquote, urlparse\n",
        "from urllib.error import HTTPError\n",
        "from zipfile import ZipFile\n",
        "import tarfile\n",
        "import shutil\n",
        "\n",
        "CHUNK_SIZE = 40960\n",
        "DATA_SOURCE_MAPPING = 'itba-cifar-100-2024-q-1:https%3A%2F%2Fstorage.googleapis.com%2Fkaggle-competitions-data%2Fkaggle-v2%2F77584%2F8490010%2Fbundle%2Farchive.zip%3FX-Goog-Algorithm%3DGOOG4-RSA-SHA256%26X-Goog-Credential%3Dgcp-kaggle-com%2540kaggle-161607.iam.gserviceaccount.com%252F20240628%252Fauto%252Fstorage%252Fgoog4_request%26X-Goog-Date%3D20240628T005657Z%26X-Goog-Expires%3D259200%26X-Goog-SignedHeaders%3Dhost%26X-Goog-Signature%3D1ea3a07052edaf7f5bb5fe3345fb8faf20e81cea2fb2b0a3571c5b5f1e7e4b88f7d7b8203e9ca7b74667398a845bc2ee967286435e1417449ff39baadc5aab168dcb76e74b331d82c5fb57a716950dab0a5da79a99a4e07e6db48d62e826ab86b095ec58680409aa9b8e75b92b400c6810aaccba5e6be89f25c413b8ffb86ef18d26ebd8a0e3a51f25dd771abfb1948693c4ac8a4f36462a5894e3ac647c0f72a982a81ec443d7ad4011a46f03fa033c724a54f4ec6c24cbe4d9f0fe3ac96694c916aa5f52ca52b7069354ef1c168ecf819a4e939ff0f0e73ace0baf35811c389b9f1de5aceecacd7a08d50e1915655123e82ba7310e7d62fcb2a64c50fc8924'\n",
        "\n",
        "KAGGLE_INPUT_PATH='/kaggle/input'\n",
        "KAGGLE_WORKING_PATH='/kaggle/working'\n",
        "KAGGLE_SYMLINK='kaggle'\n",
        "\n",
        "!umount /kaggle/input/ 2> /dev/null\n",
        "shutil.rmtree('/kaggle/input', ignore_errors=True)\n",
        "os.makedirs(KAGGLE_INPUT_PATH, 0o777, exist_ok=True)\n",
        "os.makedirs(KAGGLE_WORKING_PATH, 0o777, exist_ok=True)\n",
        "\n",
        "try:\n",
        "  os.symlink(KAGGLE_INPUT_PATH, os.path.join(\"..\", 'input'), target_is_directory=True)\n",
        "except FileExistsError:\n",
        "  pass\n",
        "try:\n",
        "  os.symlink(KAGGLE_WORKING_PATH, os.path.join(\"..\", 'working'), target_is_directory=True)\n",
        "except FileExistsError:\n",
        "  pass\n",
        "\n",
        "for data_source_mapping in DATA_SOURCE_MAPPING.split(','):\n",
        "    directory, download_url_encoded = data_source_mapping.split(':')\n",
        "    download_url = unquote(download_url_encoded)\n",
        "    filename = urlparse(download_url).path\n",
        "    destination_path = os.path.join(KAGGLE_INPUT_PATH, directory)\n",
        "    try:\n",
        "        with urlopen(download_url) as fileres, NamedTemporaryFile() as tfile:\n",
        "            total_length = fileres.headers['content-length']\n",
        "            print(f'Downloading {directory}, {total_length} bytes compressed')\n",
        "            dl = 0\n",
        "            data = fileres.read(CHUNK_SIZE)\n",
        "            while len(data) > 0:\n",
        "                dl += len(data)\n",
        "                tfile.write(data)\n",
        "                done = int(50 * dl / int(total_length))\n",
        "                sys.stdout.write(f\"\\r[{'=' * done}{' ' * (50-done)}] {dl} bytes downloaded\")\n",
        "                sys.stdout.flush()\n",
        "                data = fileres.read(CHUNK_SIZE)\n",
        "            if filename.endswith('.zip'):\n",
        "              with ZipFile(tfile) as zfile:\n",
        "                zfile.extractall(destination_path)\n",
        "            else:\n",
        "              with tarfile.open(tfile.name) as tarfile:\n",
        "                tarfile.extractall(destination_path)\n",
        "            print(f'\\nDownloaded and uncompressed: {directory}')\n",
        "    except HTTPError as e:\n",
        "        print(f'Failed to load (likely expired) {download_url} to path {destination_path}')\n",
        "        continue\n",
        "    except OSError as e:\n",
        "        print(f'Failed to load {download_url} to path {destination_path}')\n",
        "        continue\n",
        "\n",
        "print('Data source import complete.')\n"
      ],
      "metadata": {
        "colab": {
          "base_uri": "https://localhost:8080/"
        },
        "id": "m9JpDDfSWu23",
        "outputId": "a7336043-e195-428b-c59c-f35712d2b1b7"
      },
      "cell_type": "code",
      "outputs": [
        {
          "output_type": "stream",
          "name": "stdout",
          "text": [
            "Downloading itba-cifar-100-2024-q-1, 168426762 bytes compressed\n",
            "[==================================================] 168426762 bytes downloaded\n",
            "Downloaded and uncompressed: itba-cifar-100-2024-q-1\n",
            "Data source import complete.\n"
          ]
        }
      ],
      "execution_count": 1
    },
    {
      "cell_type": "code",
      "source": [
        "# This Python 3 environment comes with many helpful analytics libraries installed\n",
        "# It is defined by the kaggle/python Docker image: https://github.com/kaggle/docker-python\n",
        "# For example, here's several helpful packages to load\n",
        "\n",
        "import numpy as np # linear algebra\n",
        "import pandas as pd # data processing, CSV file I/O (e.g. pd.read_csv)\n",
        "\n",
        "# Input data files are available in the read-only \"../input/\" directory\n",
        "# For example, running this (by clicking run or pressing Shift+Enter) will list all files under the input directory\n",
        "\n",
        "import os\n",
        "for dirname, _, filenames in os.walk('/kaggle/input'):\n",
        "    for filename in filenames:\n",
        "        print(os.path.join(dirname, filename))\n",
        "\n",
        "# You can write up to 20GB to the current directory (/kaggle/working/) that gets preserved as output when you create a version using \"Save & Run All\"\n",
        "# You can also write temporary files to /kaggle/temp/, but they won't be saved outside of the current session"
      ],
      "metadata": {
        "_uuid": "8f2839f25d086af736a60e9eeb907d3b93b6e0e5",
        "_cell_guid": "b1076dfc-b9ad-4769-8c92-a6c4dae69d19",
        "execution": {
          "iopub.status.busy": "2024-06-23T16:41:36.637132Z",
          "iopub.execute_input": "2024-06-23T16:41:36.637522Z",
          "iopub.status.idle": "2024-06-23T16:41:36.646239Z",
          "shell.execute_reply.started": "2024-06-23T16:41:36.63749Z",
          "shell.execute_reply": "2024-06-23T16:41:36.645241Z"
        },
        "trusted": true,
        "colab": {
          "base_uri": "https://localhost:8080/"
        },
        "id": "xlT-lpR8Wu28",
        "outputId": "1aa156c0-1206-4293-b193-1b818bdabc28"
      },
      "execution_count": 2,
      "outputs": [
        {
          "output_type": "stream",
          "name": "stdout",
          "text": [
            "/kaggle/input/itba-cifar-100-2024-q-1/x_test.npy\n",
            "/kaggle/input/itba-cifar-100-2024-q-1/x_train.npy\n",
            "/kaggle/input/itba-cifar-100-2024-q-1/y_train_fine.npy\n",
            "/kaggle/input/itba-cifar-100-2024-q-1/y_train_coarse.npy\n",
            "/kaggle/input/itba-cifar-100-2024-q-1/fine_label_names.pck\n",
            "/kaggle/input/itba-cifar-100-2024-q-1/coarse_label_names.pck\n"
          ]
        }
      ]
    },
    {
      "cell_type": "code",
      "source": [
        "x_train = np.load(\"/kaggle/input/itba-cifar-100-2024-q-1/x_train.npy\")/255.\n",
        "x_test = np.load(\"/kaggle/input/itba-cifar-100-2024-q-1/x_test.npy\")/255.\n",
        "y_train_coarse = np.load(\"/kaggle/input/itba-cifar-100-2024-q-1/y_train_coarse.npy\")\n",
        "y_train_fine = np.load(\"/kaggle/input/itba-cifar-100-2024-q-1/y_train_fine.npy\")"
      ],
      "metadata": {
        "execution": {
          "iopub.status.busy": "2024-06-23T16:41:36.647899Z",
          "iopub.execute_input": "2024-06-23T16:41:36.648184Z",
          "iopub.status.idle": "2024-06-23T16:41:37.157205Z",
          "shell.execute_reply.started": "2024-06-23T16:41:36.64816Z",
          "shell.execute_reply": "2024-06-23T16:41:37.156407Z"
        },
        "trusted": true,
        "id": "frBDYJeTWu29"
      },
      "execution_count": 3,
      "outputs": []
    },
    {
      "cell_type": "code",
      "source": [
        "import pickle\n",
        "with open(\"/kaggle/input/itba-cifar-100-2024-q-1/fine_label_names.pck\", \"rb\") as f:\n",
        "    labels_fine = pickle.load(f)\n",
        "with open(\"/kaggle/input/itba-cifar-100-2024-q-1/coarse_label_names.pck\", \"rb\") as f:\n",
        "    labels_coarse = pickle.load(f)"
      ],
      "metadata": {
        "execution": {
          "iopub.status.busy": "2024-06-23T16:41:37.158477Z",
          "iopub.execute_input": "2024-06-23T16:41:37.158735Z",
          "iopub.status.idle": "2024-06-23T16:41:37.16472Z",
          "shell.execute_reply.started": "2024-06-23T16:41:37.158713Z",
          "shell.execute_reply": "2024-06-23T16:41:37.163794Z"
        },
        "trusted": true,
        "id": "WyqyLwsRWu2-"
      },
      "execution_count": 4,
      "outputs": []
    },
    {
      "cell_type": "code",
      "source": [
        "from matplotlib import pyplot as plt\n",
        "%load_ext tensorboard"
      ],
      "metadata": {
        "execution": {
          "iopub.status.busy": "2024-06-23T16:41:37.167339Z",
          "iopub.execute_input": "2024-06-23T16:41:37.167776Z",
          "iopub.status.idle": "2024-06-23T16:41:37.17875Z",
          "shell.execute_reply.started": "2024-06-23T16:41:37.167741Z",
          "shell.execute_reply": "2024-06-23T16:41:37.177872Z"
        },
        "trusted": true,
        "id": "KrzKwCv5Wu2-"
      },
      "execution_count": 5,
      "outputs": []
    },
    {
      "cell_type": "code",
      "source": [
        "plt.figure(figsize=(1,1))\n",
        "plt.imshow(x_train[25])"
      ],
      "metadata": {
        "execution": {
          "iopub.status.busy": "2024-06-23T16:41:37.179805Z",
          "iopub.execute_input": "2024-06-23T16:41:37.180097Z",
          "iopub.status.idle": "2024-06-23T16:41:37.308008Z",
          "shell.execute_reply.started": "2024-06-23T16:41:37.180062Z",
          "shell.execute_reply": "2024-06-23T16:41:37.306686Z"
        },
        "trusted": true,
        "colab": {
          "base_uri": "https://localhost:8080/",
          "height": 159
        },
        "id": "Cn1w30gZWu2_",
        "outputId": "7c188340-b18d-415c-8904-11cbff91014d"
      },
      "execution_count": 6,
      "outputs": [
        {
          "output_type": "execute_result",
          "data": {
            "text/plain": [
              "<matplotlib.image.AxesImage at 0x7d35b7da5180>"
            ]
          },
          "metadata": {},
          "execution_count": 6
        },
        {
          "output_type": "display_data",
          "data": {
            "text/plain": [
              "<Figure size 100x100 with 1 Axes>"
            ],
            "image/png": "[encoded data removed]"
          },
          "metadata": {}
        }
      ]
    },
    {
      "cell_type": "code",
      "source": [
        "y_train_fine[25]"
      ],
      "metadata": {
        "execution": {
          "iopub.status.busy": "2024-06-23T16:41:37.309664Z",
          "iopub.execute_input": "2024-06-23T16:41:37.310882Z",
          "iopub.status.idle": "2024-06-23T16:41:37.318548Z",
          "shell.execute_reply.started": "2024-06-23T16:41:37.310842Z",
          "shell.execute_reply": "2024-06-23T16:41:37.317191Z"
        },
        "trusted": true,
        "colab": {
          "base_uri": "https://localhost:8080/"
        },
        "id": "EjKw2EYCWu3A",
        "outputId": "6293324a-1e79-4394-a59d-23df7455099b"
      },
      "execution_count": 7,
      "outputs": [
        {
          "output_type": "execute_result",
          "data": {
            "text/plain": [
              "84"
            ]
          },
          "metadata": {},
          "execution_count": 7
        }
      ]
    },
    {
      "cell_type": "code",
      "source": [
        "labels_fine[84]"
      ],
      "metadata": {
        "execution": {
          "iopub.status.busy": "2024-06-23T16:41:37.320257Z",
          "iopub.execute_input": "2024-06-23T16:41:37.320974Z",
          "iopub.status.idle": "2024-06-23T16:41:37.327763Z",
          "shell.execute_reply.started": "2024-06-23T16:41:37.320937Z",
          "shell.execute_reply": "2024-06-23T16:41:37.326727Z"
        },
        "trusted": true,
        "colab": {
          "base_uri": "https://localhost:8080/",
          "height": 35
        },
        "id": "Z8MgUj7jWu3A",
        "outputId": "5b5db2b4-45d9-4c51-870a-a553b2ea1dd7"
      },
      "execution_count": 8,
      "outputs": [
        {
          "output_type": "execute_result",
          "data": {
            "text/plain": [
              "'table'"
            ],
            "application/vnd.google.colaboratory.intrinsic+json": {
              "type": "string"
            }
          },
          "metadata": {},
          "execution_count": 8
        }
      ]
    },
    {
      "cell_type": "code",
      "source": [
        "# Me fijo para una categoría de grano grueso, cuáles son las categorías de grano fino\n",
        "coarse = 6\n",
        "print(f\"Grano grueso: {labels_coarse[coarse]}\")\n",
        "for fine in np.unique(y_train_fine[y_train_coarse == coarse]):\n",
        "    print(f\"Grano fino: {labels_fine[fine]}\")"
      ],
      "metadata": {
        "execution": {
          "iopub.status.busy": "2024-06-23T16:41:37.329446Z",
          "iopub.execute_input": "2024-06-23T16:41:37.329988Z",
          "iopub.status.idle": "2024-06-23T16:41:37.337306Z",
          "shell.execute_reply.started": "2024-06-23T16:41:37.329952Z",
          "shell.execute_reply": "2024-06-23T16:41:37.336413Z"
        },
        "trusted": true,
        "colab": {
          "base_uri": "https://localhost:8080/"
        },
        "id": "tVrqe7OUWu3B",
        "outputId": "7f48054a-9c25-4317-84a2-04f5aee93008"
      },
      "execution_count": 9,
      "outputs": [
        {
          "output_type": "stream",
          "name": "stdout",
          "text": [
            "Grano grueso: household_furniture\n",
            "Grano fino: bed\n",
            "Grano fino: chair\n",
            "Grano fino: couch\n",
            "Grano fino: table\n",
            "Grano fino: wardrobe\n"
          ]
        }
      ]
    },
    {
      "cell_type": "code",
      "source": [
        "from tensorflow.keras.models import Sequential\n",
        "from tensorflow.keras.layers import Dense, Dropout, BatchNormalization, Flatten\n",
        "from tensorflow.keras.preprocessing.image import ImageDataGenerator\n",
        "from tensorflow.keras.optimizers import SGD, Adam, AdamW, RMSprop\n",
        "from tensorflow.keras.regularizers import l1, l2\n",
        "from tensorflow.keras.constraints import MaxNorm\n",
        "from tensorflow.keras.callbacks import ReduceLROnPlateau, EarlyStopping, ModelCheckpoint, TensorBoard"
      ],
      "metadata": {
        "execution": {
          "iopub.status.busy": "2024-06-23T16:41:37.342643Z",
          "iopub.execute_input": "2024-06-23T16:41:37.343727Z",
          "iopub.status.idle": "2024-06-23T16:41:37.350587Z",
          "shell.execute_reply.started": "2024-06-23T16:41:37.343696Z",
          "shell.execute_reply": "2024-06-23T16:41:37.349488Z"
        },
        "trusted": true,
        "id": "QsvmZn5UWu3C"
      },
      "execution_count": 10,
      "outputs": []
    },
    {
      "cell_type": "code",
      "source": [
        "x_train.shape"
      ],
      "metadata": {
        "execution": {
          "iopub.status.busy": "2024-06-23T16:41:37.352158Z",
          "iopub.execute_input": "2024-06-23T16:41:37.353255Z",
          "iopub.status.idle": "2024-06-23T16:41:37.361699Z",
          "shell.execute_reply.started": "2024-06-23T16:41:37.353223Z",
          "shell.execute_reply": "2024-06-23T16:41:37.360622Z"
        },
        "trusted": true,
        "colab": {
          "base_uri": "https://localhost:8080/"
        },
        "id": "kqJpKI9TWu3D",
        "outputId": "2c038e97-e20e-4f89-9633-9b942e94d9b5"
      },
      "execution_count": 11,
      "outputs": [
        {
          "output_type": "execute_result",
          "data": {
            "text/plain": [
              "(50000, 32, 32, 3)"
            ]
          },
          "metadata": {},
          "execution_count": 11
        }
      ]
    },
    {
      "cell_type": "code",
      "source": [
        "model = Sequential()\n",
        "model.add(Flatten(input_shape=(32,32,3)))\n",
        "model.add(BatchNormalization())\n",
        "model.add(Dense(1536,activation = \"leaky_relu\",use_bias=True))\n",
        "model.add(BatchNormalization())\n",
        "model.add(Dropout(0.5))\n",
        "model.add(Dense(100, activation= \"softmax\"))\n",
        "model.compile(loss=\"sparse_categorical_crossentropy\", metrics = [\"accuracy\"], optimizer = Adam(learning_rate=0.001))"
      ],
      "metadata": {
        "execution": {
          "iopub.status.busy": "2024-06-23T16:41:37.363264Z",
          "iopub.execute_input": "2024-06-23T16:41:37.36427Z",
          "iopub.status.idle": "2024-06-23T16:41:37.432336Z",
          "shell.execute_reply.started": "2024-06-23T16:41:37.364236Z",
          "shell.execute_reply": "2024-06-23T16:41:37.43142Z"
        },
        "trusted": true,
        "id": "PIg7rzpyWu3E"
      },
      "execution_count": 12,
      "outputs": []
    },
    {
      "cell_type": "code",
      "source": [
        "model.summary()"
      ],
      "metadata": {
        "execution": {
          "iopub.status.busy": "2024-06-23T16:41:37.433421Z",
          "iopub.execute_input": "2024-06-23T16:41:37.433672Z",
          "iopub.status.idle": "2024-06-23T16:41:37.455438Z",
          "shell.execute_reply.started": "2024-06-23T16:41:37.433649Z",
          "shell.execute_reply": "2024-06-23T16:41:37.454573Z"
        },
        "trusted": true,
        "colab": {
          "base_uri": "https://localhost:8080/"
        },
        "id": "NkI0dRLlWu3F",
        "outputId": "67543c20-c942-473a-c080-c05c6fee93b5"
      },
      "execution_count": 13,
      "outputs": [
        {
          "output_type": "stream",
          "name": "stdout",
          "text": [
            "Model: \"sequential\"\n",
            "_________________________________________________________________\n",
            " Layer (type)                Output Shape              Param #   \n",
            "=================================================================\n",
            " flatten (Flatten)           (None, 3072)              0         \n",
            "                                                                 \n",
            " batch_normalization (Batch  (None, 3072)              12288     \n",
            " Normalization)                                                  \n",
            "                                                                 \n",
            " dense (Dense)               (None, 1536)              4720128   \n",
            "                                                                 \n",
            " batch_normalization_1 (Bat  (None, 1536)              6144      \n",
            " chNormalization)                                                \n",
            "                                                                 \n",
            " dropout (Dropout)           (None, 1536)              0         \n",
            "                                                                 \n",
            " dense_1 (Dense)             (None, 100)               153700    \n",
            "                                                                 \n",
            "=================================================================\n",
            "Total params: 4892260 (18.66 MB)\n",
            "Trainable params: 4883044 (18.63 MB)\n",
            "Non-trainable params: 9216 (36.00 KB)\n",
            "_________________________________________________________________\n"
          ]
        }
      ]
    },
    {
      "cell_type": "code",
      "source": [
        "rlrop = ReduceLROnPlateau(\n",
        "    monitor = \"val_accuracy\",\n",
        "    factor = 0.5,\n",
        "    patience = 2,\n",
        "    verbose = 1,\n",
        "    min_lr = 1e-7,\n",
        ")\n"
      ],
      "metadata": {
        "execution": {
          "iopub.status.busy": "2024-06-23T16:41:37.456556Z",
          "iopub.execute_input": "2024-06-23T16:41:37.456815Z",
          "iopub.status.idle": "2024-06-23T16:41:37.46133Z",
          "shell.execute_reply.started": "2024-06-23T16:41:37.456792Z",
          "shell.execute_reply": "2024-06-23T16:41:37.460398Z"
        },
        "trusted": true,
        "id": "aTkiUMLuWu3F"
      },
      "execution_count": 14,
      "outputs": []
    },
    {
      "cell_type": "code",
      "source": [
        "mc = ModelCheckpoint(\n",
        "    \"best.weights.h5\",\n",
        "    monitor = \"val_accuracy\",\n",
        "    verbose = 1,\n",
        "    save_best_only = True,\n",
        "    save_weights_only = True,\n",
        ")"
      ],
      "metadata": {
        "execution": {
          "iopub.status.busy": "2024-06-23T16:41:37.46247Z",
          "iopub.execute_input": "2024-06-23T16:41:37.46275Z",
          "iopub.status.idle": "2024-06-23T16:41:37.473019Z",
          "shell.execute_reply.started": "2024-06-23T16:41:37.462727Z",
          "shell.execute_reply": "2024-06-23T16:41:37.472118Z"
        },
        "trusted": true,
        "id": "UaFdlcPIWu3F"
      },
      "execution_count": 15,
      "outputs": []
    },
    {
      "cell_type": "code",
      "source": [
        "es = EarlyStopping(\n",
        "    monitor = \"val_accuracy\",\n",
        "    patience = 8,\n",
        "    verbose = 1,\n",
        "    restore_best_weights = True,\n",
        ")"
      ],
      "metadata": {
        "execution": {
          "iopub.status.busy": "2024-06-23T16:41:37.4742Z",
          "iopub.execute_input": "2024-06-23T16:41:37.474506Z",
          "iopub.status.idle": "2024-06-23T16:41:37.48222Z",
          "shell.execute_reply.started": "2024-06-23T16:41:37.474483Z",
          "shell.execute_reply": "2024-06-23T16:41:37.48139Z"
        },
        "trusted": true,
        "id": "bWEC0DTyWu3G"
      },
      "execution_count": 16,
      "outputs": []
    },
    {
      "cell_type": "code",
      "source": [
        "data_val = ImageDataGenerator(validation_split = 0.2)\n",
        "\n",
        "data_train = ImageDataGenerator(\n",
        "    zoom_range = 0.2,\n",
        "    horizontal_flip = True,\n",
        "    validation_split = 0.2)\n",
        "\n",
        "train_data = data_train.flow(x_train, y_train_fine, batch_size=64, subset='training')\n",
        "val_data = data_val.flow(x_train, y_train_fine, batch_size=64, subset='validation')\n"
      ],
      "metadata": {
        "execution": {
          "iopub.status.busy": "2024-06-23T16:41:37.483353Z",
          "iopub.execute_input": "2024-06-23T16:41:37.483781Z",
          "iopub.status.idle": "2024-06-23T16:41:37.730222Z",
          "shell.execute_reply.started": "2024-06-23T16:41:37.483747Z",
          "shell.execute_reply": "2024-06-23T16:41:37.729163Z"
        },
        "trusted": true,
        "id": "gWB8iOpOWu3G"
      },
      "execution_count": 17,
      "outputs": []
    },
    {
      "cell_type": "code",
      "source": [
        "tb = TensorBoard(\n",
        "    log_dir=\"logs\",\n",
        ")"
      ],
      "metadata": {
        "execution": {
          "iopub.status.busy": "2024-06-23T16:41:37.731331Z",
          "iopub.execute_input": "2024-06-23T16:41:37.731631Z",
          "iopub.status.idle": "2024-06-23T16:41:37.736311Z",
          "shell.execute_reply.started": "2024-06-23T16:41:37.731607Z",
          "shell.execute_reply": "2024-06-23T16:41:37.7354Z"
        },
        "trusted": true,
        "id": "kng76sZkWu3H"
      },
      "execution_count": 18,
      "outputs": []
    },
    {
      "cell_type": "code",
      "source": [
        "history = model.fit(\n",
        "    train_data,\n",
        "    epochs = 200,\n",
        "    validation_data = val_data,\n",
        "    callbacks= [rlrop, es, mc, tb]\n",
        ")"
      ],
      "metadata": {
        "execution": {
          "iopub.status.busy": "2024-06-23T16:41:37.737591Z",
          "iopub.execute_input": "2024-06-23T16:41:37.737904Z",
          "iopub.status.idle": "2024-06-23T16:56:42.172386Z",
          "shell.execute_reply.started": "2024-06-23T16:41:37.737872Z",
          "shell.execute_reply": "2024-06-23T16:56:42.171587Z"
        },
        "trusted": true,
        "colab": {
          "base_uri": "https://localhost:8080/"
        },
        "id": "m2HLi76JWu3H",
        "outputId": "49b2b077-8baf-4203-cdc8-c395925a0477"
      },
      "execution_count": 19,
      "outputs": [
        {
          "output_type": "stream",
          "name": "stdout",
          "text": [
            "Epoch 1/200\n",
            "625/625 [==============================] - ETA: 0s - loss: 4.7141 - accuracy: 0.0838\n",
            "Epoch 1: val_accuracy improved from -inf to 0.14060, saving model to best.weights.h5\n",
            "625/625 [==============================] - 25s 33ms/step - loss: 4.7141 - accuracy: 0.0838 - val_loss: 3.8668 - val_accuracy: 0.1406 - lr: 0.0010\n",
            "Epoch 2/200\n",
            "624/625 [============================>.] - ETA: 0s - loss: 4.1805 - accuracy: 0.1143\n",
            "Epoch 2: val_accuracy improved from 0.14060 to 0.16760, saving model to best.weights.h5\n",
            "625/625 [==============================] - 21s 33ms/step - loss: 4.1802 - accuracy: 0.1142 - val_loss: 3.6944 - val_accuracy: 0.1676 - lr: 0.0010\n",
            "Epoch 3/200\n",
            "624/625 [============================>.] - ETA: 0s - loss: 3.9363 - accuracy: 0.1350\n",
            "Epoch 3: val_accuracy improved from 0.16760 to 0.18670, saving model to best.weights.h5\n",
            "625/625 [==============================] - 22s 35ms/step - loss: 3.9368 - accuracy: 0.1349 - val_loss: 3.5630 - val_accuracy: 0.1867 - lr: 0.0010\n",
            "Epoch 4/200\n",
            "624/625 [============================>.] - ETA: 0s - loss: 3.7808 - accuracy: 0.1491\n",
            "Epoch 4: val_accuracy improved from 0.18670 to 0.19090, saving model to best.weights.h5\n",
            "625/625 [==============================] - 21s 33ms/step - loss: 3.7809 - accuracy: 0.1491 - val_loss: 3.4691 - val_accuracy: 0.1909 - lr: 0.0010\n",
            "Epoch 5/200\n",
            "624/625 [============================>.] - ETA: 0s - loss: 3.6611 - accuracy: 0.1610\n",
            "Epoch 5: val_accuracy improved from 0.19090 to 0.20120, saving model to best.weights.h5\n",
            "625/625 [==============================] - 22s 35ms/step - loss: 3.6604 - accuracy: 0.1612 - val_loss: 3.4355 - val_accuracy: 0.2012 - lr: 0.0010\n",
            "Epoch 6/200\n",
            "624/625 [============================>.] - ETA: 0s - loss: 3.5767 - accuracy: 0.1708\n",
            "Epoch 6: val_accuracy improved from 0.20120 to 0.20620, saving model to best.weights.h5\n",
            "625/625 [==============================] - 20s 32ms/step - loss: 3.5770 - accuracy: 0.1708 - val_loss: 3.3853 - val_accuracy: 0.2062 - lr: 0.0010\n",
            "Epoch 7/200\n",
            "624/625 [============================>.] - ETA: 0s - loss: 3.5072 - accuracy: 0.1801\n",
            "Epoch 7: val_accuracy improved from 0.20620 to 0.22320, saving model to best.weights.h5\n",
            "625/625 [==============================] - 22s 35ms/step - loss: 3.5070 - accuracy: 0.1801 - val_loss: 3.3049 - val_accuracy: 0.2232 - lr: 0.0010\n",
            "Epoch 8/200\n",
            "624/625 [============================>.] - ETA: 0s - loss: 3.4546 - accuracy: 0.1867\n",
            "Epoch 8: val_accuracy did not improve from 0.22320\n",
            "625/625 [==============================] - 21s 34ms/step - loss: 3.4551 - accuracy: 0.1867 - val_loss: 3.2913 - val_accuracy: 0.2151 - lr: 0.0010\n",
            "Epoch 9/200\n",
            "624/625 [============================>.] - ETA: 0s - loss: 3.4081 - accuracy: 0.1952\n",
            "Epoch 9: val_accuracy improved from 0.22320 to 0.22490, saving model to best.weights.h5\n",
            "625/625 [==============================] - 21s 33ms/step - loss: 3.4077 - accuracy: 0.1954 - val_loss: 3.2706 - val_accuracy: 0.2249 - lr: 0.0010\n",
            "Epoch 10/200\n",
            "624/625 [============================>.] - ETA: 0s - loss: 3.3708 - accuracy: 0.2018\n",
            "Epoch 10: val_accuracy improved from 0.22490 to 0.22500, saving model to best.weights.h5\n",
            "625/625 [==============================] - 20s 32ms/step - loss: 3.3707 - accuracy: 0.2019 - val_loss: 3.2609 - val_accuracy: 0.2250 - lr: 0.0010\n",
            "Epoch 11/200\n",
            "624/625 [============================>.] - ETA: 0s - loss: 3.3335 - accuracy: 0.2077\n",
            "Epoch 11: val_accuracy improved from 0.22500 to 0.23680, saving model to best.weights.h5\n",
            "625/625 [==============================] - 20s 32ms/step - loss: 3.3336 - accuracy: 0.2077 - val_loss: 3.2180 - val_accuracy: 0.2368 - lr: 0.0010\n",
            "Epoch 12/200\n",
            "624/625 [============================>.] - ETA: 0s - loss: 3.3103 - accuracy: 0.2124\n",
            "Epoch 12: val_accuracy improved from 0.23680 to 0.24400, saving model to best.weights.h5\n",
            "625/625 [==============================] - 21s 33ms/step - loss: 3.3110 - accuracy: 0.2123 - val_loss: 3.1872 - val_accuracy: 0.2440 - lr: 0.0010\n",
            "Epoch 13/200\n",
            "625/625 [==============================] - ETA: 0s - loss: 3.2843 - accuracy: 0.2183\n",
            "Epoch 13: val_accuracy did not improve from 0.24400\n",
            "625/625 [==============================] - 20s 32ms/step - loss: 3.2843 - accuracy: 0.2183 - val_loss: 3.1734 - val_accuracy: 0.2423 - lr: 0.0010\n",
            "Epoch 14/200\n",
            "624/625 [============================>.] - ETA: 0s - loss: 3.2664 - accuracy: 0.2199\n",
            "Epoch 14: ReduceLROnPlateau reducing learning rate to 0.0005000000237487257.\n",
            "\n",
            "Epoch 14: val_accuracy did not improve from 0.24400\n",
            "625/625 [==============================] - 22s 34ms/step - loss: 3.2661 - accuracy: 0.2200 - val_loss: 3.1642 - val_accuracy: 0.2432 - lr: 0.0010\n",
            "Epoch 15/200\n",
            "624/625 [============================>.] - ETA: 0s - loss: 3.1758 - accuracy: 0.2382\n",
            "Epoch 15: val_accuracy improved from 0.24400 to 0.26220, saving model to best.weights.h5\n",
            "625/625 [==============================] - 21s 34ms/step - loss: 3.1757 - accuracy: 0.2382 - val_loss: 3.0937 - val_accuracy: 0.2622 - lr: 5.0000e-04\n",
            "Epoch 16/200\n",
            "625/625 [==============================] - ETA: 0s - loss: 3.1426 - accuracy: 0.2414\n",
            "Epoch 16: val_accuracy improved from 0.26220 to 0.26400, saving model to best.weights.h5\n",
            "625/625 [==============================] - 21s 34ms/step - loss: 3.1426 - accuracy: 0.2414 - val_loss: 3.0818 - val_accuracy: 0.2640 - lr: 5.0000e-04\n",
            "Epoch 17/200\n",
            "624/625 [============================>.] - ETA: 0s - loss: 3.1356 - accuracy: 0.2471\n",
            "Epoch 17: val_accuracy improved from 0.26400 to 0.26540, saving model to best.weights.h5\n",
            "625/625 [==============================] - 19s 31ms/step - loss: 3.1354 - accuracy: 0.2472 - val_loss: 3.0736 - val_accuracy: 0.2654 - lr: 5.0000e-04\n",
            "Epoch 18/200\n",
            "625/625 [==============================] - ETA: 0s - loss: 3.1147 - accuracy: 0.2506\n",
            "Epoch 18: val_accuracy improved from 0.26540 to 0.27250, saving model to best.weights.h5\n",
            "625/625 [==============================] - 21s 33ms/step - loss: 3.1147 - accuracy: 0.2506 - val_loss: 3.0591 - val_accuracy: 0.2725 - lr: 5.0000e-04\n",
            "Epoch 19/200\n",
            "624/625 [============================>.] - ETA: 0s - loss: 3.1079 - accuracy: 0.2505\n",
            "Epoch 19: val_accuracy did not improve from 0.27250\n",
            "625/625 [==============================] - 19s 31ms/step - loss: 3.1079 - accuracy: 0.2505 - val_loss: 3.0517 - val_accuracy: 0.2715 - lr: 5.0000e-04\n",
            "Epoch 20/200\n",
            "625/625 [==============================] - ETA: 0s - loss: 3.0889 - accuracy: 0.2546\n",
            "Epoch 20: val_accuracy improved from 0.27250 to 0.27380, saving model to best.weights.h5\n",
            "625/625 [==============================] - 21s 34ms/step - loss: 3.0889 - accuracy: 0.2546 - val_loss: 3.0417 - val_accuracy: 0.2738 - lr: 5.0000e-04\n",
            "Epoch 21/200\n",
            "625/625 [==============================] - ETA: 0s - loss: 3.0781 - accuracy: 0.2581\n",
            "Epoch 21: val_accuracy did not improve from 0.27380\n",
            "625/625 [==============================] - 20s 33ms/step - loss: 3.0781 - accuracy: 0.2581 - val_loss: 3.0341 - val_accuracy: 0.2731 - lr: 5.0000e-04\n",
            "Epoch 22/200\n",
            "625/625 [==============================] - ETA: 0s - loss: 3.0736 - accuracy: 0.2580\n",
            "Epoch 22: val_accuracy improved from 0.27380 to 0.27840, saving model to best.weights.h5\n",
            "625/625 [==============================] - 20s 32ms/step - loss: 3.0736 - accuracy: 0.2580 - val_loss: 3.0276 - val_accuracy: 0.2784 - lr: 5.0000e-04\n",
            "Epoch 23/200\n",
            "625/625 [==============================] - ETA: 0s - loss: 3.0559 - accuracy: 0.2615\n",
            "Epoch 23: val_accuracy improved from 0.27840 to 0.27850, saving model to best.weights.h5\n",
            "625/625 [==============================] - 21s 34ms/step - loss: 3.0559 - accuracy: 0.2615 - val_loss: 3.0163 - val_accuracy: 0.2785 - lr: 5.0000e-04\n",
            "Epoch 24/200\n",
            "624/625 [============================>.] - ETA: 0s - loss: 3.0430 - accuracy: 0.2616\n",
            "Epoch 24: val_accuracy improved from 0.27850 to 0.27910, saving model to best.weights.h5\n",
            "625/625 [==============================] - 23s 36ms/step - loss: 3.0428 - accuracy: 0.2616 - val_loss: 3.0137 - val_accuracy: 0.2791 - lr: 5.0000e-04\n",
            "Epoch 25/200\n",
            "624/625 [============================>.] - ETA: 0s - loss: 3.0448 - accuracy: 0.2630\n",
            "Epoch 25: val_accuracy improved from 0.27910 to 0.27990, saving model to best.weights.h5\n",
            "625/625 [==============================] - 21s 33ms/step - loss: 3.0448 - accuracy: 0.2631 - val_loss: 3.0045 - val_accuracy: 0.2799 - lr: 5.0000e-04\n",
            "Epoch 26/200\n",
            "625/625 [==============================] - ETA: 0s - loss: 3.0342 - accuracy: 0.2663\n",
            "Epoch 26: val_accuracy improved from 0.27990 to 0.28370, saving model to best.weights.h5\n",
            "625/625 [==============================] - 21s 34ms/step - loss: 3.0342 - accuracy: 0.2663 - val_loss: 3.0025 - val_accuracy: 0.2837 - lr: 5.0000e-04\n",
            "Epoch 27/200\n",
            "624/625 [============================>.] - ETA: 0s - loss: 3.0236 - accuracy: 0.2675\n",
            "Epoch 27: val_accuracy improved from 0.28370 to 0.28450, saving model to best.weights.h5\n",
            "625/625 [==============================] - 20s 32ms/step - loss: 3.0234 - accuracy: 0.2675 - val_loss: 2.9949 - val_accuracy: 0.2845 - lr: 5.0000e-04\n",
            "Epoch 28/200\n",
            "625/625 [==============================] - ETA: 0s - loss: 3.0137 - accuracy: 0.2690\n",
            "Epoch 28: val_accuracy improved from 0.28450 to 0.28640, saving model to best.weights.h5\n",
            "625/625 [==============================] - 22s 34ms/step - loss: 3.0137 - accuracy: 0.2690 - val_loss: 2.9912 - val_accuracy: 0.2864 - lr: 5.0000e-04\n",
            "Epoch 29/200\n",
            "624/625 [============================>.] - ETA: 0s - loss: 3.0094 - accuracy: 0.2706\n",
            "Epoch 29: val_accuracy did not improve from 0.28640\n",
            "625/625 [==============================] - 23s 37ms/step - loss: 3.0098 - accuracy: 0.2706 - val_loss: 2.9853 - val_accuracy: 0.2850 - lr: 5.0000e-04\n",
            "Epoch 30/200\n",
            "624/625 [============================>.] - ETA: 0s - loss: 2.9986 - accuracy: 0.2705\n",
            "Epoch 30: ReduceLROnPlateau reducing learning rate to 0.0002500000118743628.\n",
            "\n",
            "Epoch 30: val_accuracy did not improve from 0.28640\n",
            "625/625 [==============================] - 22s 34ms/step - loss: 2.9988 - accuracy: 0.2706 - val_loss: 2.9832 - val_accuracy: 0.2830 - lr: 5.0000e-04\n",
            "Epoch 31/200\n",
            "625/625 [==============================] - ETA: 0s - loss: 2.9497 - accuracy: 0.2821\n",
            "Epoch 31: val_accuracy improved from 0.28640 to 0.28970, saving model to best.weights.h5\n",
            "625/625 [==============================] - 21s 33ms/step - loss: 2.9497 - accuracy: 0.2821 - val_loss: 2.9505 - val_accuracy: 0.2897 - lr: 2.5000e-04\n",
            "Epoch 32/200\n",
            "624/625 [============================>.] - ETA: 0s - loss: 2.9412 - accuracy: 0.2841\n",
            "Epoch 32: val_accuracy improved from 0.28970 to 0.28980, saving model to best.weights.h5\n",
            "625/625 [==============================] - 22s 35ms/step - loss: 2.9411 - accuracy: 0.2841 - val_loss: 2.9466 - val_accuracy: 0.2898 - lr: 2.5000e-04\n",
            "Epoch 33/200\n",
            "625/625 [==============================] - ETA: 0s - loss: 2.9280 - accuracy: 0.2862\n",
            "Epoch 33: val_accuracy improved from 0.28980 to 0.29450, saving model to best.weights.h5\n",
            "625/625 [==============================] - 22s 35ms/step - loss: 2.9280 - accuracy: 0.2862 - val_loss: 2.9406 - val_accuracy: 0.2945 - lr: 2.5000e-04\n",
            "Epoch 34/200\n",
            "625/625 [==============================] - ETA: 0s - loss: 2.9236 - accuracy: 0.2880\n",
            "Epoch 34: val_accuracy did not improve from 0.29450\n",
            "625/625 [==============================] - 20s 33ms/step - loss: 2.9236 - accuracy: 0.2880 - val_loss: 2.9369 - val_accuracy: 0.2932 - lr: 2.5000e-04\n",
            "Epoch 35/200\n",
            "624/625 [============================>.] - ETA: 0s - loss: 2.9187 - accuracy: 0.2877\n",
            "Epoch 35: ReduceLROnPlateau reducing learning rate to 0.0001250000059371814.\n",
            "\n",
            "Epoch 35: val_accuracy did not improve from 0.29450\n",
            "625/625 [==============================] - 20s 33ms/step - loss: 2.9188 - accuracy: 0.2878 - val_loss: 2.9355 - val_accuracy: 0.2944 - lr: 2.5000e-04\n",
            "Epoch 36/200\n",
            "624/625 [============================>.] - ETA: 0s - loss: 2.8856 - accuracy: 0.2962\n",
            "Epoch 36: val_accuracy improved from 0.29450 to 0.30090, saving model to best.weights.h5\n",
            "625/625 [==============================] - 22s 35ms/step - loss: 2.8850 - accuracy: 0.2964 - val_loss: 2.9214 - val_accuracy: 0.3009 - lr: 1.2500e-04\n",
            "Epoch 37/200\n",
            "624/625 [============================>.] - ETA: 0s - loss: 2.8785 - accuracy: 0.2975\n",
            "Epoch 37: val_accuracy did not improve from 0.30090\n",
            "625/625 [==============================] - 21s 33ms/step - loss: 2.8787 - accuracy: 0.2974 - val_loss: 2.9198 - val_accuracy: 0.3005 - lr: 1.2500e-04\n",
            "Epoch 38/200\n",
            "625/625 [==============================] - ETA: 0s - loss: 2.8745 - accuracy: 0.2982\n",
            "Epoch 38: ReduceLROnPlateau reducing learning rate to 6.25000029685907e-05.\n",
            "\n",
            "Epoch 38: val_accuracy did not improve from 0.30090\n",
            "625/625 [==============================] - 22s 35ms/step - loss: 2.8745 - accuracy: 0.2982 - val_loss: 2.9138 - val_accuracy: 0.3005 - lr: 1.2500e-04\n",
            "Epoch 39/200\n",
            "625/625 [==============================] - ETA: 0s - loss: 2.8495 - accuracy: 0.3034\n",
            "Epoch 39: val_accuracy improved from 0.30090 to 0.30120, saving model to best.weights.h5\n",
            "625/625 [==============================] - 21s 33ms/step - loss: 2.8495 - accuracy: 0.3034 - val_loss: 2.9109 - val_accuracy: 0.3012 - lr: 6.2500e-05\n",
            "Epoch 40/200\n",
            "624/625 [============================>.] - ETA: 0s - loss: 2.8515 - accuracy: 0.3005\n",
            "Epoch 40: val_accuracy did not improve from 0.30120\n",
            "625/625 [==============================] - 21s 34ms/step - loss: 2.8523 - accuracy: 0.3003 - val_loss: 2.9090 - val_accuracy: 0.3008 - lr: 6.2500e-05\n",
            "Epoch 41/200\n",
            "624/625 [============================>.] - ETA: 0s - loss: 2.8526 - accuracy: 0.3009\n",
            "Epoch 41: val_accuracy improved from 0.30120 to 0.30180, saving model to best.weights.h5\n",
            "625/625 [==============================] - 20s 32ms/step - loss: 2.8522 - accuracy: 0.3010 - val_loss: 2.9080 - val_accuracy: 0.3018 - lr: 6.2500e-05\n",
            "Epoch 42/200\n",
            "624/625 [============================>.] - ETA: 0s - loss: 2.8496 - accuracy: 0.3032\n",
            "Epoch 42: val_accuracy improved from 0.30180 to 0.30220, saving model to best.weights.h5\n",
            "625/625 [==============================] - 21s 34ms/step - loss: 2.8490 - accuracy: 0.3033 - val_loss: 2.9075 - val_accuracy: 0.3022 - lr: 6.2500e-05\n",
            "Epoch 43/200\n",
            "624/625 [============================>.] - ETA: 0s - loss: 2.8454 - accuracy: 0.3044\n",
            "Epoch 43: val_accuracy improved from 0.30220 to 0.30390, saving model to best.weights.h5\n",
            "625/625 [==============================] - 20s 32ms/step - loss: 2.8452 - accuracy: 0.3044 - val_loss: 2.9032 - val_accuracy: 0.3039 - lr: 6.2500e-05\n",
            "Epoch 44/200\n",
            "625/625 [==============================] - ETA: 0s - loss: 2.8536 - accuracy: 0.2983\n",
            "Epoch 44: val_accuracy did not improve from 0.30390\n",
            "625/625 [==============================] - 21s 33ms/step - loss: 2.8536 - accuracy: 0.2983 - val_loss: 2.9048 - val_accuracy: 0.3036 - lr: 6.2500e-05\n",
            "Epoch 45/200\n",
            "624/625 [============================>.] - ETA: 0s - loss: 2.8424 - accuracy: 0.3040\n",
            "Epoch 45: ReduceLROnPlateau reducing learning rate to 3.125000148429535e-05.\n",
            "\n",
            "Epoch 45: val_accuracy did not improve from 0.30390\n",
            "625/625 [==============================] - 21s 34ms/step - loss: 2.8430 - accuracy: 0.3039 - val_loss: 2.9044 - val_accuracy: 0.3020 - lr: 6.2500e-05\n",
            "Epoch 46/200\n",
            "625/625 [==============================] - ETA: 0s - loss: 2.8352 - accuracy: 0.3038\n",
            "Epoch 46: val_accuracy did not improve from 0.30390\n",
            "625/625 [==============================] - 20s 32ms/step - loss: 2.8352 - accuracy: 0.3038 - val_loss: 2.9024 - val_accuracy: 0.3025 - lr: 3.1250e-05\n",
            "Epoch 47/200\n",
            "624/625 [============================>.] - ETA: 0s - loss: 2.8373 - accuracy: 0.3051\n",
            "Epoch 47: ReduceLROnPlateau reducing learning rate to 1.5625000742147677e-05.\n",
            "\n",
            "Epoch 47: val_accuracy did not improve from 0.30390\n",
            "625/625 [==============================] - 20s 33ms/step - loss: 2.8369 - accuracy: 0.3053 - val_loss: 2.9010 - val_accuracy: 0.3021 - lr: 3.1250e-05\n",
            "Epoch 48/200\n",
            "624/625 [============================>.] - ETA: 0s - loss: 2.8364 - accuracy: 0.3075\n",
            "Epoch 48: val_accuracy improved from 0.30390 to 0.30430, saving model to best.weights.h5\n",
            "625/625 [==============================] - 20s 32ms/step - loss: 2.8367 - accuracy: 0.3075 - val_loss: 2.9002 - val_accuracy: 0.3043 - lr: 1.5625e-05\n",
            "Epoch 49/200\n",
            "624/625 [============================>.] - ETA: 0s - loss: 2.8322 - accuracy: 0.3063\n",
            "Epoch 49: val_accuracy did not improve from 0.30430\n",
            "625/625 [==============================] - 21s 33ms/step - loss: 2.8322 - accuracy: 0.3061 - val_loss: 2.9004 - val_accuracy: 0.3030 - lr: 1.5625e-05\n",
            "Epoch 50/200\n",
            "625/625 [==============================] - ETA: 0s - loss: 2.8200 - accuracy: 0.3088\n",
            "Epoch 50: ReduceLROnPlateau reducing learning rate to 7.812500371073838e-06.\n",
            "\n",
            "Epoch 50: val_accuracy did not improve from 0.30430\n",
            "625/625 [==============================] - 20s 32ms/step - loss: 2.8200 - accuracy: 0.3088 - val_loss: 2.9000 - val_accuracy: 0.3030 - lr: 1.5625e-05\n",
            "Epoch 51/200\n",
            "625/625 [==============================] - ETA: 0s - loss: 2.8306 - accuracy: 0.3083\n",
            "Epoch 51: val_accuracy did not improve from 0.30430\n",
            "625/625 [==============================] - 20s 31ms/step - loss: 2.8306 - accuracy: 0.3083 - val_loss: 2.8992 - val_accuracy: 0.3026 - lr: 7.8125e-06\n",
            "Epoch 52/200\n",
            "624/625 [============================>.] - ETA: 0s - loss: 2.8273 - accuracy: 0.3042\n",
            "Epoch 52: ReduceLROnPlateau reducing learning rate to 3.906250185536919e-06.\n",
            "\n",
            "Epoch 52: val_accuracy did not improve from 0.30430\n",
            "625/625 [==============================] - 21s 33ms/step - loss: 2.8273 - accuracy: 0.3041 - val_loss: 2.8994 - val_accuracy: 0.3034 - lr: 7.8125e-06\n",
            "Epoch 53/200\n",
            "625/625 [==============================] - ETA: 0s - loss: 2.8233 - accuracy: 0.3074\n",
            "Epoch 53: val_accuracy did not improve from 0.30430\n",
            "625/625 [==============================] - 20s 31ms/step - loss: 2.8233 - accuracy: 0.3074 - val_loss: 2.8998 - val_accuracy: 0.3032 - lr: 3.9063e-06\n",
            "Epoch 54/200\n",
            "625/625 [==============================] - ETA: 0s - loss: 2.8249 - accuracy: 0.3110\n",
            "Epoch 54: ReduceLROnPlateau reducing learning rate to 1.9531250927684596e-06.\n",
            "\n",
            "Epoch 54: val_accuracy did not improve from 0.30430\n",
            "625/625 [==============================] - 21s 34ms/step - loss: 2.8249 - accuracy: 0.3110 - val_loss: 2.8989 - val_accuracy: 0.3038 - lr: 3.9063e-06\n",
            "Epoch 55/200\n",
            "625/625 [==============================] - ETA: 0s - loss: 2.8260 - accuracy: 0.3056\n",
            "Epoch 55: val_accuracy did not improve from 0.30430\n",
            "625/625 [==============================] - 22s 34ms/step - loss: 2.8260 - accuracy: 0.3056 - val_loss: 2.8991 - val_accuracy: 0.3032 - lr: 1.9531e-06\n",
            "Epoch 56/200\n",
            "624/625 [============================>.] - ETA: 0s - loss: 2.8210 - accuracy: 0.3094\n",
            "Epoch 56: ReduceLROnPlateau reducing learning rate to 9.765625463842298e-07.\n",
            "Restoring model weights from the end of the best epoch: 48.\n",
            "\n",
            "Epoch 56: val_accuracy did not improve from 0.30430\n",
            "625/625 [==============================] - 20s 32ms/step - loss: 2.8211 - accuracy: 0.3095 - val_loss: 2.8991 - val_accuracy: 0.3040 - lr: 1.9531e-06\n",
            "Epoch 56: early stopping\n"
          ]
        }
      ]
    },
    {
      "cell_type": "code",
      "source": [
        "plt.plot(history.history[\"loss\"])\n",
        "plt.plot(history.history[\"val_loss\"])"
      ],
      "metadata": {
        "execution": {
          "iopub.status.busy": "2024-06-23T16:56:42.173588Z",
          "iopub.execute_input": "2024-06-23T16:56:42.173879Z",
          "iopub.status.idle": "2024-06-23T16:56:42.425227Z",
          "shell.execute_reply.started": "2024-06-23T16:56:42.173848Z",
          "shell.execute_reply": "2024-06-23T16:56:42.424344Z"
        },
        "trusted": true,
        "colab": {
          "base_uri": "https://localhost:8080/",
          "height": 447
        },
        "id": "oMpM2EcjWu3H",
        "outputId": "0c69df6f-a788-463f-84d3-b54c1c96fb14"
      },
      "execution_count": 20,
      "outputs": [
        {
          "output_type": "execute_result",
          "data": {
            "text/plain": [
              "[<matplotlib.lines.Line2D at 0x7d34ab9e1630>]"
            ]
          },
          "metadata": {},
          "execution_count": 20
        },
        {
          "output_type": "display_data",
          "data": {
            "text/plain": [
              "<Figure size 640x480 with 1 Axes>"
            ],
            "image/png": "[encoded data removed]"
          },
          "metadata": {}
        }
      ]
    },
    {
      "cell_type": "code",
      "source": [
        "plt.plot(history.history[\"loss\"])\n",
        "plt.plot(history.history[\"val_loss\"])"
      ],
      "metadata": {
        "execution": {
          "iopub.status.busy": "2024-06-23T16:56:42.426699Z",
          "iopub.execute_input": "2024-06-23T16:56:42.42696Z",
          "iopub.status.idle": "2024-06-23T16:56:42.680292Z",
          "shell.execute_reply.started": "2024-06-23T16:56:42.426937Z",
          "shell.execute_reply": "2024-06-23T16:56:42.679334Z"
        },
        "trusted": true,
        "colab": {
          "base_uri": "https://localhost:8080/",
          "height": 447
        },
        "id": "xsAqfrwTWu3I",
        "outputId": "f05bc2b7-ab4d-4460-d141-850bf8ea2bff"
      },
      "execution_count": 21,
      "outputs": [
        {
          "output_type": "execute_result",
          "data": {
            "text/plain": [
              "[<matplotlib.lines.Line2D at 0x7d3494162800>]"
            ]
          },
          "metadata": {},
          "execution_count": 21
        },
        {
          "output_type": "display_data",
          "data": {
            "text/plain": [
              "<Figure size 640x480 with 1 Axes>"
            ],
            "image/png": "[encoded data removed]"
          },
          "metadata": {}
        }
      ]
    },
    {
      "cell_type": "code",
      "source": [
        "plt.plot(history.history[\"accuracy\"])\n",
        "plt.plot(history.history[\"val_accuracy\"])"
      ],
      "metadata": {
        "execution": {
          "iopub.status.busy": "2024-06-23T16:56:42.681715Z",
          "iopub.execute_input": "2024-06-23T16:56:42.682094Z",
          "iopub.status.idle": "2024-06-23T16:56:42.922069Z",
          "shell.execute_reply.started": "2024-06-23T16:56:42.682057Z",
          "shell.execute_reply": "2024-06-23T16:56:42.921134Z"
        },
        "trusted": true,
        "colab": {
          "base_uri": "https://localhost:8080/",
          "height": 447
        },
        "id": "J6PhvMgtWu3I",
        "outputId": "76617f15-9453-4105-9e0e-3916c0a9f6a2"
      },
      "execution_count": 22,
      "outputs": [
        {
          "output_type": "execute_result",
          "data": {
            "text/plain": [
              "[<matplotlib.lines.Line2D at 0x7d34941d6da0>]"
            ]
          },
          "metadata": {},
          "execution_count": 22
        },
        {
          "output_type": "display_data",
          "data": {
            "text/plain": [
              "<Figure size 640x480 with 1 Axes>"
            ],
            "image/png": "[encoded data removed]"
          },
          "metadata": {}
        }
      ]
    },
    {
      "cell_type": "code",
      "source": [
        "plt.plot(history.history[\"accuracy\"])\n",
        "plt.plot(history.history[\"val_accuracy\"])"
      ],
      "metadata": {
        "execution": {
          "iopub.status.busy": "2024-06-23T16:56:42.923649Z",
          "iopub.execute_input": "2024-06-23T16:56:42.923947Z",
          "iopub.status.idle": "2024-06-23T16:56:43.159058Z",
          "shell.execute_reply.started": "2024-06-23T16:56:42.92392Z",
          "shell.execute_reply": "2024-06-23T16:56:43.15807Z"
        },
        "trusted": true,
        "colab": {
          "base_uri": "https://localhost:8080/",
          "height": 447
        },
        "id": "LlADZB2bWu3I",
        "outputId": "d4ab4819-e9d3-430a-8325-f831f5f25c18"
      },
      "execution_count": 23,
      "outputs": [
        {
          "output_type": "execute_result",
          "data": {
            "text/plain": [
              "[<matplotlib.lines.Line2D at 0x7d348cf70d00>]"
            ]
          },
          "metadata": {},
          "execution_count": 23
        },
        {
          "output_type": "display_data",
          "data": {
            "text/plain": [
              "<Figure size 640x480 with 1 Axes>"
            ],
            "image/png": "[encoded data removed]"
          },
          "metadata": {}
        }
      ]
    },
    {
      "cell_type": "code",
      "source": [
        "predictions = model.predict(x_test)"
      ],
      "metadata": {
        "execution": {
          "iopub.status.busy": "2024-06-23T16:56:43.160425Z",
          "iopub.execute_input": "2024-06-23T16:56:43.160689Z",
          "iopub.status.idle": "2024-06-23T16:56:44.605352Z",
          "shell.execute_reply.started": "2024-06-23T16:56:43.160665Z",
          "shell.execute_reply": "2024-06-23T16:56:44.604532Z"
        },
        "trusted": true,
        "colab": {
          "base_uri": "https://localhost:8080/"
        },
        "id": "U-kuDjRmWu3J",
        "outputId": "29d22d7e-002c-4d18-c499-be06e32a2847"
      },
      "execution_count": 24,
      "outputs": [
        {
          "output_type": "stream",
          "name": "stdout",
          "text": [
            "313/313 [==============================] - 1s 2ms/step\n"
          ]
        }
      ]
    },
    {
      "cell_type": "code",
      "source": [
        "predictions = predictions.argmax(axis=1)"
      ],
      "metadata": {
        "execution": {
          "iopub.status.busy": "2024-06-23T16:56:44.609738Z",
          "iopub.execute_input": "2024-06-23T16:56:44.61004Z",
          "iopub.status.idle": "2024-06-23T16:56:44.614389Z",
          "shell.execute_reply.started": "2024-06-23T16:56:44.610015Z",
          "shell.execute_reply": "2024-06-23T16:56:44.613532Z"
        },
        "trusted": true,
        "id": "iZYMhI4PWu3J"
      },
      "execution_count": 25,
      "outputs": []
    },
    {
      "cell_type": "code",
      "source": [
        "predictions"
      ],
      "metadata": {
        "execution": {
          "iopub.status.busy": "2024-06-23T16:56:44.615538Z",
          "iopub.execute_input": "2024-06-23T16:56:44.61587Z",
          "iopub.status.idle": "2024-06-23T16:56:44.626052Z",
          "shell.execute_reply.started": "2024-06-23T16:56:44.615839Z",
          "shell.execute_reply": "2024-06-23T16:56:44.625152Z"
        },
        "trusted": true,
        "colab": {
          "base_uri": "https://localhost:8080/"
        },
        "id": "7beC0DDWWu3J",
        "outputId": "57bcb9c8-f9a1-4cf1-f8e6-146a16de2d08"
      },
      "execution_count": 26,
      "outputs": [
        {
          "output_type": "execute_result",
          "data": {
            "text/plain": [
              "array([12, 42, 15, ..., 18, 34,  0])"
            ]
          },
          "metadata": {},
          "execution_count": 26
        }
      ]
    },
    {
      "cell_type": "code",
      "source": [
        "df = pd.DataFrame(predictions, columns=[\"Label\"])"
      ],
      "metadata": {
        "execution": {
          "iopub.status.busy": "2024-06-23T16:56:44.627247Z",
          "iopub.execute_input": "2024-06-23T16:56:44.627658Z",
          "iopub.status.idle": "2024-06-23T16:56:44.63424Z",
          "shell.execute_reply.started": "2024-06-23T16:56:44.627633Z",
          "shell.execute_reply": "2024-06-23T16:56:44.633312Z"
        },
        "trusted": true,
        "id": "hySP0SeWWu3J"
      },
      "execution_count": 27,
      "outputs": []
    },
    {
      "cell_type": "code",
      "source": [
        "df.index.name = \"Id\""
      ],
      "metadata": {
        "execution": {
          "iopub.status.busy": "2024-06-23T16:56:44.636896Z",
          "iopub.execute_input": "2024-06-23T16:56:44.637198Z",
          "iopub.status.idle": "2024-06-23T16:56:44.643494Z",
          "shell.execute_reply.started": "2024-06-23T16:56:44.637174Z",
          "shell.execute_reply": "2024-06-23T16:56:44.642613Z"
        },
        "trusted": true,
        "id": "Gtjy5yPtWu3K"
      },
      "execution_count": 28,
      "outputs": []
    },
    {
      "cell_type": "code",
      "source": [
        "df.head()"
      ],
      "metadata": {
        "execution": {
          "iopub.status.busy": "2024-06-23T16:56:44.644606Z",
          "iopub.execute_input": "2024-06-23T16:56:44.645592Z",
          "iopub.status.idle": "2024-06-23T16:56:44.657596Z",
          "shell.execute_reply.started": "2024-06-23T16:56:44.645567Z",
          "shell.execute_reply": "2024-06-23T16:56:44.656617Z"
        },
        "trusted": true,
        "colab": {
          "base_uri": "https://localhost:8080/",
          "height": 238
        },
        "id": "mJMLaQoDWu3K",
        "outputId": "545b65bf-fa2a-46aa-9902-81986de01a97"
      },
      "execution_count": 29,
      "outputs": [
        {
          "output_type": "execute_result",
          "data": {
            "text/plain": [
              "    Label\n",
              "Id       \n",
              "0      12\n",
              "1      42\n",
              "2      15\n",
              "3      40\n",
              "4      71"
            ],
            "text/html": [
              "\n",
              "  <div id=\"df-80e9eb35-7f2b-4cbc-9ee2-80d25d8a6994\" class=\"colab-df-container\">\n",
              "    <div>\n",
              "<style scoped>\n",
              "    .dataframe tbody tr th:only-of-type {\n",
              "        vertical-align: middle;\n",
              "    }\n",
              "\n",
              "    .dataframe tbody tr th {\n",
              "        vertical-align: top;\n",
              "    }\n",
              "\n",
              "    .dataframe thead th {\n",
              "        text-align: right;\n",
              "    }\n",
              "</style>\n",
              "<table border=\"1\" class=\"dataframe\">\n",
              "  <thead>\n",
              "    <tr style=\"text-align: right;\">\n",
              "      <th></th>\n",
              "      <th>Label</th>\n",
              "    </tr>\n",
              "    <tr>\n",
              "      <th>Id</th>\n",
              "      <th></th>\n",
              "    </tr>\n",
              "  </thead>\n",
              "  <tbody>\n",
              "    <tr>\n",
              "      <th>0</th>\n",
              "      <td>12</td>\n",
              "    </tr>\n",
              "    <tr>\n",
              "      <th>1</th>\n",
              "      <td>42</td>\n",
              "    </tr>\n",
              "    <tr>\n",
              "      <th>2</th>\n",
              "      <td>15</td>\n",
              "    </tr>\n",
              "    <tr>\n",
              "      <th>3</th>\n",
              "      <td>40</td>\n",
              "    </tr>\n",
              "    <tr>\n",
              "      <th>4</th>\n",
              "      <td>71</td>\n",
              "    </tr>\n",
              "  </tbody>\n",
              "</table>\n",
              "</div>\n",
              "    <div class=\"colab-df-buttons\">\n",
              "\n",
              "  <div class=\"colab-df-container\">\n",
              "    <button class=\"colab-df-convert\" onclick=\"convertToInteractive('df-80e9eb35-7f2b-4cbc-9ee2-80d25d8a6994')\"\n",
              "            title=\"Convert this dataframe to an interactive table.\"\n",
              "            style=\"display:none;\">\n",
              "\n",
              "  <svg xmlns=\"http://www.w3.org/2000/svg\" height=\"24px\" viewBox=\"0 -960 960 960\">\n",
              "    <path d=\"M120-120v-720h720v720H120Zm60-500h600v-160H180v160Zm220 220h160v-160H400v160Zm0 220h160v-160H400v160ZM180-400h160v-160H180v160Zm440 0h160v-160H620v160ZM180-180h160v-160H180v160Zm440 0h160v-160H620v160Z\"/>\n",
              "  </svg>\n",
              "    </button>\n",
              "\n",
              "  <style>\n",
              "    .colab-df-container {\n",
              "      display:flex;\n",
              "      gap: 12px;\n",
              "    }\n",
              "\n",
              "    .colab-df-convert {\n",
              "      background-color: #E8F0FE;\n",
              "      border: none;\n",
              "      border-radius: 50%;\n",
              "      cursor: pointer;\n",
              "      display: none;\n",
              "      fill: #1967D2;\n",
              "      height: 32px;\n",
              "      padding: 0 0 0 0;\n",
              "      width: 32px;\n",
              "    }\n",
              "\n",
              "    .colab-df-convert:hover {\n",
              "      background-color: #E2EBFA;\n",
              "      box-shadow: 0px 1px 2px rgba(60, 64, 67, 0.3), 0px 1px 3px 1px rgba(60, 64, 67, 0.15);\n",
              "      fill: #174EA6;\n",
              "    }\n",
              "\n",
              "    .colab-df-buttons div {\n",
              "      margin-bottom: 4px;\n",
              "    }\n",
              "\n",
              "    [theme=dark] .colab-df-convert {\n",
              "      background-color: #3B4455;\n",
              "      fill: #D2E3FC;\n",
              "    }\n",
              "\n",
              "    [theme=dark] .colab-df-convert:hover {\n",
              "      background-color: #434B5C;\n",
              "      box-shadow: 0px 1px 3px 1px rgba(0, 0, 0, 0.15);\n",
              "      filter: drop-shadow(0px 1px 2px rgba(0, 0, 0, 0.3));\n",
              "      fill: #FFFFFF;\n",
              "    }\n",
              "  </style>\n",
              "\n",
              "    <script>\n",
              "      const buttonEl =\n",
              "        document.querySelector('#df-80e9eb35-7f2b-4cbc-9ee2-80d25d8a6994 button.colab-df-convert');\n",
              "      buttonEl.style.display =\n",
              "        google.colab.kernel.accessAllowed ? 'block' : 'none';\n",
              "\n",
              "      async function convertToInteractive(key) {\n",
              "        const element = document.querySelector('#df-80e9eb35-7f2b-4cbc-9ee2-80d25d8a6994');\n",
              "        const dataTable =\n",
              "          await google.colab.kernel.invokeFunction('convertToInteractive',\n",
              "                                                    [key], {});\n",
              "        if (!dataTable) return;\n",
              "\n",
              "        const docLinkHtml = 'Like what you see? Visit the ' +\n",
              "          '<a target=\"_blank\" href=https://colab.research.google.com/notebooks/data_table.ipynb>data table notebook</a>'\n",
              "          + ' to learn more about interactive tables.';\n",
              "        element.innerHTML = '';\n",
              "        dataTable['output_type'] = 'display_data';\n",
              "        await google.colab.output.renderOutput(dataTable, element);\n",
              "        const docLink = document.createElement('div');\n",
              "        docLink.innerHTML = docLinkHtml;\n",
              "        element.appendChild(docLink);\n",
              "      }\n",
              "    </script>\n",
              "  </div>\n",
              "\n",
              "\n",
              "<div id=\"df-29e79eef-0f95-45a9-b2e3-8f9cb14c6b05\">\n",
              "  <button class=\"colab-df-quickchart\" onclick=\"quickchart('df-29e79eef-0f95-45a9-b2e3-8f9cb14c6b05')\"\n",
              "            title=\"Suggest charts\"\n",
              "            style=\"display:none;\">\n",
              "\n",
              "<svg xmlns=\"http://www.w3.org/2000/svg\" height=\"24px\"viewBox=\"0 0 24 24\"\n",
              "     width=\"24px\">\n",
              "    <g>\n",
              "        <path d=\"M19 3H5c-1.1 0-2 .9-2 2v14c0 1.1.9 2 2 2h14c1.1 0 2-.9 2-2V5c0-1.1-.9-2-2-2zM9 17H7v-7h2v7zm4 0h-2V7h2v10zm4 0h-2v-4h2v4z\"/>\n",
              "    </g>\n",
              "</svg>\n",
              "  </button>\n",
              "\n",
              "<style>\n",
              "  .colab-df-quickchart {\n",
              "      --bg-color: #E8F0FE;\n",
              "      --fill-color: #1967D2;\n",
              "      --hover-bg-color: #E2EBFA;\n",
              "      --hover-fill-color: #174EA6;\n",
              "      --disabled-fill-color: #AAA;\n",
              "      --disabled-bg-color: #DDD;\n",
              "  }\n",
              "\n",
              "  [theme=dark] .colab-df-quickchart {\n",
              "      --bg-color: #3B4455;\n",
              "      --fill-color: #D2E3FC;\n",
              "      --hover-bg-color: #434B5C;\n",
              "      --hover-fill-color: #FFFFFF;\n",
              "      --disabled-bg-color: #3B4455;\n",
              "      --disabled-fill-color: #666;\n",
              "  }\n",
              "\n",
              "  .colab-df-quickchart {\n",
              "    background-color: var(--bg-color);\n",
              "    border: none;\n",
              "    border-radius: 50%;\n",
              "    cursor: pointer;\n",
              "    display: none;\n",
              "    fill: var(--fill-color);\n",
              "    height: 32px;\n",
              "    padding: 0;\n",
              "    width: 32px;\n",
              "  }\n",
              "\n",
              "  .colab-df-quickchart:hover {\n",
              "    background-color: var(--hover-bg-color);\n",
              "    box-shadow: 0 1px 2px rgba(60, 64, 67, 0.3), 0 1px 3px 1px rgba(60, 64, 67, 0.15);\n",
              "    fill: var(--button-hover-fill-color);\n",
              "  }\n",
              "\n",
              "  .colab-df-quickchart-complete:disabled,\n",
              "  .colab-df-quickchart-complete:disabled:hover {\n",
              "    background-color: var(--disabled-bg-color);\n",
              "    fill: var(--disabled-fill-color);\n",
              "    box-shadow: none;\n",
              "  }\n",
              "\n",
              "  .colab-df-spinner {\n",
              "    border: 2px solid var(--fill-color);\n",
              "    border-color: transparent;\n",
              "    border-bottom-color: var(--fill-color);\n",
              "    animation:\n",
              "      spin 1s steps(1) infinite;\n",
              "  }\n",
              "\n",
              "  @keyframes spin {\n",
              "    0% {\n",
              "      border-color: transparent;\n",
              "      border-bottom-color: var(--fill-color);\n",
              "      border-left-color: var(--fill-color);\n",
              "    }\n",
              "    20% {\n",
              "      border-color: transparent;\n",
              "      border-left-color: var(--fill-color);\n",
              "      border-top-color: var(--fill-color);\n",
              "    }\n",
              "    30% {\n",
              "      border-color: transparent;\n",
              "      border-left-color: var(--fill-color);\n",
              "      border-top-color: var(--fill-color);\n",
              "      border-right-color: var(--fill-color);\n",
              "    }\n",
              "    40% {\n",
              "      border-color: transparent;\n",
              "      border-right-color: var(--fill-color);\n",
              "      border-top-color: var(--fill-color);\n",
              "    }\n",
              "    60% {\n",
              "      border-color: transparent;\n",
              "      border-right-color: var(--fill-color);\n",
              "    }\n",
              "    80% {\n",
              "      border-color: transparent;\n",
              "      border-right-color: var(--fill-color);\n",
              "      border-bottom-color: var(--fill-color);\n",
              "    }\n",
              "    90% {\n",
              "      border-color: transparent;\n",
              "      border-bottom-color: var(--fill-color);\n",
              "    }\n",
              "  }\n",
              "</style>\n",
              "\n",
              "  <script>\n",
              "    async function quickchart(key) {\n",
              "      const quickchartButtonEl =\n",
              "        document.querySelector('#' + key + ' button');\n",
              "      quickchartButtonEl.disabled = true;  // To prevent multiple clicks.\n",
              "      quickchartButtonEl.classList.add('colab-df-spinner');\n",
              "      try {\n",
              "        const charts = await google.colab.kernel.invokeFunction(\n",
              "            'suggestCharts', [key], {});\n",
              "      } catch (error) {\n",
              "        console.error('Error during call to suggestCharts:', error);\n",
              "      }\n",
              "      quickchartButtonEl.classList.remove('colab-df-spinner');\n",
              "      quickchartButtonEl.classList.add('colab-df-quickchart-complete');\n",
              "    }\n",
              "    (() => {\n",
              "      let quickchartButtonEl =\n",
              "        document.querySelector('#df-29e79eef-0f95-45a9-b2e3-8f9cb14c6b05 button');\n",
              "      quickchartButtonEl.style.display =\n",
              "        google.colab.kernel.accessAllowed ? 'block' : 'none';\n",
              "    })();\n",
              "  </script>\n",
              "</div>\n",
              "\n",
              "    </div>\n",
              "  </div>\n"
            ],
            "application/vnd.google.colaboratory.intrinsic+json": {
              "type": "dataframe",
              "variable_name": "df",
              "summary": "{\n  \"name\": \"df\",\n  \"rows\": 10000,\n  \"fields\": [\n    {\n      \"column\": \"Id\",\n      \"properties\": {\n        \"dtype\": \"number\",\n        \"std\": 2886,\n        \"min\": 0,\n        \"max\": 9999,\n        \"num_unique_values\": 10000,\n        \"samples\": [\n          6252,\n          4684,\n          1731\n        ],\n        \"semantic_type\": \"\",\n        \"description\": \"\"\n      }\n    },\n    {\n      \"column\": \"Label\",\n      \"properties\": {\n        \"dtype\": \"number\",\n        \"std\": 29,\n        \"min\": 0,\n        \"max\": 99,\n        \"num_unique_values\": 100,\n        \"samples\": [\n          59,\n          68,\n          96\n        ],\n        \"semantic_type\": \"\",\n        \"description\": \"\"\n      }\n    }\n  ]\n}"
            }
          },
          "metadata": {},
          "execution_count": 29
        }
      ]
    },
    {
      "cell_type": "code",
      "source": [
        "df.to_csv(\"submission.csv\")"
      ],
      "metadata": {
        "execution": {
          "iopub.status.busy": "2024-06-23T16:56:44.658622Z",
          "iopub.execute_input": "2024-06-23T16:56:44.658849Z",
          "iopub.status.idle": "2024-06-23T16:56:44.67805Z",
          "shell.execute_reply.started": "2024-06-23T16:56:44.658828Z",
          "shell.execute_reply": "2024-06-23T16:56:44.677191Z"
        },
        "trusted": true,
        "id": "Vd4nRxnzWu3K"
      },
      "execution_count": 30,
      "outputs": []
    }
  ]
}