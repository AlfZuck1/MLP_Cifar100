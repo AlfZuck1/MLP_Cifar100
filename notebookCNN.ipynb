{
  "metadata": {
    "kernelspec": {
      "language": "python",
      "display_name": "Python 3",
      "name": "python3"
    },
    "language_info": {
      "name": "python",
      "version": "3.10.13",
      "mimetype": "text/x-python",
      "codemirror_mode": {
        "name": "ipython",
        "version": 3
      },
      "pygments_lexer": "ipython3",
      "nbconvert_exporter": "python",
      "file_extension": ".py"
    },
    "kaggle": {
      "accelerator": "gpu",
      "dataSources": [
        {
          "sourceId": 77584,
          "databundleVersionId": 8490010,
          "sourceType": "competition"
        }
      ],
      "dockerImageVersionId": 30699,
      "isInternetEnabled": true,
      "language": "python",
      "sourceType": "notebook",
      "isGpuEnabled": true
    },
    "colab": {
      "name": "notebookCNN",
      "provenance": [],
      "include_colab_link": true
    }
  },
  "nbformat_minor": 0,
  "nbformat": 4,
  "cells": [
    {
      "cell_type": "markdown",
      "metadata": {
        "id": "view-in-github",
        "colab_type": "text"
      },
      "source": [
        "<a href=\"https://colab.research.google.com/github/AlfZuck1/MLP_Cifar100/blob/main/notebookCNN.ipynb\" target=\"_parent\"><img src=\"https://colab.research.google.com/assets/colab-badge.svg\" alt=\"Open In Colab\"/></a>"
      ]
    },
    {
      "source": [
        "\n",
        "# IMPORTANT: RUN THIS CELL IN ORDER TO IMPORT YOUR KAGGLE DATA SOURCES\n",
        "# TO THE CORRECT LOCATION (/kaggle/input) IN YOUR NOTEBOOK,\n",
        "# THEN FEEL FREE TO DELETE THIS CELL.\n",
        "# NOTE: THIS NOTEBOOK ENVIRONMENT DIFFERS FROM KAGGLE'S PYTHON\n",
        "# ENVIRONMENT SO THERE MAY BE MISSING LIBRARIES USED BY YOUR\n",
        "# NOTEBOOK.\n",
        "\n",
        "import os\n",
        "import sys\n",
        "from tempfile import NamedTemporaryFile\n",
        "from urllib.request import urlopen\n",
        "from urllib.parse import unquote, urlparse\n",
        "from urllib.error import HTTPError\n",
        "from zipfile import ZipFile\n",
        "import tarfile\n",
        "import shutil\n",
        "\n",
        "CHUNK_SIZE = 40960\n",
        "DATA_SOURCE_MAPPING = 'itba-cifar-100-2024-q-1:https%3A%2F%2Fstorage.googleapis.com%2Fkaggle-competitions-data%2Fkaggle-v2%2F77584%2F8490010%2Fbundle%2Farchive.zip%3FX-Goog-Algorithm%3DGOOG4-RSA-SHA256%26X-Goog-Credential%3Dgcp-kaggle-com%2540kaggle-161607.iam.gserviceaccount.com%252F20240628%252Fauto%252Fstorage%252Fgoog4_request%26X-Goog-Date%3D20240628T005657Z%26X-Goog-Expires%3D259200%26X-Goog-SignedHeaders%3Dhost%26X-Goog-Signature%3D1ea3a07052edaf7f5bb5fe3345fb8faf20e81cea2fb2b0a3571c5b5f1e7e4b88f7d7b8203e9ca7b74667398a845bc2ee967286435e1417449ff39baadc5aab168dcb76e74b331d82c5fb57a716950dab0a5da79a99a4e07e6db48d62e826ab86b095ec58680409aa9b8e75b92b400c6810aaccba5e6be89f25c413b8ffb86ef18d26ebd8a0e3a51f25dd771abfb1948693c4ac8a4f36462a5894e3ac647c0f72a982a81ec443d7ad4011a46f03fa033c724a54f4ec6c24cbe4d9f0fe3ac96694c916aa5f52ca52b7069354ef1c168ecf819a4e939ff0f0e73ace0baf35811c389b9f1de5aceecacd7a08d50e1915655123e82ba7310e7d62fcb2a64c50fc8924'\n",
        "\n",
        "KAGGLE_INPUT_PATH='/kaggle/input'\n",
        "KAGGLE_WORKING_PATH='/kaggle/working'\n",
        "KAGGLE_SYMLINK='kaggle'\n",
        "\n",
        "!umount /kaggle/input/ 2> /dev/null\n",
        "shutil.rmtree('/kaggle/input', ignore_errors=True)\n",
        "os.makedirs(KAGGLE_INPUT_PATH, 0o777, exist_ok=True)\n",
        "os.makedirs(KAGGLE_WORKING_PATH, 0o777, exist_ok=True)\n",
        "\n",
        "try:\n",
        "  os.symlink(KAGGLE_INPUT_PATH, os.path.join(\"..\", 'input'), target_is_directory=True)\n",
        "except FileExistsError:\n",
        "  pass\n",
        "try:\n",
        "  os.symlink(KAGGLE_WORKING_PATH, os.path.join(\"..\", 'working'), target_is_directory=True)\n",
        "except FileExistsError:\n",
        "  pass\n",
        "\n",
        "for data_source_mapping in DATA_SOURCE_MAPPING.split(','):\n",
        "    directory, download_url_encoded = data_source_mapping.split(':')\n",
        "    download_url = unquote(download_url_encoded)\n",
        "    filename = urlparse(download_url).path\n",
        "    destination_path = os.path.join(KAGGLE_INPUT_PATH, directory)\n",
        "    try:\n",
        "        with urlopen(download_url) as fileres, NamedTemporaryFile() as tfile:\n",
        "            total_length = fileres.headers['content-length']\n",
        "            print(f'Downloading {directory}, {total_length} bytes compressed')\n",
        "            dl = 0\n",
        "            data = fileres.read(CHUNK_SIZE)\n",
        "            while len(data) > 0:\n",
        "                dl += len(data)\n",
        "                tfile.write(data)\n",
        "                done = int(50 * dl / int(total_length))\n",
        "                sys.stdout.write(f\"\\r[{'=' * done}{' ' * (50-done)}] {dl} bytes downloaded\")\n",
        "                sys.stdout.flush()\n",
        "                data = fileres.read(CHUNK_SIZE)\n",
        "            if filename.endswith('.zip'):\n",
        "              with ZipFile(tfile) as zfile:\n",
        "                zfile.extractall(destination_path)\n",
        "            else:\n",
        "              with tarfile.open(tfile.name) as tarfile:\n",
        "                tarfile.extractall(destination_path)\n",
        "            print(f'\\nDownloaded and uncompressed: {directory}')\n",
        "    except HTTPError as e:\n",
        "        print(f'Failed to load (likely expired) {download_url} to path {destination_path}')\n",
        "        continue\n",
        "    except OSError as e:\n",
        "        print(f'Failed to load {download_url} to path {destination_path}')\n",
        "        continue\n",
        "\n",
        "print('Data source import complete.')\n"
      ],
      "metadata": {
        "id": "m9JpDDfSWu23"
      },
      "cell_type": "code",
      "outputs": [],
      "execution_count": null
    },
    {
      "cell_type": "code",
      "source": [
        "# This Python 3 environment comes with many helpful analytics libraries installed\n",
        "# It is defined by the kaggle/python Docker image: https://github.com/kaggle/docker-python\n",
        "# For example, here's several helpful packages to load\n",
        "\n",
        "import numpy as np # linear algebra\n",
        "import pandas as pd # data processing, CSV file I/O (e.g. pd.read_csv)\n",
        "\n",
        "# Input data files are available in the read-only \"../input/\" directory\n",
        "# For example, running this (by clicking run or pressing Shift+Enter) will list all files under the input directory\n",
        "\n",
        "import os\n",
        "for dirname, _, filenames in os.walk('/kaggle/input'):\n",
        "    for filename in filenames:\n",
        "        print(os.path.join(dirname, filename))\n",
        "\n",
        "# You can write up to 20GB to the current directory (/kaggle/working/) that gets preserved as output when you create a version using \"Save & Run All\"\n",
        "# You can also write temporary files to /kaggle/temp/, but they won't be saved outside of the current session"
      ],
      "metadata": {
        "_uuid": "8f2839f25d086af736a60e9eeb907d3b93b6e0e5",
        "_cell_guid": "b1076dfc-b9ad-4769-8c92-a6c4dae69d19",
        "execution": {
          "iopub.status.busy": "2024-06-23T16:41:36.637132Z",
          "iopub.execute_input": "2024-06-23T16:41:36.637522Z",
          "iopub.status.idle": "2024-06-23T16:41:36.646239Z",
          "shell.execute_reply.started": "2024-06-23T16:41:36.63749Z",
          "shell.execute_reply": "2024-06-23T16:41:36.645241Z"
        },
        "trusted": true,
        "id": "xlT-lpR8Wu28"
      },
      "execution_count": null,
      "outputs": []
    },
    {
      "cell_type": "code",
      "source": [
        "x_train = np.load(\"/kaggle/input/itba-cifar-100-2024-q-1/x_train.npy\")/255.\n",
        "x_test = np.load(\"/kaggle/input/itba-cifar-100-2024-q-1/x_test.npy\")/255.\n",
        "y_train_coarse = np.load(\"/kaggle/input/itba-cifar-100-2024-q-1/y_train_coarse.npy\")\n",
        "y_train_fine = np.load(\"/kaggle/input/itba-cifar-100-2024-q-1/y_train_fine.npy\")"
      ],
      "metadata": {
        "execution": {
          "iopub.status.busy": "2024-06-23T16:41:36.647899Z",
          "iopub.execute_input": "2024-06-23T16:41:36.648184Z",
          "iopub.status.idle": "2024-06-23T16:41:37.157205Z",
          "shell.execute_reply.started": "2024-06-23T16:41:36.64816Z",
          "shell.execute_reply": "2024-06-23T16:41:37.156407Z"
        },
        "trusted": true,
        "id": "frBDYJeTWu29"
      },
      "execution_count": null,
      "outputs": []
    },
    {
      "cell_type": "code",
      "source": [
        "import pickle\n",
        "with open(\"/kaggle/input/itba-cifar-100-2024-q-1/fine_label_names.pck\", \"rb\") as f:\n",
        "    labels_fine = pickle.load(f)\n",
        "with open(\"/kaggle/input/itba-cifar-100-2024-q-1/coarse_label_names.pck\", \"rb\") as f:\n",
        "    labels_coarse = pickle.load(f)"
      ],
      "metadata": {
        "execution": {
          "iopub.status.busy": "2024-06-23T16:41:37.158477Z",
          "iopub.execute_input": "2024-06-23T16:41:37.158735Z",
          "iopub.status.idle": "2024-06-23T16:41:37.16472Z",
          "shell.execute_reply.started": "2024-06-23T16:41:37.158713Z",
          "shell.execute_reply": "2024-06-23T16:41:37.163794Z"
        },
        "trusted": true,
        "id": "WyqyLwsRWu2-"
      },
      "execution_count": null,
      "outputs": []
    },
    {
      "cell_type": "code",
      "source": [
        "from matplotlib import pyplot as plt\n",
        "%load_ext tensorboard"
      ],
      "metadata": {
        "execution": {
          "iopub.status.busy": "2024-06-23T16:41:37.167339Z",
          "iopub.execute_input": "2024-06-23T16:41:37.167776Z",
          "iopub.status.idle": "2024-06-23T16:41:37.17875Z",
          "shell.execute_reply.started": "2024-06-23T16:41:37.167741Z",
          "shell.execute_reply": "2024-06-23T16:41:37.177872Z"
        },
        "trusted": true,
        "id": "KrzKwCv5Wu2-"
      },
      "execution_count": null,
      "outputs": []
    },
    {
      "cell_type": "code",
      "source": [
        "plt.figure(figsize=(1,1))\n",
        "plt.imshow(x_train[25])"
      ],
      "metadata": {
        "execution": {
          "iopub.status.busy": "2024-06-23T16:41:37.179805Z",
          "iopub.execute_input": "2024-06-23T16:41:37.180097Z",
          "iopub.status.idle": "2024-06-23T16:41:37.308008Z",
          "shell.execute_reply.started": "2024-06-23T16:41:37.180062Z",
          "shell.execute_reply": "2024-06-23T16:41:37.306686Z"
        },
        "trusted": true,
        "id": "Cn1w30gZWu2_"
      },
      "execution_count": null,
      "outputs": []
    },
    {
      "cell_type": "code",
      "source": [
        "y_train_fine[25]"
      ],
      "metadata": {
        "execution": {
          "iopub.status.busy": "2024-06-23T16:41:37.309664Z",
          "iopub.execute_input": "2024-06-23T16:41:37.310882Z",
          "iopub.status.idle": "2024-06-23T16:41:37.318548Z",
          "shell.execute_reply.started": "2024-06-23T16:41:37.310842Z",
          "shell.execute_reply": "2024-06-23T16:41:37.317191Z"
        },
        "trusted": true,
        "id": "EjKw2EYCWu3A"
      },
      "execution_count": null,
      "outputs": []
    },
    {
      "cell_type": "code",
      "source": [
        "labels_fine[84]"
      ],
      "metadata": {
        "execution": {
          "iopub.status.busy": "2024-06-23T16:41:37.320257Z",
          "iopub.execute_input": "2024-06-23T16:41:37.320974Z",
          "iopub.status.idle": "2024-06-23T16:41:37.327763Z",
          "shell.execute_reply.started": "2024-06-23T16:41:37.320937Z",
          "shell.execute_reply": "2024-06-23T16:41:37.326727Z"
        },
        "trusted": true,
        "id": "Z8MgUj7jWu3A"
      },
      "execution_count": null,
      "outputs": []
    },
    {
      "cell_type": "code",
      "source": [
        "# Me fijo para una categoría de grano grueso, cuáles son las categorías de grano fino\n",
        "coarse = 6\n",
        "print(f\"Grano grueso: {labels_coarse[coarse]}\")\n",
        "for fine in np.unique(y_train_fine[y_train_coarse == coarse]):\n",
        "    print(f\"Grano fino: {labels_fine[fine]}\")"
      ],
      "metadata": {
        "execution": {
          "iopub.status.busy": "2024-06-23T16:41:37.329446Z",
          "iopub.execute_input": "2024-06-23T16:41:37.329988Z",
          "iopub.status.idle": "2024-06-23T16:41:37.337306Z",
          "shell.execute_reply.started": "2024-06-23T16:41:37.329952Z",
          "shell.execute_reply": "2024-06-23T16:41:37.336413Z"
        },
        "trusted": true,
        "id": "tVrqe7OUWu3B"
      },
      "execution_count": null,
      "outputs": []
    },
    {
      "cell_type": "code",
      "source": [
        "from tensorflow.keras.models import Sequential\n",
        "from tensorflow.keras.layers import Dense, Dropout, BatchNormalization, Flatten\n",
        "from tensorflow.keras.preprocessing.image import ImageDataGenerator\n",
        "from tensorflow.keras.optimizers import SGD, Adam, AdamW, RMSprop\n",
        "from tensorflow.keras.regularizers import l1, l2\n",
        "from tensorflow.keras.constraints import MaxNorm\n",
        "from tensorflow.keras.callbacks import ReduceLROnPlateau, EarlyStopping, ModelCheckpoint, TensorBoard"
      ],
      "metadata": {
        "execution": {
          "iopub.status.busy": "2024-06-23T16:41:37.342643Z",
          "iopub.execute_input": "2024-06-23T16:41:37.343727Z",
          "iopub.status.idle": "2024-06-23T16:41:37.350587Z",
          "shell.execute_reply.started": "2024-06-23T16:41:37.343696Z",
          "shell.execute_reply": "2024-06-23T16:41:37.349488Z"
        },
        "trusted": true,
        "id": "QsvmZn5UWu3C"
      },
      "execution_count": null,
      "outputs": []
    },
    {
      "cell_type": "code",
      "source": [
        "x_train.shape"
      ],
      "metadata": {
        "execution": {
          "iopub.status.busy": "2024-06-23T16:41:37.352158Z",
          "iopub.execute_input": "2024-06-23T16:41:37.353255Z",
          "iopub.status.idle": "2024-06-23T16:41:37.361699Z",
          "shell.execute_reply.started": "2024-06-23T16:41:37.353223Z",
          "shell.execute_reply": "2024-06-23T16:41:37.360622Z"
        },
        "trusted": true,
        "id": "kqJpKI9TWu3D"
      },
      "execution_count": null,
      "outputs": []
    },
    {
      "cell_type": "code",
      "source": [
        "model = Sequential()\n",
        "model.add(Flatten(input_shape=(32,32,3)))\n",
        "model.add(BatchNormalization())\n",
        "model.add(Dense(1536,activation = \"leaky_relu\",use_bias=True))\n",
        "model.add(BatchNormalization())\n",
        "model.add(Dropout(0.5))\n",
        "model.add(Dense(100, activation= \"softmax\"))\n",
        "model.compile(loss=\"sparse_categorical_crossentropy\", metrics = [\"accuracy\"], optimizer = Adam(learning_rate=0.001))"
      ],
      "metadata": {
        "execution": {
          "iopub.status.busy": "2024-06-23T16:41:37.363264Z",
          "iopub.execute_input": "2024-06-23T16:41:37.36427Z",
          "iopub.status.idle": "2024-06-23T16:41:37.432336Z",
          "shell.execute_reply.started": "2024-06-23T16:41:37.364236Z",
          "shell.execute_reply": "2024-06-23T16:41:37.43142Z"
        },
        "trusted": true,
        "id": "PIg7rzpyWu3E"
      },
      "execution_count": null,
      "outputs": []
    },
    {
      "cell_type": "code",
      "source": [
        "model.summary()"
      ],
      "metadata": {
        "execution": {
          "iopub.status.busy": "2024-06-23T16:41:37.433421Z",
          "iopub.execute_input": "2024-06-23T16:41:37.433672Z",
          "iopub.status.idle": "2024-06-23T16:41:37.455438Z",
          "shell.execute_reply.started": "2024-06-23T16:41:37.433649Z",
          "shell.execute_reply": "2024-06-23T16:41:37.454573Z"
        },
        "trusted": true,
        "id": "NkI0dRLlWu3F"
      },
      "execution_count": null,
      "outputs": []
    },
    {
      "cell_type": "code",
      "source": [
        "rlrop = ReduceLROnPlateau(\n",
        "    monitor = \"val_accuracy\",\n",
        "    factor = 0.5,\n",
        "    patience = 2,\n",
        "    verbose = 1,\n",
        "    min_lr = 1e-7,\n",
        ")\n"
      ],
      "metadata": {
        "execution": {
          "iopub.status.busy": "2024-06-23T16:41:37.456556Z",
          "iopub.execute_input": "2024-06-23T16:41:37.456815Z",
          "iopub.status.idle": "2024-06-23T16:41:37.46133Z",
          "shell.execute_reply.started": "2024-06-23T16:41:37.456792Z",
          "shell.execute_reply": "2024-06-23T16:41:37.460398Z"
        },
        "trusted": true,
        "id": "aTkiUMLuWu3F"
      },
      "execution_count": null,
      "outputs": []
    },
    {
      "cell_type": "code",
      "source": [
        "mc = ModelCheckpoint(\n",
        "    \"best.weights.h5\",\n",
        "    monitor = \"val_accuracy\",\n",
        "    verbose = 1,\n",
        "    save_best_only = True,\n",
        "    save_weights_only = True,\n",
        ")"
      ],
      "metadata": {
        "execution": {
          "iopub.status.busy": "2024-06-23T16:41:37.46247Z",
          "iopub.execute_input": "2024-06-23T16:41:37.46275Z",
          "iopub.status.idle": "2024-06-23T16:41:37.473019Z",
          "shell.execute_reply.started": "2024-06-23T16:41:37.462727Z",
          "shell.execute_reply": "2024-06-23T16:41:37.472118Z"
        },
        "trusted": true,
        "id": "UaFdlcPIWu3F"
      },
      "execution_count": null,
      "outputs": []
    },
    {
      "cell_type": "code",
      "source": [
        "es = EarlyStopping(\n",
        "    monitor = \"val_accuracy\",\n",
        "    patience = 8,\n",
        "    verbose = 1,\n",
        "    restore_best_weights = True,\n",
        ")"
      ],
      "metadata": {
        "execution": {
          "iopub.status.busy": "2024-06-23T16:41:37.4742Z",
          "iopub.execute_input": "2024-06-23T16:41:37.474506Z",
          "iopub.status.idle": "2024-06-23T16:41:37.48222Z",
          "shell.execute_reply.started": "2024-06-23T16:41:37.474483Z",
          "shell.execute_reply": "2024-06-23T16:41:37.48139Z"
        },
        "trusted": true,
        "id": "bWEC0DTyWu3G"
      },
      "execution_count": null,
      "outputs": []
    },
    {
      "cell_type": "code",
      "source": [
        "data_val = ImageDataGenerator(validation_split = 0.2)\n",
        "\n",
        "data_train = ImageDataGenerator(\n",
        "    zoom_range = 0.2,\n",
        "    horizontal_flip = True,\n",
        "    validation_split = 0.2)\n",
        "\n",
        "train_data = data_train.flow(x_train, y_train_fine, batch_size=64, subset='training')\n",
        "val_data = data_val.flow(x_train, y_train_fine, batch_size=64, subset='validation')\n"
      ],
      "metadata": {
        "execution": {
          "iopub.status.busy": "2024-06-23T16:41:37.483353Z",
          "iopub.execute_input": "2024-06-23T16:41:37.483781Z",
          "iopub.status.idle": "2024-06-23T16:41:37.730222Z",
          "shell.execute_reply.started": "2024-06-23T16:41:37.483747Z",
          "shell.execute_reply": "2024-06-23T16:41:37.729163Z"
        },
        "trusted": true,
        "id": "gWB8iOpOWu3G"
      },
      "execution_count": null,
      "outputs": []
    },
    {
      "cell_type": "code",
      "source": [
        "tb = TensorBoard(\n",
        "    log_dir=\"logs\",\n",
        ")"
      ],
      "metadata": {
        "execution": {
          "iopub.status.busy": "2024-06-23T16:41:37.731331Z",
          "iopub.execute_input": "2024-06-23T16:41:37.731631Z",
          "iopub.status.idle": "2024-06-23T16:41:37.736311Z",
          "shell.execute_reply.started": "2024-06-23T16:41:37.731607Z",
          "shell.execute_reply": "2024-06-23T16:41:37.7354Z"
        },
        "trusted": true,
        "id": "kng76sZkWu3H"
      },
      "execution_count": null,
      "outputs": []
    },
    {
      "cell_type": "code",
      "source": [
        "history = model.fit(\n",
        "    train_data,\n",
        "    epochs = 200,\n",
        "    validation_data = val_data,\n",
        "    callbacks= [rlrop, es, mc, tb]\n",
        ")"
      ],
      "metadata": {
        "execution": {
          "iopub.status.busy": "2024-06-23T16:41:37.737591Z",
          "iopub.execute_input": "2024-06-23T16:41:37.737904Z",
          "iopub.status.idle": "2024-06-23T16:56:42.172386Z",
          "shell.execute_reply.started": "2024-06-23T16:41:37.737872Z",
          "shell.execute_reply": "2024-06-23T16:56:42.171587Z"
        },
        "trusted": true,
        "id": "m2HLi76JWu3H"
      },
      "execution_count": null,
      "outputs": []
    },
    {
      "cell_type": "code",
      "source": [
        "plt.plot(history.history[\"loss\"])\n",
        "plt.plot(history.history[\"val_loss\"])"
      ],
      "metadata": {
        "execution": {
          "iopub.status.busy": "2024-06-23T16:56:42.173588Z",
          "iopub.execute_input": "2024-06-23T16:56:42.173879Z",
          "iopub.status.idle": "2024-06-23T16:56:42.425227Z",
          "shell.execute_reply.started": "2024-06-23T16:56:42.173848Z",
          "shell.execute_reply": "2024-06-23T16:56:42.424344Z"
        },
        "trusted": true,
        "id": "oMpM2EcjWu3H"
      },
      "execution_count": null,
      "outputs": []
    },
    {
      "cell_type": "code",
      "source": [
        "plt.plot(history.history[\"loss\"])\n",
        "plt.plot(history.history[\"val_loss\"])"
      ],
      "metadata": {
        "execution": {
          "iopub.status.busy": "2024-06-23T16:56:42.426699Z",
          "iopub.execute_input": "2024-06-23T16:56:42.42696Z",
          "iopub.status.idle": "2024-06-23T16:56:42.680292Z",
          "shell.execute_reply.started": "2024-06-23T16:56:42.426937Z",
          "shell.execute_reply": "2024-06-23T16:56:42.679334Z"
        },
        "trusted": true,
        "id": "xsAqfrwTWu3I"
      },
      "execution_count": null,
      "outputs": []
    },
    {
      "cell_type": "code",
      "source": [
        "plt.plot(history.history[\"accuracy\"])\n",
        "plt.plot(history.history[\"val_accuracy\"])"
      ],
      "metadata": {
        "execution": {
          "iopub.status.busy": "2024-06-23T16:56:42.681715Z",
          "iopub.execute_input": "2024-06-23T16:56:42.682094Z",
          "iopub.status.idle": "2024-06-23T16:56:42.922069Z",
          "shell.execute_reply.started": "2024-06-23T16:56:42.682057Z",
          "shell.execute_reply": "2024-06-23T16:56:42.921134Z"
        },
        "trusted": true,
        "id": "J6PhvMgtWu3I"
      },
      "execution_count": null,
      "outputs": []
    },
    {
      "cell_type": "code",
      "source": [
        "plt.plot(history.history[\"accuracy\"])\n",
        "plt.plot(history.history[\"val_accuracy\"])"
      ],
      "metadata": {
        "execution": {
          "iopub.status.busy": "2024-06-23T16:56:42.923649Z",
          "iopub.execute_input": "2024-06-23T16:56:42.923947Z",
          "iopub.status.idle": "2024-06-23T16:56:43.159058Z",
          "shell.execute_reply.started": "2024-06-23T16:56:42.92392Z",
          "shell.execute_reply": "2024-06-23T16:56:43.15807Z"
        },
        "trusted": true,
        "id": "LlADZB2bWu3I"
      },
      "execution_count": null,
      "outputs": []
    },
    {
      "cell_type": "code",
      "source": [
        "predictions = model.predict(x_test)"
      ],
      "metadata": {
        "execution": {
          "iopub.status.busy": "2024-06-23T16:56:43.160425Z",
          "iopub.execute_input": "2024-06-23T16:56:43.160689Z",
          "iopub.status.idle": "2024-06-23T16:56:44.605352Z",
          "shell.execute_reply.started": "2024-06-23T16:56:43.160665Z",
          "shell.execute_reply": "2024-06-23T16:56:44.604532Z"
        },
        "trusted": true,
        "id": "U-kuDjRmWu3J"
      },
      "execution_count": null,
      "outputs": []
    },
    {
      "cell_type": "code",
      "source": [
        "predictions = predictions.argmax(axis=1)"
      ],
      "metadata": {
        "execution": {
          "iopub.status.busy": "2024-06-23T16:56:44.609738Z",
          "iopub.execute_input": "2024-06-23T16:56:44.61004Z",
          "iopub.status.idle": "2024-06-23T16:56:44.614389Z",
          "shell.execute_reply.started": "2024-06-23T16:56:44.610015Z",
          "shell.execute_reply": "2024-06-23T16:56:44.613532Z"
        },
        "trusted": true,
        "id": "iZYMhI4PWu3J"
      },
      "execution_count": null,
      "outputs": []
    },
    {
      "cell_type": "code",
      "source": [
        "predictions"
      ],
      "metadata": {
        "execution": {
          "iopub.status.busy": "2024-06-23T16:56:44.615538Z",
          "iopub.execute_input": "2024-06-23T16:56:44.61587Z",
          "iopub.status.idle": "2024-06-23T16:56:44.626052Z",
          "shell.execute_reply.started": "2024-06-23T16:56:44.615839Z",
          "shell.execute_reply": "2024-06-23T16:56:44.625152Z"
        },
        "trusted": true,
        "id": "7beC0DDWWu3J"
      },
      "execution_count": null,
      "outputs": []
    },
    {
      "cell_type": "code",
      "source": [
        "df = pd.DataFrame(predictions, columns=[\"Label\"])"
      ],
      "metadata": {
        "execution": {
          "iopub.status.busy": "2024-06-23T16:56:44.627247Z",
          "iopub.execute_input": "2024-06-23T16:56:44.627658Z",
          "iopub.status.idle": "2024-06-23T16:56:44.63424Z",
          "shell.execute_reply.started": "2024-06-23T16:56:44.627633Z",
          "shell.execute_reply": "2024-06-23T16:56:44.633312Z"
        },
        "trusted": true,
        "id": "hySP0SeWWu3J"
      },
      "execution_count": null,
      "outputs": []
    },
    {
      "cell_type": "code",
      "source": [
        "df.index.name = \"Id\""
      ],
      "metadata": {
        "execution": {
          "iopub.status.busy": "2024-06-23T16:56:44.636896Z",
          "iopub.execute_input": "2024-06-23T16:56:44.637198Z",
          "iopub.status.idle": "2024-06-23T16:56:44.643494Z",
          "shell.execute_reply.started": "2024-06-23T16:56:44.637174Z",
          "shell.execute_reply": "2024-06-23T16:56:44.642613Z"
        },
        "trusted": true,
        "id": "Gtjy5yPtWu3K"
      },
      "execution_count": null,
      "outputs": []
    },
    {
      "cell_type": "code",
      "source": [
        "df.head()"
      ],
      "metadata": {
        "execution": {
          "iopub.status.busy": "2024-06-23T16:56:44.644606Z",
          "iopub.execute_input": "2024-06-23T16:56:44.645592Z",
          "iopub.status.idle": "2024-06-23T16:56:44.657596Z",
          "shell.execute_reply.started": "2024-06-23T16:56:44.645567Z",
          "shell.execute_reply": "2024-06-23T16:56:44.656617Z"
        },
        "trusted": true,
        "id": "mJMLaQoDWu3K"
      },
      "execution_count": null,
      "outputs": []
    },
    {
      "cell_type": "code",
      "source": [
        "df.to_csv(\"submission.csv\")"
      ],
      "metadata": {
        "execution": {
          "iopub.status.busy": "2024-06-23T16:56:44.658622Z",
          "iopub.execute_input": "2024-06-23T16:56:44.658849Z",
          "iopub.status.idle": "2024-06-23T16:56:44.67805Z",
          "shell.execute_reply.started": "2024-06-23T16:56:44.658828Z",
          "shell.execute_reply": "2024-06-23T16:56:44.677191Z"
        },
        "trusted": true,
        "id": "Vd4nRxnzWu3K"
      },
      "execution_count": null,
      "outputs": []
    },
    {
      "cell_type": "code",
      "source": [],
      "metadata": {
        "id": "vEXeATp8Wu3K"
      },
      "execution_count": null,
      "outputs": []
    }
  ]
}