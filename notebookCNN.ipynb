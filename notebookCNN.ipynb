{
 "cells": [
  {
   "cell_type": "code",
   "execution_count": 1,
   "id": "3d611425",
   "metadata": {
    "_cell_guid": "b1076dfc-b9ad-4769-8c92-a6c4dae69d19",
    "_uuid": "8f2839f25d086af736a60e9eeb907d3b93b6e0e5",
    "execution": {
     "iopub.execute_input": "2024-06-30T01:57:40.680201Z",
     "iopub.status.busy": "2024-06-30T01:57:40.679910Z",
     "iopub.status.idle": "2024-06-30T01:57:41.403017Z",
     "shell.execute_reply": "2024-06-30T01:57:41.401847Z"
    },
    "papermill": {
     "duration": 0.734894,
     "end_time": "2024-06-30T01:57:41.405117",
     "exception": false,
     "start_time": "2024-06-30T01:57:40.670223",
     "status": "completed"
    },
    "tags": []
   },
   "outputs": [
    {
     "name": "stdout",
     "output_type": "stream",
     "text": [
      "/kaggle/input/itba-cifar-100-2024-q-1/y_train_fine.npy\n",
      "/kaggle/input/itba-cifar-100-2024-q-1/y_train_coarse.npy\n",
      "/kaggle/input/itba-cifar-100-2024-q-1/fine_label_names.pck\n",
      "/kaggle/input/itba-cifar-100-2024-q-1/coarse_label_names.pck\n",
      "/kaggle/input/itba-cifar-100-2024-q-1/x_test.npy\n",
      "/kaggle/input/itba-cifar-100-2024-q-1/x_train.npy\n"
     ]
    }
   ],
   "source": [
    "# This Python 3 environment comes with many helpful analytics libraries installed\n",
    "# It is defined by the kaggle/python Docker image: https://github.com/kaggle/docker-python\n",
    "# For example, here's several helpful packages to load\n",
    "\n",
    "import numpy as np # linear algebra\n",
    "import pandas as pd # data processing, CSV file I/O (e.g. pd.read_csv)\n",
    "# Input data files are available in the read-only \"../input/\" directory\n",
    "# For example, running this (by clicking run or pressing Shift+Enter) will list all files under the input directory\n",
    "\n",
    "import os\n",
    "for dirname, _, filenames in os.walk('/kaggle/input'):\n",
    "    for filename in filenames:\n",
    "        print(os.path.join(dirname, filename))\n",
    "\n",
    "# You can write up to 20GB to the current directory (/kaggle/working/) that gets preserved as output when you create a version using \"Save & Run All\" \n",
    "# You can also write temporary files to /kaggle/temp/, but they won't be saved outside of the current session"
   ]
  },
  {
   "cell_type": "code",
   "execution_count": 2,
   "id": "5b2fd31a",
   "metadata": {
    "execution": {
     "iopub.execute_input": "2024-06-30T01:57:41.423097Z",
     "iopub.status.busy": "2024-06-30T01:57:41.422741Z",
     "iopub.status.idle": "2024-06-30T01:57:44.281341Z",
     "shell.execute_reply": "2024-06-30T01:57:44.280541Z"
    },
    "papermill": {
     "duration": 2.86995,
     "end_time": "2024-06-30T01:57:44.283540",
     "exception": false,
     "start_time": "2024-06-30T01:57:41.413590",
     "status": "completed"
    },
    "tags": []
   },
   "outputs": [],
   "source": [
    "x_train = np.load(\"/kaggle/input/itba-cifar-100-2024-q-1/x_train.npy\")/255.\n",
    "x_test = np.load(\"/kaggle/input/itba-cifar-100-2024-q-1/x_test.npy\")/255.\n",
    "y_train_coarse = np.load(\"/kaggle/input/itba-cifar-100-2024-q-1/y_train_coarse.npy\")\n",
    "y_train_fine = np.load(\"/kaggle/input/itba-cifar-100-2024-q-1/y_train_fine.npy\")"
   ]
  },
  {
   "cell_type": "code",
   "execution_count": 3,
   "id": "52b6bbca",
   "metadata": {
    "execution": {
     "iopub.execute_input": "2024-06-30T01:57:44.302292Z",
     "iopub.status.busy": "2024-06-30T01:57:44.301999Z",
     "iopub.status.idle": "2024-06-30T01:57:44.317017Z",
     "shell.execute_reply": "2024-06-30T01:57:44.316277Z"
    },
    "papermill": {
     "duration": 0.026371,
     "end_time": "2024-06-30T01:57:44.319054",
     "exception": false,
     "start_time": "2024-06-30T01:57:44.292683",
     "status": "completed"
    },
    "tags": []
   },
   "outputs": [],
   "source": [
    "import pickle\n",
    "with open(\"/kaggle/input/itba-cifar-100-2024-q-1/fine_label_names.pck\", \"rb\") as f:\n",
    "    labels_fine = pickle.load(f)\n",
    "with open(\"/kaggle/input/itba-cifar-100-2024-q-1/coarse_label_names.pck\", \"rb\") as f:\n",
    "    labels_coarse = pickle.load(f)"
   ]
  },
  {
   "cell_type": "code",
   "execution_count": 4,
   "id": "f588f599",
   "metadata": {
    "execution": {
     "iopub.execute_input": "2024-06-30T01:57:44.336497Z",
     "iopub.status.busy": "2024-06-30T01:57:44.336198Z",
     "iopub.status.idle": "2024-06-30T01:57:44.356682Z",
     "shell.execute_reply": "2024-06-30T01:57:44.355958Z"
    },
    "papermill": {
     "duration": 0.031387,
     "end_time": "2024-06-30T01:57:44.358590",
     "exception": false,
     "start_time": "2024-06-30T01:57:44.327203",
     "status": "completed"
    },
    "tags": []
   },
   "outputs": [],
   "source": [
    "from matplotlib import pyplot as plt\n",
    "%load_ext tensorboard"
   ]
  },
  {
   "cell_type": "code",
   "execution_count": 5,
   "id": "28985817",
   "metadata": {
    "execution": {
     "iopub.execute_input": "2024-06-30T01:57:44.375643Z",
     "iopub.status.busy": "2024-06-30T01:57:44.375383Z",
     "iopub.status.idle": "2024-06-30T01:57:44.580973Z",
     "shell.execute_reply": "2024-06-30T01:57:44.580034Z"
    },
    "papermill": {
     "duration": 0.216305,
     "end_time": "2024-06-30T01:57:44.582978",
     "exception": false,
     "start_time": "2024-06-30T01:57:44.366673",
     "status": "completed"
    },
    "tags": []
   },
   "outputs": [
    {
     "data": {
      "text/plain": [
       "<matplotlib.image.AxesImage at 0x7e0e7823b5e0>"
      ]
     },
     "execution_count": 5,
     "metadata": {},
     "output_type": "execute_result"
    },
    {
     "data": {
      "image/png": "[encoded data removed]",
      "text/plain": [
       "<Figure size 100x100 with 1 Axes>"
      ]
     },
     "metadata": {},
     "output_type": "display_data"
    }
   ],
   "source": [
    "plt.figure(figsize=(1,1))\n",
    "plt.imshow(x_train[25])"
   ]
  },
  {
   "cell_type": "code",
   "execution_count": 6,
   "id": "e5fe3873",
   "metadata": {
    "execution": {
     "iopub.execute_input": "2024-06-30T01:57:44.601797Z",
     "iopub.status.busy": "2024-06-30T01:57:44.601527Z",
     "iopub.status.idle": "2024-06-30T01:57:44.607080Z",
     "shell.execute_reply": "2024-06-30T01:57:44.606167Z"
    },
    "papermill": {
     "duration": 0.016953,
     "end_time": "2024-06-30T01:57:44.608961",
     "exception": false,
     "start_time": "2024-06-30T01:57:44.592008",
     "status": "completed"
    },
    "tags": []
   },
   "outputs": [
    {
     "data": {
      "text/plain": [
       "84"
      ]
     },
     "execution_count": 6,
     "metadata": {},
     "output_type": "execute_result"
    }
   ],
   "source": [
    "y_train_fine[25]"
   ]
  },
  {
   "cell_type": "code",
   "execution_count": 7,
   "id": "0847a27e",
   "metadata": {
    "execution": {
     "iopub.execute_input": "2024-06-30T01:57:44.628469Z",
     "iopub.status.busy": "2024-06-30T01:57:44.628172Z",
     "iopub.status.idle": "2024-06-30T01:57:44.633148Z",
     "shell.execute_reply": "2024-06-30T01:57:44.632318Z"
    },
    "papermill": {
     "duration": 0.016507,
     "end_time": "2024-06-30T01:57:44.635099",
     "exception": false,
     "start_time": "2024-06-30T01:57:44.618592",
     "status": "completed"
    },
    "tags": []
   },
   "outputs": [
    {
     "data": {
      "text/plain": [
       "'table'"
      ]
     },
     "execution_count": 7,
     "metadata": {},
     "output_type": "execute_result"
    }
   ],
   "source": [
    "labels_fine[84]"
   ]
  },
  {
   "cell_type": "code",
   "execution_count": 8,
   "id": "6902c137",
   "metadata": {
    "execution": {
     "iopub.execute_input": "2024-06-30T01:57:44.653874Z",
     "iopub.status.busy": "2024-06-30T01:57:44.653138Z",
     "iopub.status.idle": "2024-06-30T01:57:44.660434Z",
     "shell.execute_reply": "2024-06-30T01:57:44.659561Z"
    },
    "papermill": {
     "duration": 0.018524,
     "end_time": "2024-06-30T01:57:44.662366",
     "exception": false,
     "start_time": "2024-06-30T01:57:44.643842",
     "status": "completed"
    },
    "tags": []
   },
   "outputs": [
    {
     "name": "stdout",
     "output_type": "stream",
     "text": [
      "Grano grueso: household_furniture\n",
      "Grano fino: bed\n",
      "Grano fino: chair\n",
      "Grano fino: couch\n",
      "Grano fino: table\n",
      "Grano fino: wardrobe\n"
     ]
    }
   ],
   "source": [
    "# Me fijo para una categoría de grano grueso, cuáles son las categorías de grano fino\n",
    "coarse = 6\n",
    "print(f\"Grano grueso: {labels_coarse[coarse]}\")\n",
    "for fine in np.unique(y_train_fine[y_train_coarse == coarse]):\n",
    "    print(f\"Grano fino: {labels_fine[fine]}\")"
   ]
  },
  {
   "cell_type": "code",
   "execution_count": 9,
   "id": "d0f352fd",
   "metadata": {
    "execution": {
     "iopub.execute_input": "2024-06-30T01:57:44.681157Z",
     "iopub.status.busy": "2024-06-30T01:57:44.680902Z",
     "iopub.status.idle": "2024-06-30T01:57:55.986105Z",
     "shell.execute_reply": "2024-06-30T01:57:55.985119Z"
    },
    "papermill": {
     "duration": 11.317318,
     "end_time": "2024-06-30T01:57:55.988444",
     "exception": false,
     "start_time": "2024-06-30T01:57:44.671126",
     "status": "completed"
    },
    "tags": []
   },
   "outputs": [
    {
     "name": "stderr",
     "output_type": "stream",
     "text": [
      "2024-06-30 01:57:46.306870: E external/local_xla/xla/stream_executor/cuda/cuda_dnn.cc:9261] Unable to register cuDNN factory: Attempting to register factory for plugin cuDNN when one has already been registered\n",
      "2024-06-30 01:57:46.307009: E external/local_xla/xla/stream_executor/cuda/cuda_fft.cc:607] Unable to register cuFFT factory: Attempting to register factory for plugin cuFFT when one has already been registered\n",
      "2024-06-30 01:57:46.429628: E external/local_xla/xla/stream_executor/cuda/cuda_blas.cc:1515] Unable to register cuBLAS factory: Attempting to register factory for plugin cuBLAS when one has already been registered\n"
     ]
    }
   ],
   "source": [
    "from tensorflow.keras.models import Sequential\n",
    "from tensorflow.keras.layers import Conv2D, MaxPooling2D, AveragePooling2D, GlobalAveragePooling2D, Flatten, Activation, Dense, Dropout,AlphaDropout, BatchNormalization\n",
    "from tensorflow.keras.preprocessing.image import ImageDataGenerator\n",
    "from tensorflow.keras.optimizers import SGD, Adam, AdamW, RMSprop\n",
    "from tensorflow.keras.regularizers import l1, l2\n",
    "from tensorflow.keras.constraints import MaxNorm\n",
    "from tensorflow.keras.callbacks import ReduceLROnPlateau, EarlyStopping, ModelCheckpoint, TensorBoard"
   ]
  },
  {
   "cell_type": "code",
   "execution_count": 10,
   "id": "bfd193d3",
   "metadata": {
    "execution": {
     "iopub.execute_input": "2024-06-30T01:57:56.008145Z",
     "iopub.status.busy": "2024-06-30T01:57:56.007603Z",
     "iopub.status.idle": "2024-06-30T01:57:56.013818Z",
     "shell.execute_reply": "2024-06-30T01:57:56.012803Z"
    },
    "papermill": {
     "duration": 0.018065,
     "end_time": "2024-06-30T01:57:56.015692",
     "exception": false,
     "start_time": "2024-06-30T01:57:55.997627",
     "status": "completed"
    },
    "tags": []
   },
   "outputs": [
    {
     "data": {
      "text/plain": [
       "(50000, 32, 32, 3)"
      ]
     },
     "execution_count": 10,
     "metadata": {},
     "output_type": "execute_result"
    }
   ],
   "source": [
    "x_train.shape"
   ]
  },
  {
   "cell_type": "code",
   "execution_count": 11,
   "id": "93d8aabb",
   "metadata": {
    "execution": {
     "iopub.execute_input": "2024-06-30T01:57:56.035403Z",
     "iopub.status.busy": "2024-06-30T01:57:56.034791Z",
     "iopub.status.idle": "2024-06-30T01:57:57.098355Z",
     "shell.execute_reply": "2024-06-30T01:57:57.097310Z"
    },
    "papermill": {
     "duration": 1.075874,
     "end_time": "2024-06-30T01:57:57.100703",
     "exception": false,
     "start_time": "2024-06-30T01:57:56.024829",
     "status": "completed"
    },
    "tags": []
   },
   "outputs": [
    {
     "name": "stderr",
     "output_type": "stream",
     "text": [
      "/opt/conda/lib/python3.10/site-packages/keras/src/layers/convolutional/base_conv.py:99: UserWarning: Do not pass an `input_shape`/`input_dim` argument to a layer. When using Sequential models, prefer using an `Input(shape)` object as the first layer in the model instead.\n",
      "  super().__init__(\n"
     ]
    }
   ],
   "source": [
    "model = Sequential()\n",
    "model.add(Conv2D(filters = 128, kernel_size=(3,3), activation = \"leaky_relu\",use_bias=True, padding = \"same\",input_shape = (32,32,3)))\n",
    "model.add(BatchNormalization())\n",
    "model.add(Conv2D(filters = 128, kernel_size=(3,3), activation = \"leaky_relu\",use_bias=True, padding = \"same\"))\n",
    "model.add(BatchNormalization())\n",
    "model.add(MaxPooling2D(pool_size=(2, 2)))\n",
    "model.add(Dropout(0.2))\n",
    "          \n",
    "model.add(Conv2D(filters = 256, kernel_size=(3,3),activation = \"leaky_relu\",use_bias=True, padding = \"same\"))\n",
    "model.add(BatchNormalization())\n",
    "model.add(Conv2D(filters = 256, kernel_size=(3,3),activation = \"leaky_relu\",use_bias=True, padding = \"same\"))  \n",
    "model.add(BatchNormalization())\n",
    "model.add(MaxPooling2D(pool_size=(3, 3)))\n",
    "model.add(Dropout(0.4))\n",
    "\n",
    "model.add(Conv2D(filters = 512, kernel_size= (3,3),activation = \"leaky_relu\",use_bias=True, padding = \"same\"))\n",
    "model.add(BatchNormalization())\n",
    "model.add(Conv2D(filters = 512, kernel_size= (3,3),activation = \"leaky_relu\",use_bias=True, padding = \"same\"))   \n",
    "model.add(BatchNormalization())\n",
    "model.add(AveragePooling2D(pool_size=(3, 3)))\n",
    "model.add(Dropout(0.5))\n",
    "          \n",
    "model.add(Flatten())\n",
    "model.add(BatchNormalization())\n",
    "model.add(Dense(512,activation = \"leaky_relu\"))\n",
    "model.add(BatchNormalization())\n",
    "model.add(Dropout(0.5))\n",
    "model.add(Dense(100, activation= \"softmax\"))\n",
    "\n",
    "model.compile(loss=\"sparse_categorical_crossentropy\", metrics = [\"accuracy\"], optimizer = AdamW(learning_rate = 0.001))"
   ]
  },
  {
   "cell_type": "code",
   "execution_count": 12,
   "id": "a0bc2562",
   "metadata": {
    "execution": {
     "iopub.execute_input": "2024-06-30T01:57:57.126671Z",
     "iopub.status.busy": "2024-06-30T01:57:57.126339Z",
     "iopub.status.idle": "2024-06-30T01:57:57.166659Z",
     "shell.execute_reply": "2024-06-30T01:57:57.165825Z"
    },
    "papermill": {
     "duration": 0.055091,
     "end_time": "2024-06-30T01:57:57.168943",
     "exception": false,
     "start_time": "2024-06-30T01:57:57.113852",
     "status": "completed"
    },
    "tags": []
   },
   "outputs": [
    {
     "data": {
      "text/html": [
       "<pre style=\"white-space:pre;overflow-x:auto;line-height:normal;font-family:Menlo,'DejaVu Sans Mono',consolas,'Courier New',monospace\"><span style=\"font-weight: bold\">Model: \"sequential\"</span>\n",
       "</pre>\n"
      ],
      "text/plain": [
       "\u001b[1mModel: \"sequential\"\u001b[0m\n"
      ]
     },
     "metadata": {},
     "output_type": "display_data"
    },
    {
     "data": {
      "text/html": [
       "<pre style=\"white-space:pre;overflow-x:auto;line-height:normal;font-family:Menlo,'DejaVu Sans Mono',consolas,'Courier New',monospace\">┏━━━━━━━━━━━━━━━━━━━━━━━━━━━━━━━━━┳━━━━━━━━━━━━━━━━━━━━━━━━┳━━━━━━━━━━━━━━━┓\n",
       "┃<span style=\"font-weight: bold\"> Layer (type)                    </span>┃<span style=\"font-weight: bold\"> Output Shape           </span>┃<span style=\"font-weight: bold\">       Param # </span>┃\n",
       "┡━━━━━━━━━━━━━━━━━━━━━━━━━━━━━━━━━╇━━━━━━━━━━━━━━━━━━━━━━━━╇━━━━━━━━━━━━━━━┩\n",
       "│ conv2d (<span style=\"color: #0087ff; text-decoration-color: #0087ff\">Conv2D</span>)                 │ (<span style=\"color: #00d7ff; text-decoration-color: #00d7ff\">None</span>, <span style=\"color: #00af00; text-decoration-color: #00af00\">32</span>, <span style=\"color: #00af00; text-decoration-color: #00af00\">32</span>, <span style=\"color: #00af00; text-decoration-color: #00af00\">128</span>)    │         <span style=\"color: #00af00; text-decoration-color: #00af00\">3,584</span> │\n",
       "├─────────────────────────────────┼────────────────────────┼───────────────┤\n",
       "│ batch_normalization             │ (<span style=\"color: #00d7ff; text-decoration-color: #00d7ff\">None</span>, <span style=\"color: #00af00; text-decoration-color: #00af00\">32</span>, <span style=\"color: #00af00; text-decoration-color: #00af00\">32</span>, <span style=\"color: #00af00; text-decoration-color: #00af00\">128</span>)    │           <span style=\"color: #00af00; text-decoration-color: #00af00\">512</span> │\n",
       "│ (<span style=\"color: #0087ff; text-decoration-color: #0087ff\">BatchNormalization</span>)            │                        │               │\n",
       "├─────────────────────────────────┼────────────────────────┼───────────────┤\n",
       "│ conv2d_1 (<span style=\"color: #0087ff; text-decoration-color: #0087ff\">Conv2D</span>)               │ (<span style=\"color: #00d7ff; text-decoration-color: #00d7ff\">None</span>, <span style=\"color: #00af00; text-decoration-color: #00af00\">32</span>, <span style=\"color: #00af00; text-decoration-color: #00af00\">32</span>, <span style=\"color: #00af00; text-decoration-color: #00af00\">128</span>)    │       <span style=\"color: #00af00; text-decoration-color: #00af00\">147,584</span> │\n",
       "├─────────────────────────────────┼────────────────────────┼───────────────┤\n",
       "│ batch_normalization_1           │ (<span style=\"color: #00d7ff; text-decoration-color: #00d7ff\">None</span>, <span style=\"color: #00af00; text-decoration-color: #00af00\">32</span>, <span style=\"color: #00af00; text-decoration-color: #00af00\">32</span>, <span style=\"color: #00af00; text-decoration-color: #00af00\">128</span>)    │           <span style=\"color: #00af00; text-decoration-color: #00af00\">512</span> │\n",
       "│ (<span style=\"color: #0087ff; text-decoration-color: #0087ff\">BatchNormalization</span>)            │                        │               │\n",
       "├─────────────────────────────────┼────────────────────────┼───────────────┤\n",
       "│ max_pooling2d (<span style=\"color: #0087ff; text-decoration-color: #0087ff\">MaxPooling2D</span>)    │ (<span style=\"color: #00d7ff; text-decoration-color: #00d7ff\">None</span>, <span style=\"color: #00af00; text-decoration-color: #00af00\">16</span>, <span style=\"color: #00af00; text-decoration-color: #00af00\">16</span>, <span style=\"color: #00af00; text-decoration-color: #00af00\">128</span>)    │             <span style=\"color: #00af00; text-decoration-color: #00af00\">0</span> │\n",
       "├─────────────────────────────────┼────────────────────────┼───────────────┤\n",
       "│ dropout (<span style=\"color: #0087ff; text-decoration-color: #0087ff\">Dropout</span>)               │ (<span style=\"color: #00d7ff; text-decoration-color: #00d7ff\">None</span>, <span style=\"color: #00af00; text-decoration-color: #00af00\">16</span>, <span style=\"color: #00af00; text-decoration-color: #00af00\">16</span>, <span style=\"color: #00af00; text-decoration-color: #00af00\">128</span>)    │             <span style=\"color: #00af00; text-decoration-color: #00af00\">0</span> │\n",
       "├─────────────────────────────────┼────────────────────────┼───────────────┤\n",
       "│ conv2d_2 (<span style=\"color: #0087ff; text-decoration-color: #0087ff\">Conv2D</span>)               │ (<span style=\"color: #00d7ff; text-decoration-color: #00d7ff\">None</span>, <span style=\"color: #00af00; text-decoration-color: #00af00\">16</span>, <span style=\"color: #00af00; text-decoration-color: #00af00\">16</span>, <span style=\"color: #00af00; text-decoration-color: #00af00\">256</span>)    │       <span style=\"color: #00af00; text-decoration-color: #00af00\">295,168</span> │\n",
       "├─────────────────────────────────┼────────────────────────┼───────────────┤\n",
       "│ batch_normalization_2           │ (<span style=\"color: #00d7ff; text-decoration-color: #00d7ff\">None</span>, <span style=\"color: #00af00; text-decoration-color: #00af00\">16</span>, <span style=\"color: #00af00; text-decoration-color: #00af00\">16</span>, <span style=\"color: #00af00; text-decoration-color: #00af00\">256</span>)    │         <span style=\"color: #00af00; text-decoration-color: #00af00\">1,024</span> │\n",
       "│ (<span style=\"color: #0087ff; text-decoration-color: #0087ff\">BatchNormalization</span>)            │                        │               │\n",
       "├─────────────────────────────────┼────────────────────────┼───────────────┤\n",
       "│ conv2d_3 (<span style=\"color: #0087ff; text-decoration-color: #0087ff\">Conv2D</span>)               │ (<span style=\"color: #00d7ff; text-decoration-color: #00d7ff\">None</span>, <span style=\"color: #00af00; text-decoration-color: #00af00\">16</span>, <span style=\"color: #00af00; text-decoration-color: #00af00\">16</span>, <span style=\"color: #00af00; text-decoration-color: #00af00\">256</span>)    │       <span style=\"color: #00af00; text-decoration-color: #00af00\">590,080</span> │\n",
       "├─────────────────────────────────┼────────────────────────┼───────────────┤\n",
       "│ batch_normalization_3           │ (<span style=\"color: #00d7ff; text-decoration-color: #00d7ff\">None</span>, <span style=\"color: #00af00; text-decoration-color: #00af00\">16</span>, <span style=\"color: #00af00; text-decoration-color: #00af00\">16</span>, <span style=\"color: #00af00; text-decoration-color: #00af00\">256</span>)    │         <span style=\"color: #00af00; text-decoration-color: #00af00\">1,024</span> │\n",
       "│ (<span style=\"color: #0087ff; text-decoration-color: #0087ff\">BatchNormalization</span>)            │                        │               │\n",
       "├─────────────────────────────────┼────────────────────────┼───────────────┤\n",
       "│ max_pooling2d_1 (<span style=\"color: #0087ff; text-decoration-color: #0087ff\">MaxPooling2D</span>)  │ (<span style=\"color: #00d7ff; text-decoration-color: #00d7ff\">None</span>, <span style=\"color: #00af00; text-decoration-color: #00af00\">5</span>, <span style=\"color: #00af00; text-decoration-color: #00af00\">5</span>, <span style=\"color: #00af00; text-decoration-color: #00af00\">256</span>)      │             <span style=\"color: #00af00; text-decoration-color: #00af00\">0</span> │\n",
       "├─────────────────────────────────┼────────────────────────┼───────────────┤\n",
       "│ dropout_1 (<span style=\"color: #0087ff; text-decoration-color: #0087ff\">Dropout</span>)             │ (<span style=\"color: #00d7ff; text-decoration-color: #00d7ff\">None</span>, <span style=\"color: #00af00; text-decoration-color: #00af00\">5</span>, <span style=\"color: #00af00; text-decoration-color: #00af00\">5</span>, <span style=\"color: #00af00; text-decoration-color: #00af00\">256</span>)      │             <span style=\"color: #00af00; text-decoration-color: #00af00\">0</span> │\n",
       "├─────────────────────────────────┼────────────────────────┼───────────────┤\n",
       "│ conv2d_4 (<span style=\"color: #0087ff; text-decoration-color: #0087ff\">Conv2D</span>)               │ (<span style=\"color: #00d7ff; text-decoration-color: #00d7ff\">None</span>, <span style=\"color: #00af00; text-decoration-color: #00af00\">5</span>, <span style=\"color: #00af00; text-decoration-color: #00af00\">5</span>, <span style=\"color: #00af00; text-decoration-color: #00af00\">512</span>)      │     <span style=\"color: #00af00; text-decoration-color: #00af00\">1,180,160</span> │\n",
       "├─────────────────────────────────┼────────────────────────┼───────────────┤\n",
       "│ batch_normalization_4           │ (<span style=\"color: #00d7ff; text-decoration-color: #00d7ff\">None</span>, <span style=\"color: #00af00; text-decoration-color: #00af00\">5</span>, <span style=\"color: #00af00; text-decoration-color: #00af00\">5</span>, <span style=\"color: #00af00; text-decoration-color: #00af00\">512</span>)      │         <span style=\"color: #00af00; text-decoration-color: #00af00\">2,048</span> │\n",
       "│ (<span style=\"color: #0087ff; text-decoration-color: #0087ff\">BatchNormalization</span>)            │                        │               │\n",
       "├─────────────────────────────────┼────────────────────────┼───────────────┤\n",
       "│ conv2d_5 (<span style=\"color: #0087ff; text-decoration-color: #0087ff\">Conv2D</span>)               │ (<span style=\"color: #00d7ff; text-decoration-color: #00d7ff\">None</span>, <span style=\"color: #00af00; text-decoration-color: #00af00\">5</span>, <span style=\"color: #00af00; text-decoration-color: #00af00\">5</span>, <span style=\"color: #00af00; text-decoration-color: #00af00\">512</span>)      │     <span style=\"color: #00af00; text-decoration-color: #00af00\">2,359,808</span> │\n",
       "├─────────────────────────────────┼────────────────────────┼───────────────┤\n",
       "│ batch_normalization_5           │ (<span style=\"color: #00d7ff; text-decoration-color: #00d7ff\">None</span>, <span style=\"color: #00af00; text-decoration-color: #00af00\">5</span>, <span style=\"color: #00af00; text-decoration-color: #00af00\">5</span>, <span style=\"color: #00af00; text-decoration-color: #00af00\">512</span>)      │         <span style=\"color: #00af00; text-decoration-color: #00af00\">2,048</span> │\n",
       "│ (<span style=\"color: #0087ff; text-decoration-color: #0087ff\">BatchNormalization</span>)            │                        │               │\n",
       "├─────────────────────────────────┼────────────────────────┼───────────────┤\n",
       "│ average_pooling2d               │ (<span style=\"color: #00d7ff; text-decoration-color: #00d7ff\">None</span>, <span style=\"color: #00af00; text-decoration-color: #00af00\">1</span>, <span style=\"color: #00af00; text-decoration-color: #00af00\">1</span>, <span style=\"color: #00af00; text-decoration-color: #00af00\">512</span>)      │             <span style=\"color: #00af00; text-decoration-color: #00af00\">0</span> │\n",
       "│ (<span style=\"color: #0087ff; text-decoration-color: #0087ff\">AveragePooling2D</span>)              │                        │               │\n",
       "├─────────────────────────────────┼────────────────────────┼───────────────┤\n",
       "│ dropout_2 (<span style=\"color: #0087ff; text-decoration-color: #0087ff\">Dropout</span>)             │ (<span style=\"color: #00d7ff; text-decoration-color: #00d7ff\">None</span>, <span style=\"color: #00af00; text-decoration-color: #00af00\">1</span>, <span style=\"color: #00af00; text-decoration-color: #00af00\">1</span>, <span style=\"color: #00af00; text-decoration-color: #00af00\">512</span>)      │             <span style=\"color: #00af00; text-decoration-color: #00af00\">0</span> │\n",
       "├─────────────────────────────────┼────────────────────────┼───────────────┤\n",
       "│ flatten (<span style=\"color: #0087ff; text-decoration-color: #0087ff\">Flatten</span>)               │ (<span style=\"color: #00d7ff; text-decoration-color: #00d7ff\">None</span>, <span style=\"color: #00af00; text-decoration-color: #00af00\">512</span>)            │             <span style=\"color: #00af00; text-decoration-color: #00af00\">0</span> │\n",
       "├─────────────────────────────────┼────────────────────────┼───────────────┤\n",
       "│ batch_normalization_6           │ (<span style=\"color: #00d7ff; text-decoration-color: #00d7ff\">None</span>, <span style=\"color: #00af00; text-decoration-color: #00af00\">512</span>)            │         <span style=\"color: #00af00; text-decoration-color: #00af00\">2,048</span> │\n",
       "│ (<span style=\"color: #0087ff; text-decoration-color: #0087ff\">BatchNormalization</span>)            │                        │               │\n",
       "├─────────────────────────────────┼────────────────────────┼───────────────┤\n",
       "│ dense (<span style=\"color: #0087ff; text-decoration-color: #0087ff\">Dense</span>)                   │ (<span style=\"color: #00d7ff; text-decoration-color: #00d7ff\">None</span>, <span style=\"color: #00af00; text-decoration-color: #00af00\">512</span>)            │       <span style=\"color: #00af00; text-decoration-color: #00af00\">262,656</span> │\n",
       "├─────────────────────────────────┼────────────────────────┼───────────────┤\n",
       "│ batch_normalization_7           │ (<span style=\"color: #00d7ff; text-decoration-color: #00d7ff\">None</span>, <span style=\"color: #00af00; text-decoration-color: #00af00\">512</span>)            │         <span style=\"color: #00af00; text-decoration-color: #00af00\">2,048</span> │\n",
       "│ (<span style=\"color: #0087ff; text-decoration-color: #0087ff\">BatchNormalization</span>)            │                        │               │\n",
       "├─────────────────────────────────┼────────────────────────┼───────────────┤\n",
       "│ dropout_3 (<span style=\"color: #0087ff; text-decoration-color: #0087ff\">Dropout</span>)             │ (<span style=\"color: #00d7ff; text-decoration-color: #00d7ff\">None</span>, <span style=\"color: #00af00; text-decoration-color: #00af00\">512</span>)            │             <span style=\"color: #00af00; text-decoration-color: #00af00\">0</span> │\n",
       "├─────────────────────────────────┼────────────────────────┼───────────────┤\n",
       "│ dense_1 (<span style=\"color: #0087ff; text-decoration-color: #0087ff\">Dense</span>)                 │ (<span style=\"color: #00d7ff; text-decoration-color: #00d7ff\">None</span>, <span style=\"color: #00af00; text-decoration-color: #00af00\">100</span>)            │        <span style=\"color: #00af00; text-decoration-color: #00af00\">51,300</span> │\n",
       "└─────────────────────────────────┴────────────────────────┴───────────────┘\n",
       "</pre>\n"
      ],
      "text/plain": [
       "┏━━━━━━━━━━━━━━━━━━━━━━━━━━━━━━━━━┳━━━━━━━━━━━━━━━━━━━━━━━━┳━━━━━━━━━━━━━━━┓\n",
       "┃\u001b[1m \u001b[0m\u001b[1mLayer (type)                   \u001b[0m\u001b[1m \u001b[0m┃\u001b[1m \u001b[0m\u001b[1mOutput Shape          \u001b[0m\u001b[1m \u001b[0m┃\u001b[1m \u001b[0m\u001b[1m      Param #\u001b[0m\u001b[1m \u001b[0m┃\n",
       "┡━━━━━━━━━━━━━━━━━━━━━━━━━━━━━━━━━╇━━━━━━━━━━━━━━━━━━━━━━━━╇━━━━━━━━━━━━━━━┩\n",
       "│ conv2d (\u001b[38;5;33mConv2D\u001b[0m)                 │ (\u001b[38;5;45mNone\u001b[0m, \u001b[38;5;34m32\u001b[0m, \u001b[38;5;34m32\u001b[0m, \u001b[38;5;34m128\u001b[0m)    │         \u001b[38;5;34m3,584\u001b[0m │\n",
       "├─────────────────────────────────┼────────────────────────┼───────────────┤\n",
       "│ batch_normalization             │ (\u001b[38;5;45mNone\u001b[0m, \u001b[38;5;34m32\u001b[0m, \u001b[38;5;34m32\u001b[0m, \u001b[38;5;34m128\u001b[0m)    │           \u001b[38;5;34m512\u001b[0m │\n",
       "│ (\u001b[38;5;33mBatchNormalization\u001b[0m)            │                        │               │\n",
       "├─────────────────────────────────┼────────────────────────┼───────────────┤\n",
       "│ conv2d_1 (\u001b[38;5;33mConv2D\u001b[0m)               │ (\u001b[38;5;45mNone\u001b[0m, \u001b[38;5;34m32\u001b[0m, \u001b[38;5;34m32\u001b[0m, \u001b[38;5;34m128\u001b[0m)    │       \u001b[38;5;34m147,584\u001b[0m │\n",
       "├─────────────────────────────────┼────────────────────────┼───────────────┤\n",
       "│ batch_normalization_1           │ (\u001b[38;5;45mNone\u001b[0m, \u001b[38;5;34m32\u001b[0m, \u001b[38;5;34m32\u001b[0m, \u001b[38;5;34m128\u001b[0m)    │           \u001b[38;5;34m512\u001b[0m │\n",
       "│ (\u001b[38;5;33mBatchNormalization\u001b[0m)            │                        │               │\n",
       "├─────────────────────────────────┼────────────────────────┼───────────────┤\n",
       "│ max_pooling2d (\u001b[38;5;33mMaxPooling2D\u001b[0m)    │ (\u001b[38;5;45mNone\u001b[0m, \u001b[38;5;34m16\u001b[0m, \u001b[38;5;34m16\u001b[0m, \u001b[38;5;34m128\u001b[0m)    │             \u001b[38;5;34m0\u001b[0m │\n",
       "├─────────────────────────────────┼────────────────────────┼───────────────┤\n",
       "│ dropout (\u001b[38;5;33mDropout\u001b[0m)               │ (\u001b[38;5;45mNone\u001b[0m, \u001b[38;5;34m16\u001b[0m, \u001b[38;5;34m16\u001b[0m, \u001b[38;5;34m128\u001b[0m)    │             \u001b[38;5;34m0\u001b[0m │\n",
       "├─────────────────────────────────┼────────────────────────┼───────────────┤\n",
       "│ conv2d_2 (\u001b[38;5;33mConv2D\u001b[0m)               │ (\u001b[38;5;45mNone\u001b[0m, \u001b[38;5;34m16\u001b[0m, \u001b[38;5;34m16\u001b[0m, \u001b[38;5;34m256\u001b[0m)    │       \u001b[38;5;34m295,168\u001b[0m │\n",
       "├─────────────────────────────────┼────────────────────────┼───────────────┤\n",
       "│ batch_normalization_2           │ (\u001b[38;5;45mNone\u001b[0m, \u001b[38;5;34m16\u001b[0m, \u001b[38;5;34m16\u001b[0m, \u001b[38;5;34m256\u001b[0m)    │         \u001b[38;5;34m1,024\u001b[0m │\n",
       "│ (\u001b[38;5;33mBatchNormalization\u001b[0m)            │                        │               │\n",
       "├─────────────────────────────────┼────────────────────────┼───────────────┤\n",
       "│ conv2d_3 (\u001b[38;5;33mConv2D\u001b[0m)               │ (\u001b[38;5;45mNone\u001b[0m, \u001b[38;5;34m16\u001b[0m, \u001b[38;5;34m16\u001b[0m, \u001b[38;5;34m256\u001b[0m)    │       \u001b[38;5;34m590,080\u001b[0m │\n",
       "├─────────────────────────────────┼────────────────────────┼───────────────┤\n",
       "│ batch_normalization_3           │ (\u001b[38;5;45mNone\u001b[0m, \u001b[38;5;34m16\u001b[0m, \u001b[38;5;34m16\u001b[0m, \u001b[38;5;34m256\u001b[0m)    │         \u001b[38;5;34m1,024\u001b[0m │\n",
       "│ (\u001b[38;5;33mBatchNormalization\u001b[0m)            │                        │               │\n",
       "├─────────────────────────────────┼────────────────────────┼───────────────┤\n",
       "│ max_pooling2d_1 (\u001b[38;5;33mMaxPooling2D\u001b[0m)  │ (\u001b[38;5;45mNone\u001b[0m, \u001b[38;5;34m5\u001b[0m, \u001b[38;5;34m5\u001b[0m, \u001b[38;5;34m256\u001b[0m)      │             \u001b[38;5;34m0\u001b[0m │\n",
       "├─────────────────────────────────┼────────────────────────┼───────────────┤\n",
       "│ dropout_1 (\u001b[38;5;33mDropout\u001b[0m)             │ (\u001b[38;5;45mNone\u001b[0m, \u001b[38;5;34m5\u001b[0m, \u001b[38;5;34m5\u001b[0m, \u001b[38;5;34m256\u001b[0m)      │             \u001b[38;5;34m0\u001b[0m │\n",
       "├─────────────────────────────────┼────────────────────────┼───────────────┤\n",
       "│ conv2d_4 (\u001b[38;5;33mConv2D\u001b[0m)               │ (\u001b[38;5;45mNone\u001b[0m, \u001b[38;5;34m5\u001b[0m, \u001b[38;5;34m5\u001b[0m, \u001b[38;5;34m512\u001b[0m)      │     \u001b[38;5;34m1,180,160\u001b[0m │\n",
       "├─────────────────────────────────┼────────────────────────┼───────────────┤\n",
       "│ batch_normalization_4           │ (\u001b[38;5;45mNone\u001b[0m, \u001b[38;5;34m5\u001b[0m, \u001b[38;5;34m5\u001b[0m, \u001b[38;5;34m512\u001b[0m)      │         \u001b[38;5;34m2,048\u001b[0m │\n",
       "│ (\u001b[38;5;33mBatchNormalization\u001b[0m)            │                        │               │\n",
       "├─────────────────────────────────┼────────────────────────┼───────────────┤\n",
       "│ conv2d_5 (\u001b[38;5;33mConv2D\u001b[0m)               │ (\u001b[38;5;45mNone\u001b[0m, \u001b[38;5;34m5\u001b[0m, \u001b[38;5;34m5\u001b[0m, \u001b[38;5;34m512\u001b[0m)      │     \u001b[38;5;34m2,359,808\u001b[0m │\n",
       "├─────────────────────────────────┼────────────────────────┼───────────────┤\n",
       "│ batch_normalization_5           │ (\u001b[38;5;45mNone\u001b[0m, \u001b[38;5;34m5\u001b[0m, \u001b[38;5;34m5\u001b[0m, \u001b[38;5;34m512\u001b[0m)      │         \u001b[38;5;34m2,048\u001b[0m │\n",
       "│ (\u001b[38;5;33mBatchNormalization\u001b[0m)            │                        │               │\n",
       "├─────────────────────────────────┼────────────────────────┼───────────────┤\n",
       "│ average_pooling2d               │ (\u001b[38;5;45mNone\u001b[0m, \u001b[38;5;34m1\u001b[0m, \u001b[38;5;34m1\u001b[0m, \u001b[38;5;34m512\u001b[0m)      │             \u001b[38;5;34m0\u001b[0m │\n",
       "│ (\u001b[38;5;33mAveragePooling2D\u001b[0m)              │                        │               │\n",
       "├─────────────────────────────────┼────────────────────────┼───────────────┤\n",
       "│ dropout_2 (\u001b[38;5;33mDropout\u001b[0m)             │ (\u001b[38;5;45mNone\u001b[0m, \u001b[38;5;34m1\u001b[0m, \u001b[38;5;34m1\u001b[0m, \u001b[38;5;34m512\u001b[0m)      │             \u001b[38;5;34m0\u001b[0m │\n",
       "├─────────────────────────────────┼────────────────────────┼───────────────┤\n",
       "│ flatten (\u001b[38;5;33mFlatten\u001b[0m)               │ (\u001b[38;5;45mNone\u001b[0m, \u001b[38;5;34m512\u001b[0m)            │             \u001b[38;5;34m0\u001b[0m │\n",
       "├─────────────────────────────────┼────────────────────────┼───────────────┤\n",
       "│ batch_normalization_6           │ (\u001b[38;5;45mNone\u001b[0m, \u001b[38;5;34m512\u001b[0m)            │         \u001b[38;5;34m2,048\u001b[0m │\n",
       "│ (\u001b[38;5;33mBatchNormalization\u001b[0m)            │                        │               │\n",
       "├─────────────────────────────────┼────────────────────────┼───────────────┤\n",
       "│ dense (\u001b[38;5;33mDense\u001b[0m)                   │ (\u001b[38;5;45mNone\u001b[0m, \u001b[38;5;34m512\u001b[0m)            │       \u001b[38;5;34m262,656\u001b[0m │\n",
       "├─────────────────────────────────┼────────────────────────┼───────────────┤\n",
       "│ batch_normalization_7           │ (\u001b[38;5;45mNone\u001b[0m, \u001b[38;5;34m512\u001b[0m)            │         \u001b[38;5;34m2,048\u001b[0m │\n",
       "│ (\u001b[38;5;33mBatchNormalization\u001b[0m)            │                        │               │\n",
       "├─────────────────────────────────┼────────────────────────┼───────────────┤\n",
       "│ dropout_3 (\u001b[38;5;33mDropout\u001b[0m)             │ (\u001b[38;5;45mNone\u001b[0m, \u001b[38;5;34m512\u001b[0m)            │             \u001b[38;5;34m0\u001b[0m │\n",
       "├─────────────────────────────────┼────────────────────────┼───────────────┤\n",
       "│ dense_1 (\u001b[38;5;33mDense\u001b[0m)                 │ (\u001b[38;5;45mNone\u001b[0m, \u001b[38;5;34m100\u001b[0m)            │        \u001b[38;5;34m51,300\u001b[0m │\n",
       "└─────────────────────────────────┴────────────────────────┴───────────────┘\n"
      ]
     },
     "metadata": {},
     "output_type": "display_data"
    },
    {
     "data": {
      "text/html": [
       "<pre style=\"white-space:pre;overflow-x:auto;line-height:normal;font-family:Menlo,'DejaVu Sans Mono',consolas,'Courier New',monospace\"><span style=\"font-weight: bold\"> Total params: </span><span style=\"color: #00af00; text-decoration-color: #00af00\">4,901,604</span> (18.70 MB)\n",
       "</pre>\n"
      ],
      "text/plain": [
       "\u001b[1m Total params: \u001b[0m\u001b[38;5;34m4,901,604\u001b[0m (18.70 MB)\n"
      ]
     },
     "metadata": {},
     "output_type": "display_data"
    },
    {
     "data": {
      "text/html": [
       "<pre style=\"white-space:pre;overflow-x:auto;line-height:normal;font-family:Menlo,'DejaVu Sans Mono',consolas,'Courier New',monospace\"><span style=\"font-weight: bold\"> Trainable params: </span><span style=\"color: #00af00; text-decoration-color: #00af00\">4,895,972</span> (18.68 MB)\n",
       "</pre>\n"
      ],
      "text/plain": [
       "\u001b[1m Trainable params: \u001b[0m\u001b[38;5;34m4,895,972\u001b[0m (18.68 MB)\n"
      ]
     },
     "metadata": {},
     "output_type": "display_data"
    },
    {
     "data": {
      "text/html": [
       "<pre style=\"white-space:pre;overflow-x:auto;line-height:normal;font-family:Menlo,'DejaVu Sans Mono',consolas,'Courier New',monospace\"><span style=\"font-weight: bold\"> Non-trainable params: </span><span style=\"color: #00af00; text-decoration-color: #00af00\">5,632</span> (22.00 KB)\n",
       "</pre>\n"
      ],
      "text/plain": [
       "\u001b[1m Non-trainable params: \u001b[0m\u001b[38;5;34m5,632\u001b[0m (22.00 KB)\n"
      ]
     },
     "metadata": {},
     "output_type": "display_data"
    }
   ],
   "source": [
    "model.summary()"
   ]
  },
  {
   "cell_type": "code",
   "execution_count": 13,
   "id": "56a91db0",
   "metadata": {
    "execution": {
     "iopub.execute_input": "2024-06-30T01:57:57.190148Z",
     "iopub.status.busy": "2024-06-30T01:57:57.189862Z",
     "iopub.status.idle": "2024-06-30T01:57:57.194010Z",
     "shell.execute_reply": "2024-06-30T01:57:57.193181Z"
    },
    "papermill": {
     "duration": 0.016822,
     "end_time": "2024-06-30T01:57:57.195857",
     "exception": false,
     "start_time": "2024-06-30T01:57:57.179035",
     "status": "completed"
    },
    "tags": []
   },
   "outputs": [],
   "source": [
    "rlrop = ReduceLROnPlateau(\n",
    "    monitor = \"val_accuracy\",\n",
    "    factor = 0.3,\n",
    "    patience = 3,\n",
    "    verbose = 1,\n",
    "    min_lr = 1e-8, \n",
    ")"
   ]
  },
  {
   "cell_type": "code",
   "execution_count": 14,
   "id": "6d201c60",
   "metadata": {
    "execution": {
     "iopub.execute_input": "2024-06-30T01:57:57.217162Z",
     "iopub.status.busy": "2024-06-30T01:57:57.216894Z",
     "iopub.status.idle": "2024-06-30T01:57:57.220931Z",
     "shell.execute_reply": "2024-06-30T01:57:57.220086Z"
    },
    "papermill": {
     "duration": 0.016874,
     "end_time": "2024-06-30T01:57:57.222845",
     "exception": false,
     "start_time": "2024-06-30T01:57:57.205971",
     "status": "completed"
    },
    "tags": []
   },
   "outputs": [],
   "source": [
    "mc = ModelCheckpoint(\n",
    "    \"best.weights.h5\",\n",
    "    monitor = \"val_accuracy\",\n",
    "    verbose = 1,\n",
    "    save_best_only = True,\n",
    "    save_weights_only = True,\n",
    ")"
   ]
  },
  {
   "cell_type": "code",
   "execution_count": 15,
   "id": "8955c3bf",
   "metadata": {
    "execution": {
     "iopub.execute_input": "2024-06-30T01:57:57.243946Z",
     "iopub.status.busy": "2024-06-30T01:57:57.243672Z",
     "iopub.status.idle": "2024-06-30T01:57:57.247750Z",
     "shell.execute_reply": "2024-06-30T01:57:57.246880Z"
    },
    "papermill": {
     "duration": 0.016932,
     "end_time": "2024-06-30T01:57:57.249770",
     "exception": false,
     "start_time": "2024-06-30T01:57:57.232838",
     "status": "completed"
    },
    "tags": []
   },
   "outputs": [],
   "source": [
    "es = EarlyStopping(\n",
    "    monitor = \"val_accuracy\",\n",
    "    patience = 10, \n",
    "    verbose = 1,\n",
    "    restore_best_weights = True,\n",
    ")"
   ]
  },
  {
   "cell_type": "code",
   "execution_count": 16,
   "id": "fbb20215",
   "metadata": {
    "execution": {
     "iopub.execute_input": "2024-06-30T01:57:57.271149Z",
     "iopub.status.busy": "2024-06-30T01:57:57.270867Z",
     "iopub.status.idle": "2024-06-30T01:57:57.510459Z",
     "shell.execute_reply": "2024-06-30T01:57:57.509661Z"
    },
    "papermill": {
     "duration": 0.252955,
     "end_time": "2024-06-30T01:57:57.512790",
     "exception": false,
     "start_time": "2024-06-30T01:57:57.259835",
     "status": "completed"
    },
    "tags": []
   },
   "outputs": [],
   "source": [
    "data_val = ImageDataGenerator(validation_split = 0.2)\n",
    "\n",
    "data_train = ImageDataGenerator(\n",
    "    zoom_range = 0.2,\n",
    "    horizontal_flip = True,\n",
    "    validation_split = 0.2)\n",
    "\n",
    "train_data = data_train.flow(x_train, y_train_fine, batch_size=64, subset='training')\n",
    "val_data = data_val.flow(x_train, y_train_fine, batch_size=64, subset='validation')"
   ]
  },
  {
   "cell_type": "code",
   "execution_count": 17,
   "id": "797258da",
   "metadata": {
    "execution": {
     "iopub.execute_input": "2024-06-30T01:57:57.534758Z",
     "iopub.status.busy": "2024-06-30T01:57:57.534454Z",
     "iopub.status.idle": "2024-06-30T01:57:57.538437Z",
     "shell.execute_reply": "2024-06-30T01:57:57.537488Z"
    },
    "papermill": {
     "duration": 0.016852,
     "end_time": "2024-06-30T01:57:57.540183",
     "exception": false,
     "start_time": "2024-06-30T01:57:57.523331",
     "status": "completed"
    },
    "tags": []
   },
   "outputs": [],
   "source": [
    "tb = TensorBoard(\n",
    "    log_dir=\"logs\",\n",
    ")"
   ]
  },
  {
   "cell_type": "code",
   "execution_count": 18,
   "id": "abc9c413",
   "metadata": {
    "execution": {
     "iopub.execute_input": "2024-06-30T01:57:57.561153Z",
     "iopub.status.busy": "2024-06-30T01:57:57.560884Z",
     "iopub.status.idle": "2024-06-30T02:26:20.133418Z",
     "shell.execute_reply": "2024-06-30T02:26:20.132315Z"
    },
    "papermill": {
     "duration": 1702.585688,
     "end_time": "2024-06-30T02:26:20.135851",
     "exception": false,
     "start_time": "2024-06-30T01:57:57.550163",
     "status": "completed"
    },
    "tags": []
   },
   "outputs": [
    {
     "name": "stdout",
     "output_type": "stream",
     "text": [
      "Epoch 1/100\n"
     ]
    },
    {
     "name": "stderr",
     "output_type": "stream",
     "text": [
      "/opt/conda/lib/python3.10/site-packages/keras/src/trainers/data_adapters/py_dataset_adapter.py:120: UserWarning: Your `PyDataset` class should call `super().__init__(**kwargs)` in its constructor. `**kwargs` can include `workers`, `use_multiprocessing`, `max_queue_size`. Do not pass these arguments to `fit()`, as they will be ignored.\n",
      "  self._warn_if_super_not_called()\n"
     ]
    },
    {
     "name": "stdout",
     "output_type": "stream",
     "text": [
      "\u001b[1m  1/625\u001b[0m \u001b[37m━━━━━━━━━━━━━━━━━━━━\u001b[0m \u001b[1m3:07:06\u001b[0m 18s/step - accuracy: 0.0156 - loss: 6.2189"
     ]
    },
    {
     "name": "stderr",
     "output_type": "stream",
     "text": [
      "WARNING: All log messages before absl::InitializeLog() is called are written to STDERR\n",
      "I0000 00:00:1719712696.511122      69 device_compiler.h:186] Compiled cluster using XLA!  This line is logged at most once for the lifetime of the process.\n"
     ]
    },
    {
     "name": "stdout",
     "output_type": "stream",
     "text": [
      "\u001b[1m625/625\u001b[0m \u001b[32m━━━━━━━━━━━━━━━━━━━━\u001b[0m\u001b[37m\u001b[0m \u001b[1m0s\u001b[0m 31ms/step - accuracy: 0.0444 - loss: 4.8816\n",
      "Epoch 1: val_accuracy improved from -inf to 0.13730, saving model to best.weights.h5\n",
      "\u001b[1m625/625\u001b[0m \u001b[32m━━━━━━━━━━━━━━━━━━━━\u001b[0m\u001b[37m\u001b[0m \u001b[1m41s\u001b[0m 37ms/step - accuracy: 0.0444 - loss: 4.8810 - val_accuracy: 0.1373 - val_loss: 3.6106 - learning_rate: 0.0010\n",
      "Epoch 2/100\n",
      "\u001b[1m624/625\u001b[0m \u001b[32m━━━━━━━━━━━━━━━━━━━\u001b[0m\u001b[37m━\u001b[0m \u001b[1m0s\u001b[0m 31ms/step - accuracy: 0.1265 - loss: 3.8027\n",
      "Epoch 2: val_accuracy improved from 0.13730 to 0.16170, saving model to best.weights.h5\n",
      "\u001b[1m625/625\u001b[0m \u001b[32m━━━━━━━━━━━━━━━━━━━━\u001b[0m\u001b[37m\u001b[0m \u001b[1m21s\u001b[0m 33ms/step - accuracy: 0.1266 - loss: 3.8023 - val_accuracy: 0.1617 - val_loss: 3.8593 - learning_rate: 0.0010\n",
      "Epoch 3/100\n",
      "\u001b[1m625/625\u001b[0m \u001b[32m━━━━━━━━━━━━━━━━━━━━\u001b[0m\u001b[37m\u001b[0m \u001b[1m0s\u001b[0m 31ms/step - accuracy: 0.1953 - loss: 3.2797\n",
      "Epoch 3: val_accuracy improved from 0.16170 to 0.27520, saving model to best.weights.h5\n",
      "\u001b[1m625/625\u001b[0m \u001b[32m━━━━━━━━━━━━━━━━━━━━\u001b[0m\u001b[37m\u001b[0m \u001b[1m21s\u001b[0m 33ms/step - accuracy: 0.1954 - loss: 3.2795 - val_accuracy: 0.2752 - val_loss: 2.9378 - learning_rate: 0.0010\n",
      "Epoch 4/100\n",
      "\u001b[1m625/625\u001b[0m \u001b[32m━━━━━━━━━━━━━━━━━━━━\u001b[0m\u001b[37m\u001b[0m \u001b[1m0s\u001b[0m 31ms/step - accuracy: 0.2536 - loss: 2.9394\n",
      "Epoch 4: val_accuracy improved from 0.27520 to 0.31440, saving model to best.weights.h5\n",
      "\u001b[1m625/625\u001b[0m \u001b[32m━━━━━━━━━━━━━━━━━━━━\u001b[0m\u001b[37m\u001b[0m \u001b[1m21s\u001b[0m 33ms/step - accuracy: 0.2536 - loss: 2.9393 - val_accuracy: 0.3144 - val_loss: 2.6545 - learning_rate: 0.0010\n",
      "Epoch 5/100\n",
      "\u001b[1m625/625\u001b[0m \u001b[32m━━━━━━━━━━━━━━━━━━━━\u001b[0m\u001b[37m\u001b[0m \u001b[1m0s\u001b[0m 32ms/step - accuracy: 0.3066 - loss: 2.6997\n",
      "Epoch 5: val_accuracy did not improve from 0.31440\n",
      "\u001b[1m625/625\u001b[0m \u001b[32m━━━━━━━━━━━━━━━━━━━━\u001b[0m\u001b[37m\u001b[0m \u001b[1m21s\u001b[0m 34ms/step - accuracy: 0.3067 - loss: 2.6996 - val_accuracy: 0.3126 - val_loss: 2.7740 - learning_rate: 0.0010\n",
      "Epoch 6/100\n",
      "\u001b[1m625/625\u001b[0m \u001b[32m━━━━━━━━━━━━━━━━━━━━\u001b[0m\u001b[37m\u001b[0m \u001b[1m0s\u001b[0m 31ms/step - accuracy: 0.3422 - loss: 2.5153\n",
      "Epoch 6: val_accuracy improved from 0.31440 to 0.37250, saving model to best.weights.h5\n",
      "\u001b[1m625/625\u001b[0m \u001b[32m━━━━━━━━━━━━━━━━━━━━\u001b[0m\u001b[37m\u001b[0m \u001b[1m21s\u001b[0m 33ms/step - accuracy: 0.3422 - loss: 2.5153 - val_accuracy: 0.3725 - val_loss: 2.3825 - learning_rate: 0.0010\n",
      "Epoch 7/100\n",
      "\u001b[1m625/625\u001b[0m \u001b[32m━━━━━━━━━━━━━━━━━━━━\u001b[0m\u001b[37m\u001b[0m \u001b[1m0s\u001b[0m 31ms/step - accuracy: 0.3716 - loss: 2.3782\n",
      "Epoch 7: val_accuracy improved from 0.37250 to 0.42040, saving model to best.weights.h5\n",
      "\u001b[1m625/625\u001b[0m \u001b[32m━━━━━━━━━━━━━━━━━━━━\u001b[0m\u001b[37m\u001b[0m \u001b[1m21s\u001b[0m 33ms/step - accuracy: 0.3716 - loss: 2.3782 - val_accuracy: 0.4204 - val_loss: 2.1831 - learning_rate: 0.0010\n",
      "Epoch 8/100\n",
      "\u001b[1m624/625\u001b[0m \u001b[32m━━━━━━━━━━━━━━━━━━━\u001b[0m\u001b[37m━\u001b[0m \u001b[1m0s\u001b[0m 31ms/step - accuracy: 0.4066 - loss: 2.2292\n",
      "Epoch 8: val_accuracy improved from 0.42040 to 0.42690, saving model to best.weights.h5\n",
      "\u001b[1m625/625\u001b[0m \u001b[32m━━━━━━━━━━━━━━━━━━━━\u001b[0m\u001b[37m\u001b[0m \u001b[1m21s\u001b[0m 34ms/step - accuracy: 0.4066 - loss: 2.2292 - val_accuracy: 0.4269 - val_loss: 2.1505 - learning_rate: 0.0010\n",
      "Epoch 9/100\n",
      "\u001b[1m625/625\u001b[0m \u001b[32m━━━━━━━━━━━━━━━━━━━━\u001b[0m\u001b[37m\u001b[0m \u001b[1m0s\u001b[0m 31ms/step - accuracy: 0.4204 - loss: 2.1614\n",
      "Epoch 9: val_accuracy improved from 0.42690 to 0.46050, saving model to best.weights.h5\n",
      "\u001b[1m625/625\u001b[0m \u001b[32m━━━━━━━━━━━━━━━━━━━━\u001b[0m\u001b[37m\u001b[0m \u001b[1m21s\u001b[0m 33ms/step - accuracy: 0.4204 - loss: 2.1614 - val_accuracy: 0.4605 - val_loss: 2.0073 - learning_rate: 0.0010\n",
      "Epoch 10/100\n",
      "\u001b[1m625/625\u001b[0m \u001b[32m━━━━━━━━━━━━━━━━━━━━\u001b[0m\u001b[37m\u001b[0m \u001b[1m0s\u001b[0m 31ms/step - accuracy: 0.4424 - loss: 2.0690\n",
      "Epoch 10: val_accuracy did not improve from 0.46050\n",
      "\u001b[1m625/625\u001b[0m \u001b[32m━━━━━━━━━━━━━━━━━━━━\u001b[0m\u001b[37m\u001b[0m \u001b[1m21s\u001b[0m 33ms/step - accuracy: 0.4424 - loss: 2.0690 - val_accuracy: 0.4342 - val_loss: 2.1777 - learning_rate: 0.0010\n",
      "Epoch 11/100\n",
      "\u001b[1m625/625\u001b[0m \u001b[32m━━━━━━━━━━━━━━━━━━━━\u001b[0m\u001b[37m\u001b[0m \u001b[1m0s\u001b[0m 31ms/step - accuracy: 0.4531 - loss: 2.0028\n",
      "Epoch 11: val_accuracy improved from 0.46050 to 0.49900, saving model to best.weights.h5\n",
      "\u001b[1m625/625\u001b[0m \u001b[32m━━━━━━━━━━━━━━━━━━━━\u001b[0m\u001b[37m\u001b[0m \u001b[1m21s\u001b[0m 34ms/step - accuracy: 0.4531 - loss: 2.0028 - val_accuracy: 0.4990 - val_loss: 1.8051 - learning_rate: 0.0010\n",
      "Epoch 12/100\n",
      "\u001b[1m625/625\u001b[0m \u001b[32m━━━━━━━━━━━━━━━━━━━━\u001b[0m\u001b[37m\u001b[0m \u001b[1m0s\u001b[0m 31ms/step - accuracy: 0.4682 - loss: 1.9484\n",
      "Epoch 12: val_accuracy did not improve from 0.49900\n",
      "\u001b[1m625/625\u001b[0m \u001b[32m━━━━━━━━━━━━━━━━━━━━\u001b[0m\u001b[37m\u001b[0m \u001b[1m21s\u001b[0m 33ms/step - accuracy: 0.4682 - loss: 1.9484 - val_accuracy: 0.4822 - val_loss: 1.8757 - learning_rate: 0.0010\n",
      "Epoch 13/100\n",
      "\u001b[1m624/625\u001b[0m \u001b[32m━━━━━━━━━━━━━━━━━━━\u001b[0m\u001b[37m━\u001b[0m \u001b[1m0s\u001b[0m 31ms/step - accuracy: 0.4809 - loss: 1.8956\n",
      "Epoch 13: val_accuracy did not improve from 0.49900\n",
      "\u001b[1m625/625\u001b[0m \u001b[32m━━━━━━━━━━━━━━━━━━━━\u001b[0m\u001b[37m\u001b[0m \u001b[1m21s\u001b[0m 33ms/step - accuracy: 0.4809 - loss: 1.8956 - val_accuracy: 0.4914 - val_loss: 1.8802 - learning_rate: 0.0010\n",
      "Epoch 14/100\n",
      "\u001b[1m625/625\u001b[0m \u001b[32m━━━━━━━━━━━━━━━━━━━━\u001b[0m\u001b[37m\u001b[0m \u001b[1m0s\u001b[0m 32ms/step - accuracy: 0.4997 - loss: 1.8128\n",
      "Epoch 14: val_accuracy improved from 0.49900 to 0.52960, saving model to best.weights.h5\n",
      "\u001b[1m625/625\u001b[0m \u001b[32m━━━━━━━━━━━━━━━━━━━━\u001b[0m\u001b[37m\u001b[0m \u001b[1m22s\u001b[0m 34ms/step - accuracy: 0.4997 - loss: 1.8128 - val_accuracy: 0.5296 - val_loss: 1.7115 - learning_rate: 0.0010\n",
      "Epoch 15/100\n",
      "\u001b[1m625/625\u001b[0m \u001b[32m━━━━━━━━━━━━━━━━━━━━\u001b[0m\u001b[37m\u001b[0m \u001b[1m0s\u001b[0m 31ms/step - accuracy: 0.5037 - loss: 1.7974\n",
      "Epoch 15: val_accuracy did not improve from 0.52960\n",
      "\u001b[1m625/625\u001b[0m \u001b[32m━━━━━━━━━━━━━━━━━━━━\u001b[0m\u001b[37m\u001b[0m \u001b[1m21s\u001b[0m 33ms/step - accuracy: 0.5037 - loss: 1.7974 - val_accuracy: 0.5235 - val_loss: 1.7344 - learning_rate: 0.0010\n",
      "Epoch 16/100\n",
      "\u001b[1m625/625\u001b[0m \u001b[32m━━━━━━━━━━━━━━━━━━━━\u001b[0m\u001b[37m\u001b[0m \u001b[1m0s\u001b[0m 32ms/step - accuracy: 0.5199 - loss: 1.7382\n",
      "Epoch 16: val_accuracy improved from 0.52960 to 0.54570, saving model to best.weights.h5\n",
      "\u001b[1m625/625\u001b[0m \u001b[32m━━━━━━━━━━━━━━━━━━━━\u001b[0m\u001b[37m\u001b[0m \u001b[1m21s\u001b[0m 34ms/step - accuracy: 0.5199 - loss: 1.7382 - val_accuracy: 0.5457 - val_loss: 1.6531 - learning_rate: 0.0010\n",
      "Epoch 17/100\n",
      "\u001b[1m625/625\u001b[0m \u001b[32m━━━━━━━━━━━━━━━━━━━━\u001b[0m\u001b[37m\u001b[0m \u001b[1m0s\u001b[0m 32ms/step - accuracy: 0.5224 - loss: 1.7131\n",
      "Epoch 17: val_accuracy improved from 0.54570 to 0.55740, saving model to best.weights.h5\n",
      "\u001b[1m625/625\u001b[0m \u001b[32m━━━━━━━━━━━━━━━━━━━━\u001b[0m\u001b[37m\u001b[0m \u001b[1m21s\u001b[0m 34ms/step - accuracy: 0.5224 - loss: 1.7131 - val_accuracy: 0.5574 - val_loss: 1.5684 - learning_rate: 0.0010\n",
      "Epoch 18/100\n",
      "\u001b[1m625/625\u001b[0m \u001b[32m━━━━━━━━━━━━━━━━━━━━\u001b[0m\u001b[37m\u001b[0m \u001b[1m0s\u001b[0m 32ms/step - accuracy: 0.5336 - loss: 1.6765\n",
      "Epoch 18: val_accuracy did not improve from 0.55740\n",
      "\u001b[1m625/625\u001b[0m \u001b[32m━━━━━━━━━━━━━━━━━━━━\u001b[0m\u001b[37m\u001b[0m \u001b[1m21s\u001b[0m 34ms/step - accuracy: 0.5336 - loss: 1.6765 - val_accuracy: 0.5427 - val_loss: 1.6523 - learning_rate: 0.0010\n",
      "Epoch 19/100\n",
      "\u001b[1m624/625\u001b[0m \u001b[32m━━━━━━━━━━━━━━━━━━━\u001b[0m\u001b[37m━\u001b[0m \u001b[1m0s\u001b[0m 31ms/step - accuracy: 0.5441 - loss: 1.6238\n",
      "Epoch 19: val_accuracy did not improve from 0.55740\n",
      "\u001b[1m625/625\u001b[0m \u001b[32m━━━━━━━━━━━━━━━━━━━━\u001b[0m\u001b[37m\u001b[0m \u001b[1m21s\u001b[0m 33ms/step - accuracy: 0.5441 - loss: 1.6239 - val_accuracy: 0.5485 - val_loss: 1.6566 - learning_rate: 0.0010\n",
      "Epoch 20/100\n",
      "\u001b[1m624/625\u001b[0m \u001b[32m━━━━━━━━━━━━━━━━━━━\u001b[0m\u001b[37m━\u001b[0m \u001b[1m0s\u001b[0m 32ms/step - accuracy: 0.5503 - loss: 1.5904\n",
      "Epoch 20: val_accuracy improved from 0.55740 to 0.56480, saving model to best.weights.h5\n",
      "\u001b[1m625/625\u001b[0m \u001b[32m━━━━━━━━━━━━━━━━━━━━\u001b[0m\u001b[37m\u001b[0m \u001b[1m21s\u001b[0m 34ms/step - accuracy: 0.5503 - loss: 1.5904 - val_accuracy: 0.5648 - val_loss: 1.5611 - learning_rate: 0.0010\n",
      "Epoch 21/100\n",
      "\u001b[1m624/625\u001b[0m \u001b[32m━━━━━━━━━━━━━━━━━━━\u001b[0m\u001b[37m━\u001b[0m \u001b[1m0s\u001b[0m 32ms/step - accuracy: 0.5593 - loss: 1.5614\n",
      "Epoch 21: val_accuracy improved from 0.56480 to 0.57450, saving model to best.weights.h5\n",
      "\u001b[1m625/625\u001b[0m \u001b[32m━━━━━━━━━━━━━━━━━━━━\u001b[0m\u001b[37m\u001b[0m \u001b[1m21s\u001b[0m 34ms/step - accuracy: 0.5593 - loss: 1.5615 - val_accuracy: 0.5745 - val_loss: 1.5095 - learning_rate: 0.0010\n",
      "Epoch 22/100\n",
      "\u001b[1m624/625\u001b[0m \u001b[32m━━━━━━━━━━━━━━━━━━━\u001b[0m\u001b[37m━\u001b[0m \u001b[1m0s\u001b[0m 32ms/step - accuracy: 0.5636 - loss: 1.5452\n",
      "Epoch 22: val_accuracy did not improve from 0.57450\n",
      "\u001b[1m625/625\u001b[0m \u001b[32m━━━━━━━━━━━━━━━━━━━━\u001b[0m\u001b[37m\u001b[0m \u001b[1m21s\u001b[0m 33ms/step - accuracy: 0.5636 - loss: 1.5452 - val_accuracy: 0.5517 - val_loss: 1.6413 - learning_rate: 0.0010\n",
      "Epoch 23/100\n",
      "\u001b[1m624/625\u001b[0m \u001b[32m━━━━━━━━━━━━━━━━━━━\u001b[0m\u001b[37m━\u001b[0m \u001b[1m0s\u001b[0m 32ms/step - accuracy: 0.5703 - loss: 1.5148\n",
      "Epoch 23: val_accuracy did not improve from 0.57450\n",
      "\u001b[1m625/625\u001b[0m \u001b[32m━━━━━━━━━━━━━━━━━━━━\u001b[0m\u001b[37m\u001b[0m \u001b[1m21s\u001b[0m 34ms/step - accuracy: 0.5703 - loss: 1.5149 - val_accuracy: 0.5508 - val_loss: 1.6625 - learning_rate: 0.0010\n",
      "Epoch 24/100\n",
      "\u001b[1m625/625\u001b[0m \u001b[32m━━━━━━━━━━━━━━━━━━━━\u001b[0m\u001b[37m\u001b[0m \u001b[1m0s\u001b[0m 32ms/step - accuracy: 0.5763 - loss: 1.4837\n",
      "Epoch 24: ReduceLROnPlateau reducing learning rate to 0.0003000000142492354.\n",
      "\n",
      "Epoch 24: val_accuracy did not improve from 0.57450\n",
      "\u001b[1m625/625\u001b[0m \u001b[32m━━━━━━━━━━━━━━━━━━━━\u001b[0m\u001b[37m\u001b[0m \u001b[1m21s\u001b[0m 34ms/step - accuracy: 0.5763 - loss: 1.4837 - val_accuracy: 0.5743 - val_loss: 1.5336 - learning_rate: 0.0010\n",
      "Epoch 25/100\n",
      "\u001b[1m624/625\u001b[0m \u001b[32m━━━━━━━━━━━━━━━━━━━\u001b[0m\u001b[37m━\u001b[0m \u001b[1m0s\u001b[0m 33ms/step - accuracy: 0.6039 - loss: 1.3790\n",
      "Epoch 25: val_accuracy improved from 0.57450 to 0.61700, saving model to best.weights.h5\n",
      "\u001b[1m625/625\u001b[0m \u001b[32m━━━━━━━━━━━━━━━━━━━━\u001b[0m\u001b[37m\u001b[0m \u001b[1m22s\u001b[0m 35ms/step - accuracy: 0.6039 - loss: 1.3789 - val_accuracy: 0.6170 - val_loss: 1.3414 - learning_rate: 3.0000e-04\n",
      "Epoch 26/100\n",
      "\u001b[1m624/625\u001b[0m \u001b[32m━━━━━━━━━━━━━━━━━━━\u001b[0m\u001b[37m━\u001b[0m \u001b[1m0s\u001b[0m 33ms/step - accuracy: 0.6250 - loss: 1.2963\n",
      "Epoch 26: val_accuracy improved from 0.61700 to 0.62460, saving model to best.weights.h5\n",
      "\u001b[1m625/625\u001b[0m \u001b[32m━━━━━━━━━━━━━━━━━━━━\u001b[0m\u001b[37m\u001b[0m \u001b[1m22s\u001b[0m 35ms/step - accuracy: 0.6250 - loss: 1.2963 - val_accuracy: 0.6246 - val_loss: 1.3050 - learning_rate: 3.0000e-04\n",
      "Epoch 27/100\n",
      "\u001b[1m625/625\u001b[0m \u001b[32m━━━━━━━━━━━━━━━━━━━━\u001b[0m\u001b[37m\u001b[0m \u001b[1m0s\u001b[0m 33ms/step - accuracy: 0.6319 - loss: 1.2620\n",
      "Epoch 27: val_accuracy improved from 0.62460 to 0.62780, saving model to best.weights.h5\n",
      "\u001b[1m625/625\u001b[0m \u001b[32m━━━━━━━━━━━━━━━━━━━━\u001b[0m\u001b[37m\u001b[0m \u001b[1m22s\u001b[0m 35ms/step - accuracy: 0.6319 - loss: 1.2620 - val_accuracy: 0.6278 - val_loss: 1.3082 - learning_rate: 3.0000e-04\n",
      "Epoch 28/100\n",
      "\u001b[1m624/625\u001b[0m \u001b[32m━━━━━━━━━━━━━━━━━━━\u001b[0m\u001b[37m━\u001b[0m \u001b[1m0s\u001b[0m 33ms/step - accuracy: 0.6447 - loss: 1.2271\n",
      "Epoch 28: val_accuracy improved from 0.62780 to 0.63140, saving model to best.weights.h5\n",
      "\u001b[1m625/625\u001b[0m \u001b[32m━━━━━━━━━━━━━━━━━━━━\u001b[0m\u001b[37m\u001b[0m \u001b[1m22s\u001b[0m 35ms/step - accuracy: 0.6447 - loss: 1.2272 - val_accuracy: 0.6314 - val_loss: 1.2895 - learning_rate: 3.0000e-04\n",
      "Epoch 29/100\n",
      "\u001b[1m625/625\u001b[0m \u001b[32m━━━━━━━━━━━━━━━━━━━━\u001b[0m\u001b[37m\u001b[0m \u001b[1m0s\u001b[0m 33ms/step - accuracy: 0.6428 - loss: 1.2234\n",
      "Epoch 29: val_accuracy did not improve from 0.63140\n",
      "\u001b[1m625/625\u001b[0m \u001b[32m━━━━━━━━━━━━━━━━━━━━\u001b[0m\u001b[37m\u001b[0m \u001b[1m22s\u001b[0m 35ms/step - accuracy: 0.6428 - loss: 1.2234 - val_accuracy: 0.6283 - val_loss: 1.3001 - learning_rate: 3.0000e-04\n",
      "Epoch 30/100\n",
      "\u001b[1m625/625\u001b[0m \u001b[32m━━━━━━━━━━━━━━━━━━━━\u001b[0m\u001b[37m\u001b[0m \u001b[1m0s\u001b[0m 33ms/step - accuracy: 0.6480 - loss: 1.2072\n",
      "Epoch 30: val_accuracy improved from 0.63140 to 0.63150, saving model to best.weights.h5\n",
      "\u001b[1m625/625\u001b[0m \u001b[32m━━━━━━━━━━━━━━━━━━━━\u001b[0m\u001b[37m\u001b[0m \u001b[1m22s\u001b[0m 35ms/step - accuracy: 0.6480 - loss: 1.2072 - val_accuracy: 0.6315 - val_loss: 1.2763 - learning_rate: 3.0000e-04\n",
      "Epoch 31/100\n",
      "\u001b[1m625/625\u001b[0m \u001b[32m━━━━━━━━━━━━━━━━━━━━\u001b[0m\u001b[37m\u001b[0m \u001b[1m0s\u001b[0m 33ms/step - accuracy: 0.6495 - loss: 1.2073\n",
      "Epoch 31: val_accuracy improved from 0.63150 to 0.63330, saving model to best.weights.h5\n",
      "\u001b[1m625/625\u001b[0m \u001b[32m━━━━━━━━━━━━━━━━━━━━\u001b[0m\u001b[37m\u001b[0m \u001b[1m22s\u001b[0m 35ms/step - accuracy: 0.6495 - loss: 1.2073 - val_accuracy: 0.6333 - val_loss: 1.2698 - learning_rate: 3.0000e-04\n",
      "Epoch 32/100\n",
      "\u001b[1m624/625\u001b[0m \u001b[32m━━━━━━━━━━━━━━━━━━━\u001b[0m\u001b[37m━\u001b[0m \u001b[1m0s\u001b[0m 33ms/step - accuracy: 0.6559 - loss: 1.1747\n",
      "Epoch 32: val_accuracy improved from 0.63330 to 0.64190, saving model to best.weights.h5\n",
      "\u001b[1m625/625\u001b[0m \u001b[32m━━━━━━━━━━━━━━━━━━━━\u001b[0m\u001b[37m\u001b[0m \u001b[1m22s\u001b[0m 35ms/step - accuracy: 0.6559 - loss: 1.1747 - val_accuracy: 0.6419 - val_loss: 1.2587 - learning_rate: 3.0000e-04\n",
      "Epoch 33/100\n",
      "\u001b[1m624/625\u001b[0m \u001b[32m━━━━━━━━━━━━━━━━━━━\u001b[0m\u001b[37m━\u001b[0m \u001b[1m0s\u001b[0m 32ms/step - accuracy: 0.6565 - loss: 1.1679\n",
      "Epoch 33: val_accuracy did not improve from 0.64190\n",
      "\u001b[1m625/625\u001b[0m \u001b[32m━━━━━━━━━━━━━━━━━━━━\u001b[0m\u001b[37m\u001b[0m \u001b[1m22s\u001b[0m 34ms/step - accuracy: 0.6565 - loss: 1.1679 - val_accuracy: 0.6383 - val_loss: 1.2565 - learning_rate: 3.0000e-04\n",
      "Epoch 34/100\n",
      "\u001b[1m624/625\u001b[0m \u001b[32m━━━━━━━━━━━━━━━━━━━\u001b[0m\u001b[37m━\u001b[0m \u001b[1m0s\u001b[0m 33ms/step - accuracy: 0.6589 - loss: 1.1524\n",
      "Epoch 34: val_accuracy did not improve from 0.64190\n",
      "\u001b[1m625/625\u001b[0m \u001b[32m━━━━━━━━━━━━━━━━━━━━\u001b[0m\u001b[37m\u001b[0m \u001b[1m22s\u001b[0m 35ms/step - accuracy: 0.6590 - loss: 1.1524 - val_accuracy: 0.6365 - val_loss: 1.2726 - learning_rate: 3.0000e-04\n",
      "Epoch 35/100\n",
      "\u001b[1m625/625\u001b[0m \u001b[32m━━━━━━━━━━━━━━━━━━━━\u001b[0m\u001b[37m\u001b[0m \u001b[1m0s\u001b[0m 33ms/step - accuracy: 0.6665 - loss: 1.1292\n",
      "Epoch 35: val_accuracy improved from 0.64190 to 0.64570, saving model to best.weights.h5\n",
      "\u001b[1m625/625\u001b[0m \u001b[32m━━━━━━━━━━━━━━━━━━━━\u001b[0m\u001b[37m\u001b[0m \u001b[1m22s\u001b[0m 36ms/step - accuracy: 0.6664 - loss: 1.1292 - val_accuracy: 0.6457 - val_loss: 1.2333 - learning_rate: 3.0000e-04\n",
      "Epoch 36/100\n",
      "\u001b[1m624/625\u001b[0m \u001b[32m━━━━━━━━━━━━━━━━━━━\u001b[0m\u001b[37m━\u001b[0m \u001b[1m0s\u001b[0m 33ms/step - accuracy: 0.6665 - loss: 1.1279\n",
      "Epoch 36: val_accuracy did not improve from 0.64570\n",
      "\u001b[1m625/625\u001b[0m \u001b[32m━━━━━━━━━━━━━━━━━━━━\u001b[0m\u001b[37m\u001b[0m \u001b[1m22s\u001b[0m 35ms/step - accuracy: 0.6665 - loss: 1.1279 - val_accuracy: 0.6421 - val_loss: 1.2497 - learning_rate: 3.0000e-04\n",
      "Epoch 37/100\n",
      "\u001b[1m625/625\u001b[0m \u001b[32m━━━━━━━━━━━━━━━━━━━━\u001b[0m\u001b[37m\u001b[0m \u001b[1m0s\u001b[0m 33ms/step - accuracy: 0.6734 - loss: 1.1063\n",
      "Epoch 37: val_accuracy did not improve from 0.64570\n",
      "\u001b[1m625/625\u001b[0m \u001b[32m━━━━━━━━━━━━━━━━━━━━\u001b[0m\u001b[37m\u001b[0m \u001b[1m41s\u001b[0m 35ms/step - accuracy: 0.6734 - loss: 1.1063 - val_accuracy: 0.6388 - val_loss: 1.2700 - learning_rate: 3.0000e-04\n",
      "Epoch 38/100\n",
      "\u001b[1m624/625\u001b[0m \u001b[32m━━━━━━━━━━━━━━━━━━━\u001b[0m\u001b[37m━\u001b[0m \u001b[1m0s\u001b[0m 33ms/step - accuracy: 0.6762 - loss: 1.0967\n",
      "Epoch 38: ReduceLROnPlateau reducing learning rate to 9.000000427477062e-05.\n",
      "\n",
      "Epoch 38: val_accuracy did not improve from 0.64570\n",
      "\u001b[1m625/625\u001b[0m \u001b[32m━━━━━━━━━━━━━━━━━━━━\u001b[0m\u001b[37m\u001b[0m \u001b[1m22s\u001b[0m 35ms/step - accuracy: 0.6762 - loss: 1.0967 - val_accuracy: 0.6452 - val_loss: 1.2376 - learning_rate: 3.0000e-04\n",
      "Epoch 39/100\n",
      "\u001b[1m624/625\u001b[0m \u001b[32m━━━━━━━━━━━━━━━━━━━\u001b[0m\u001b[37m━\u001b[0m \u001b[1m0s\u001b[0m 33ms/step - accuracy: 0.6843 - loss: 1.0524\n",
      "Epoch 39: val_accuracy improved from 0.64570 to 0.65820, saving model to best.weights.h5\n",
      "\u001b[1m625/625\u001b[0m \u001b[32m━━━━━━━━━━━━━━━━━━━━\u001b[0m\u001b[37m\u001b[0m \u001b[1m23s\u001b[0m 36ms/step - accuracy: 0.6843 - loss: 1.0524 - val_accuracy: 0.6582 - val_loss: 1.2055 - learning_rate: 9.0000e-05\n",
      "Epoch 40/100\n",
      "\u001b[1m625/625\u001b[0m \u001b[32m━━━━━━━━━━━━━━━━━━━━\u001b[0m\u001b[37m\u001b[0m \u001b[1m0s\u001b[0m 33ms/step - accuracy: 0.6985 - loss: 1.0197\n",
      "Epoch 40: val_accuracy did not improve from 0.65820\n",
      "\u001b[1m625/625\u001b[0m \u001b[32m━━━━━━━━━━━━━━━━━━━━\u001b[0m\u001b[37m\u001b[0m \u001b[1m22s\u001b[0m 35ms/step - accuracy: 0.6985 - loss: 1.0197 - val_accuracy: 0.6570 - val_loss: 1.2039 - learning_rate: 9.0000e-05\n",
      "Epoch 41/100\n",
      "\u001b[1m625/625\u001b[0m \u001b[32m━━━━━━━━━━━━━━━━━━━━\u001b[0m\u001b[37m\u001b[0m \u001b[1m0s\u001b[0m 33ms/step - accuracy: 0.6982 - loss: 1.0189\n",
      "Epoch 41: val_accuracy did not improve from 0.65820\n",
      "\u001b[1m625/625\u001b[0m \u001b[32m━━━━━━━━━━━━━━━━━━━━\u001b[0m\u001b[37m\u001b[0m \u001b[1m22s\u001b[0m 35ms/step - accuracy: 0.6982 - loss: 1.0189 - val_accuracy: 0.6528 - val_loss: 1.2081 - learning_rate: 9.0000e-05\n",
      "Epoch 42/100\n",
      "\u001b[1m625/625\u001b[0m \u001b[32m━━━━━━━━━━━━━━━━━━━━\u001b[0m\u001b[37m\u001b[0m \u001b[1m0s\u001b[0m 32ms/step - accuracy: 0.7027 - loss: 1.0019\n",
      "Epoch 42: val_accuracy improved from 0.65820 to 0.65940, saving model to best.weights.h5\n",
      "\u001b[1m625/625\u001b[0m \u001b[32m━━━━━━━━━━━━━━━━━━━━\u001b[0m\u001b[37m\u001b[0m \u001b[1m22s\u001b[0m 35ms/step - accuracy: 0.7027 - loss: 1.0019 - val_accuracy: 0.6594 - val_loss: 1.1876 - learning_rate: 9.0000e-05\n",
      "Epoch 43/100\n",
      "\u001b[1m625/625\u001b[0m \u001b[32m━━━━━━━━━━━━━━━━━━━━\u001b[0m\u001b[37m\u001b[0m \u001b[1m0s\u001b[0m 32ms/step - accuracy: 0.7005 - loss: 0.9982\n",
      "Epoch 43: val_accuracy improved from 0.65940 to 0.66250, saving model to best.weights.h5\n",
      "\u001b[1m625/625\u001b[0m \u001b[32m━━━━━━━━━━━━━━━━━━━━\u001b[0m\u001b[37m\u001b[0m \u001b[1m22s\u001b[0m 34ms/step - accuracy: 0.7005 - loss: 0.9983 - val_accuracy: 0.6625 - val_loss: 1.1829 - learning_rate: 9.0000e-05\n",
      "Epoch 44/100\n",
      "\u001b[1m624/625\u001b[0m \u001b[32m━━━━━━━━━━━━━━━━━━━\u001b[0m\u001b[37m━\u001b[0m \u001b[1m0s\u001b[0m 33ms/step - accuracy: 0.7006 - loss: 1.0036\n",
      "Epoch 44: val_accuracy did not improve from 0.66250\n",
      "\u001b[1m625/625\u001b[0m \u001b[32m━━━━━━━━━━━━━━━━━━━━\u001b[0m\u001b[37m\u001b[0m \u001b[1m22s\u001b[0m 35ms/step - accuracy: 0.7006 - loss: 1.0036 - val_accuracy: 0.6551 - val_loss: 1.2050 - learning_rate: 9.0000e-05\n",
      "Epoch 45/100\n",
      "\u001b[1m624/625\u001b[0m \u001b[32m━━━━━━━━━━━━━━━━━━━\u001b[0m\u001b[37m━\u001b[0m \u001b[1m0s\u001b[0m 35ms/step - accuracy: 0.7027 - loss: 0.9982\n",
      "Epoch 45: val_accuracy did not improve from 0.66250\n",
      "\u001b[1m625/625\u001b[0m \u001b[32m━━━━━━━━━━━━━━━━━━━━\u001b[0m\u001b[37m\u001b[0m \u001b[1m23s\u001b[0m 37ms/step - accuracy: 0.7027 - loss: 0.9983 - val_accuracy: 0.6609 - val_loss: 1.1849 - learning_rate: 9.0000e-05\n",
      "Epoch 46/100\n",
      "\u001b[1m624/625\u001b[0m \u001b[32m━━━━━━━━━━━━━━━━━━━\u001b[0m\u001b[37m━\u001b[0m \u001b[1m0s\u001b[0m 34ms/step - accuracy: 0.7008 - loss: 0.9963\n",
      "Epoch 46: ReduceLROnPlateau reducing learning rate to 2.700000040931627e-05.\n",
      "\n",
      "Epoch 46: val_accuracy did not improve from 0.66250\n",
      "\u001b[1m625/625\u001b[0m \u001b[32m━━━━━━━━━━━━━━━━━━━━\u001b[0m\u001b[37m\u001b[0m \u001b[1m23s\u001b[0m 36ms/step - accuracy: 0.7008 - loss: 0.9963 - val_accuracy: 0.6587 - val_loss: 1.1931 - learning_rate: 9.0000e-05\n",
      "Epoch 47/100\n",
      "\u001b[1m624/625\u001b[0m \u001b[32m━━━━━━━━━━━━━━━━━━━\u001b[0m\u001b[37m━\u001b[0m \u001b[1m0s\u001b[0m 34ms/step - accuracy: 0.7096 - loss: 0.9671\n",
      "Epoch 47: val_accuracy did not improve from 0.66250\n",
      "\u001b[1m625/625\u001b[0m \u001b[32m━━━━━━━━━━━━━━━━━━━━\u001b[0m\u001b[37m\u001b[0m \u001b[1m22s\u001b[0m 36ms/step - accuracy: 0.7096 - loss: 0.9671 - val_accuracy: 0.6590 - val_loss: 1.1801 - learning_rate: 2.7000e-05\n",
      "Epoch 48/100\n",
      "\u001b[1m624/625\u001b[0m \u001b[32m━━━━━━━━━━━━━━━━━━━\u001b[0m\u001b[37m━\u001b[0m \u001b[1m0s\u001b[0m 34ms/step - accuracy: 0.7092 - loss: 0.9658\n",
      "Epoch 48: val_accuracy did not improve from 0.66250\n",
      "\u001b[1m625/625\u001b[0m \u001b[32m━━━━━━━━━━━━━━━━━━━━\u001b[0m\u001b[37m\u001b[0m \u001b[1m23s\u001b[0m 36ms/step - accuracy: 0.7092 - loss: 0.9658 - val_accuracy: 0.6611 - val_loss: 1.1790 - learning_rate: 2.7000e-05\n",
      "Epoch 49/100\n",
      "\u001b[1m624/625\u001b[0m \u001b[32m━━━━━━━━━━━━━━━━━━━\u001b[0m\u001b[37m━\u001b[0m \u001b[1m0s\u001b[0m 34ms/step - accuracy: 0.7086 - loss: 0.9668\n",
      "Epoch 49: val_accuracy improved from 0.66250 to 0.66330, saving model to best.weights.h5\n",
      "\u001b[1m625/625\u001b[0m \u001b[32m━━━━━━━━━━━━━━━━━━━━\u001b[0m\u001b[37m\u001b[0m \u001b[1m23s\u001b[0m 37ms/step - accuracy: 0.7086 - loss: 0.9668 - val_accuracy: 0.6633 - val_loss: 1.1759 - learning_rate: 2.7000e-05\n",
      "Epoch 50/100\n",
      "\u001b[1m625/625\u001b[0m \u001b[32m━━━━━━━━━━━━━━━━━━━━\u001b[0m\u001b[37m\u001b[0m \u001b[1m0s\u001b[0m 33ms/step - accuracy: 0.7068 - loss: 0.9734\n",
      "Epoch 50: val_accuracy did not improve from 0.66330\n",
      "\u001b[1m625/625\u001b[0m \u001b[32m━━━━━━━━━━━━━━━━━━━━\u001b[0m\u001b[37m\u001b[0m \u001b[1m22s\u001b[0m 35ms/step - accuracy: 0.7068 - loss: 0.9734 - val_accuracy: 0.6615 - val_loss: 1.1766 - learning_rate: 2.7000e-05\n",
      "Epoch 51/100\n",
      "\u001b[1m625/625\u001b[0m \u001b[32m━━━━━━━━━━━━━━━━━━━━\u001b[0m\u001b[37m\u001b[0m \u001b[1m0s\u001b[0m 33ms/step - accuracy: 0.7147 - loss: 0.9530\n",
      "Epoch 51: val_accuracy did not improve from 0.66330\n",
      "\u001b[1m625/625\u001b[0m \u001b[32m━━━━━━━━━━━━━━━━━━━━\u001b[0m\u001b[37m\u001b[0m \u001b[1m22s\u001b[0m 35ms/step - accuracy: 0.7147 - loss: 0.9530 - val_accuracy: 0.6601 - val_loss: 1.1821 - learning_rate: 2.7000e-05\n",
      "Epoch 52/100\n",
      "\u001b[1m625/625\u001b[0m \u001b[32m━━━━━━━━━━━━━━━━━━━━\u001b[0m\u001b[37m\u001b[0m \u001b[1m0s\u001b[0m 33ms/step - accuracy: 0.7084 - loss: 0.9677\n",
      "Epoch 52: ReduceLROnPlateau reducing learning rate to 8.100000013655517e-06.\n",
      "\n",
      "Epoch 52: val_accuracy did not improve from 0.66330\n",
      "\u001b[1m625/625\u001b[0m \u001b[32m━━━━━━━━━━━━━━━━━━━━\u001b[0m\u001b[37m\u001b[0m \u001b[1m22s\u001b[0m 35ms/step - accuracy: 0.7084 - loss: 0.9677 - val_accuracy: 0.6621 - val_loss: 1.1713 - learning_rate: 2.7000e-05\n",
      "Epoch 53/100\n",
      "\u001b[1m625/625\u001b[0m \u001b[32m━━━━━━━━━━━━━━━━━━━━\u001b[0m\u001b[37m\u001b[0m \u001b[1m0s\u001b[0m 33ms/step - accuracy: 0.7083 - loss: 0.9667\n",
      "Epoch 53: val_accuracy did not improve from 0.66330\n",
      "\u001b[1m625/625\u001b[0m \u001b[32m━━━━━━━━━━━━━━━━━━━━\u001b[0m\u001b[37m\u001b[0m \u001b[1m22s\u001b[0m 35ms/step - accuracy: 0.7083 - loss: 0.9667 - val_accuracy: 0.6619 - val_loss: 1.1750 - learning_rate: 8.1000e-06\n",
      "Epoch 54/100\n",
      "\u001b[1m625/625\u001b[0m \u001b[32m━━━━━━━━━━━━━━━━━━━━\u001b[0m\u001b[37m\u001b[0m \u001b[1m0s\u001b[0m 33ms/step - accuracy: 0.7143 - loss: 0.9516\n",
      "Epoch 54: val_accuracy did not improve from 0.66330\n",
      "\u001b[1m625/625\u001b[0m \u001b[32m━━━━━━━━━━━━━━━━━━━━\u001b[0m\u001b[37m\u001b[0m \u001b[1m22s\u001b[0m 35ms/step - accuracy: 0.7143 - loss: 0.9516 - val_accuracy: 0.6610 - val_loss: 1.1783 - learning_rate: 8.1000e-06\n",
      "Epoch 55/100\n",
      "\u001b[1m624/625\u001b[0m \u001b[32m━━━━━━━━━━━━━━━━━━━\u001b[0m\u001b[37m━\u001b[0m \u001b[1m0s\u001b[0m 33ms/step - accuracy: 0.7117 - loss: 0.9561\n",
      "Epoch 55: ReduceLROnPlateau reducing learning rate to 2.429999949526973e-06.\n",
      "\n",
      "Epoch 55: val_accuracy did not improve from 0.66330\n",
      "\u001b[1m625/625\u001b[0m \u001b[32m━━━━━━━━━━━━━━━━━━━━\u001b[0m\u001b[37m\u001b[0m \u001b[1m22s\u001b[0m 35ms/step - accuracy: 0.7117 - loss: 0.9561 - val_accuracy: 0.6619 - val_loss: 1.1757 - learning_rate: 8.1000e-06\n",
      "Epoch 56/100\n",
      "\u001b[1m625/625\u001b[0m \u001b[32m━━━━━━━━━━━━━━━━━━━━\u001b[0m\u001b[37m\u001b[0m \u001b[1m0s\u001b[0m 33ms/step - accuracy: 0.7132 - loss: 0.9521\n",
      "Epoch 56: val_accuracy did not improve from 0.66330\n",
      "\u001b[1m625/625\u001b[0m \u001b[32m━━━━━━━━━━━━━━━━━━━━\u001b[0m\u001b[37m\u001b[0m \u001b[1m22s\u001b[0m 35ms/step - accuracy: 0.7132 - loss: 0.9521 - val_accuracy: 0.6628 - val_loss: 1.1722 - learning_rate: 2.4300e-06\n",
      "Epoch 57/100\n",
      "\u001b[1m625/625\u001b[0m \u001b[32m━━━━━━━━━━━━━━━━━━━━\u001b[0m\u001b[37m\u001b[0m \u001b[1m0s\u001b[0m 32ms/step - accuracy: 0.7137 - loss: 0.9481\n",
      "Epoch 57: val_accuracy improved from 0.66330 to 0.66410, saving model to best.weights.h5\n",
      "\u001b[1m625/625\u001b[0m \u001b[32m━━━━━━━━━━━━━━━━━━━━\u001b[0m\u001b[37m\u001b[0m \u001b[1m22s\u001b[0m 35ms/step - accuracy: 0.7137 - loss: 0.9481 - val_accuracy: 0.6641 - val_loss: 1.1720 - learning_rate: 2.4300e-06\n",
      "Epoch 58/100\n",
      "\u001b[1m624/625\u001b[0m \u001b[32m━━━━━━━━━━━━━━━━━━━\u001b[0m\u001b[37m━\u001b[0m \u001b[1m0s\u001b[0m 33ms/step - accuracy: 0.7082 - loss: 0.9624\n",
      "Epoch 58: val_accuracy did not improve from 0.66410\n",
      "\u001b[1m625/625\u001b[0m \u001b[32m━━━━━━━━━━━━━━━━━━━━\u001b[0m\u001b[37m\u001b[0m \u001b[1m22s\u001b[0m 35ms/step - accuracy: 0.7082 - loss: 0.9624 - val_accuracy: 0.6628 - val_loss: 1.1708 - learning_rate: 2.4300e-06\n",
      "Epoch 59/100\n",
      "\u001b[1m625/625\u001b[0m \u001b[32m━━━━━━━━━━━━━━━━━━━━\u001b[0m\u001b[37m\u001b[0m \u001b[1m0s\u001b[0m 33ms/step - accuracy: 0.7114 - loss: 0.9505\n",
      "Epoch 59: val_accuracy did not improve from 0.66410\n",
      "\u001b[1m625/625\u001b[0m \u001b[32m━━━━━━━━━━━━━━━━━━━━\u001b[0m\u001b[37m\u001b[0m \u001b[1m22s\u001b[0m 35ms/step - accuracy: 0.7114 - loss: 0.9505 - val_accuracy: 0.6633 - val_loss: 1.1708 - learning_rate: 2.4300e-06\n",
      "Epoch 60/100\n",
      "\u001b[1m625/625\u001b[0m \u001b[32m━━━━━━━━━━━━━━━━━━━━\u001b[0m\u001b[37m\u001b[0m \u001b[1m0s\u001b[0m 32ms/step - accuracy: 0.7148 - loss: 0.9582\n",
      "Epoch 60: ReduceLROnPlateau reducing learning rate to 7.289999985005124e-07.\n",
      "\n",
      "Epoch 60: val_accuracy did not improve from 0.66410\n",
      "\u001b[1m625/625\u001b[0m \u001b[32m━━━━━━━━━━━━━━━━━━━━\u001b[0m\u001b[37m\u001b[0m \u001b[1m22s\u001b[0m 34ms/step - accuracy: 0.7147 - loss: 0.9582 - val_accuracy: 0.6637 - val_loss: 1.1716 - learning_rate: 2.4300e-06\n",
      "Epoch 61/100\n",
      "\u001b[1m624/625\u001b[0m \u001b[32m━━━━━━━━━━━━━━━━━━━\u001b[0m\u001b[37m━\u001b[0m \u001b[1m0s\u001b[0m 34ms/step - accuracy: 0.7179 - loss: 0.9402\n",
      "Epoch 61: val_accuracy did not improve from 0.66410\n",
      "\u001b[1m625/625\u001b[0m \u001b[32m━━━━━━━━━━━━━━━━━━━━\u001b[0m\u001b[37m\u001b[0m \u001b[1m23s\u001b[0m 36ms/step - accuracy: 0.7179 - loss: 0.9402 - val_accuracy: 0.6626 - val_loss: 1.1719 - learning_rate: 7.2900e-07\n",
      "Epoch 62/100\n",
      "\u001b[1m625/625\u001b[0m \u001b[32m━━━━━━━━━━━━━━━━━━━━\u001b[0m\u001b[37m\u001b[0m \u001b[1m0s\u001b[0m 33ms/step - accuracy: 0.7184 - loss: 0.9478\n",
      "Epoch 62: val_accuracy did not improve from 0.66410\n",
      "\u001b[1m625/625\u001b[0m \u001b[32m━━━━━━━━━━━━━━━━━━━━\u001b[0m\u001b[37m\u001b[0m \u001b[1m22s\u001b[0m 35ms/step - accuracy: 0.7184 - loss: 0.9478 - val_accuracy: 0.6640 - val_loss: 1.1701 - learning_rate: 7.2900e-07\n",
      "Epoch 63/100\n",
      "\u001b[1m625/625\u001b[0m \u001b[32m━━━━━━━━━━━━━━━━━━━━\u001b[0m\u001b[37m\u001b[0m \u001b[1m0s\u001b[0m 33ms/step - accuracy: 0.7186 - loss: 0.9435\n",
      "Epoch 63: ReduceLROnPlateau reducing learning rate to 2.1870000637136398e-07.\n",
      "\n",
      "Epoch 63: val_accuracy did not improve from 0.66410\n",
      "\u001b[1m625/625\u001b[0m \u001b[32m━━━━━━━━━━━━━━━━━━━━\u001b[0m\u001b[37m\u001b[0m \u001b[1m22s\u001b[0m 34ms/step - accuracy: 0.7186 - loss: 0.9435 - val_accuracy: 0.6641 - val_loss: 1.1712 - learning_rate: 7.2900e-07\n",
      "Epoch 64/100\n",
      "\u001b[1m625/625\u001b[0m \u001b[32m━━━━━━━━━━━━━━━━━━━━\u001b[0m\u001b[37m\u001b[0m \u001b[1m0s\u001b[0m 33ms/step - accuracy: 0.7183 - loss: 0.9378\n",
      "Epoch 64: val_accuracy did not improve from 0.66410\n",
      "\u001b[1m625/625\u001b[0m \u001b[32m━━━━━━━━━━━━━━━━━━━━\u001b[0m\u001b[37m\u001b[0m \u001b[1m22s\u001b[0m 35ms/step - accuracy: 0.7182 - loss: 0.9378 - val_accuracy: 0.6632 - val_loss: 1.1729 - learning_rate: 2.1870e-07\n",
      "Epoch 65/100\n",
      "\u001b[1m625/625\u001b[0m \u001b[32m━━━━━━━━━━━━━━━━━━━━\u001b[0m\u001b[37m\u001b[0m \u001b[1m0s\u001b[0m 33ms/step - accuracy: 0.7142 - loss: 0.9487\n",
      "Epoch 65: val_accuracy did not improve from 0.66410\n",
      "\u001b[1m625/625\u001b[0m \u001b[32m━━━━━━━━━━━━━━━━━━━━\u001b[0m\u001b[37m\u001b[0m \u001b[1m22s\u001b[0m 35ms/step - accuracy: 0.7142 - loss: 0.9487 - val_accuracy: 0.6639 - val_loss: 1.1726 - learning_rate: 2.1870e-07\n",
      "Epoch 66/100\n",
      "\u001b[1m624/625\u001b[0m \u001b[32m━━━━━━━━━━━━━━━━━━━\u001b[0m\u001b[37m━\u001b[0m \u001b[1m0s\u001b[0m 33ms/step - accuracy: 0.7144 - loss: 0.9537\n",
      "Epoch 66: val_accuracy improved from 0.66410 to 0.66450, saving model to best.weights.h5\n",
      "\u001b[1m625/625\u001b[0m \u001b[32m━━━━━━━━━━━━━━━━━━━━\u001b[0m\u001b[37m\u001b[0m \u001b[1m22s\u001b[0m 35ms/step - accuracy: 0.7143 - loss: 0.9537 - val_accuracy: 0.6645 - val_loss: 1.1681 - learning_rate: 2.1870e-07\n",
      "Epoch 67/100\n",
      "\u001b[1m625/625\u001b[0m \u001b[32m━━━━━━━━━━━━━━━━━━━━\u001b[0m\u001b[37m\u001b[0m \u001b[1m0s\u001b[0m 34ms/step - accuracy: 0.7153 - loss: 0.9474\n",
      "Epoch 67: val_accuracy did not improve from 0.66450\n",
      "\u001b[1m625/625\u001b[0m \u001b[32m━━━━━━━━━━━━━━━━━━━━\u001b[0m\u001b[37m\u001b[0m \u001b[1m22s\u001b[0m 36ms/step - accuracy: 0.7153 - loss: 0.9474 - val_accuracy: 0.6638 - val_loss: 1.1679 - learning_rate: 2.1870e-07\n",
      "Epoch 68/100\n",
      "\u001b[1m625/625\u001b[0m \u001b[32m━━━━━━━━━━━━━━━━━━━━\u001b[0m\u001b[37m\u001b[0m \u001b[1m0s\u001b[0m 34ms/step - accuracy: 0.7148 - loss: 0.9518\n",
      "Epoch 68: val_accuracy did not improve from 0.66450\n",
      "\u001b[1m625/625\u001b[0m \u001b[32m━━━━━━━━━━━━━━━━━━━━\u001b[0m\u001b[37m\u001b[0m \u001b[1m23s\u001b[0m 36ms/step - accuracy: 0.7148 - loss: 0.9518 - val_accuracy: 0.6628 - val_loss: 1.1724 - learning_rate: 2.1870e-07\n",
      "Epoch 69/100\n",
      "\u001b[1m625/625\u001b[0m \u001b[32m━━━━━━━━━━━━━━━━━━━━\u001b[0m\u001b[37m\u001b[0m \u001b[1m0s\u001b[0m 34ms/step - accuracy: 0.7115 - loss: 0.9482\n",
      "Epoch 69: ReduceLROnPlateau reducing learning rate to 6.561000276406048e-08.\n",
      "\n",
      "Epoch 69: val_accuracy did not improve from 0.66450\n",
      "\u001b[1m625/625\u001b[0m \u001b[32m━━━━━━━━━━━━━━━━━━━━\u001b[0m\u001b[37m\u001b[0m \u001b[1m23s\u001b[0m 36ms/step - accuracy: 0.7115 - loss: 0.9482 - val_accuracy: 0.6637 - val_loss: 1.1723 - learning_rate: 2.1870e-07\n",
      "Epoch 70/100\n",
      "\u001b[1m625/625\u001b[0m \u001b[32m━━━━━━━━━━━━━━━━━━━━\u001b[0m\u001b[37m\u001b[0m \u001b[1m0s\u001b[0m 33ms/step - accuracy: 0.7127 - loss: 0.9475\n",
      "Epoch 70: val_accuracy did not improve from 0.66450\n",
      "\u001b[1m625/625\u001b[0m \u001b[32m━━━━━━━━━━━━━━━━━━━━\u001b[0m\u001b[37m\u001b[0m \u001b[1m22s\u001b[0m 35ms/step - accuracy: 0.7127 - loss: 0.9475 - val_accuracy: 0.6635 - val_loss: 1.1726 - learning_rate: 6.5610e-08\n",
      "Epoch 71/100\n",
      "\u001b[1m625/625\u001b[0m \u001b[32m━━━━━━━━━━━━━━━━━━━━\u001b[0m\u001b[37m\u001b[0m \u001b[1m0s\u001b[0m 34ms/step - accuracy: 0.7115 - loss: 0.9561\n",
      "Epoch 71: val_accuracy did not improve from 0.66450\n",
      "\u001b[1m625/625\u001b[0m \u001b[32m━━━━━━━━━━━━━━━━━━━━\u001b[0m\u001b[37m\u001b[0m \u001b[1m23s\u001b[0m 36ms/step - accuracy: 0.7115 - loss: 0.9561 - val_accuracy: 0.6645 - val_loss: 1.1732 - learning_rate: 6.5610e-08\n",
      "Epoch 72/100\n",
      "\u001b[1m624/625\u001b[0m \u001b[32m━━━━━━━━━━━━━━━━━━━\u001b[0m\u001b[37m━\u001b[0m \u001b[1m0s\u001b[0m 34ms/step - accuracy: 0.7143 - loss: 0.9386\n",
      "Epoch 72: ReduceLROnPlateau reducing learning rate to 1.9683000829218145e-08.\n",
      "\n",
      "Epoch 72: val_accuracy did not improve from 0.66450\n",
      "\u001b[1m625/625\u001b[0m \u001b[32m━━━━━━━━━━━━━━━━━━━━\u001b[0m\u001b[37m\u001b[0m \u001b[1m23s\u001b[0m 36ms/step - accuracy: 0.7143 - loss: 0.9386 - val_accuracy: 0.6632 - val_loss: 1.1745 - learning_rate: 6.5610e-08\n",
      "Epoch 73/100\n",
      "\u001b[1m625/625\u001b[0m \u001b[32m━━━━━━━━━━━━━━━━━━━━\u001b[0m\u001b[37m\u001b[0m \u001b[1m0s\u001b[0m 33ms/step - accuracy: 0.7169 - loss: 0.9374\n",
      "Epoch 73: val_accuracy did not improve from 0.66450\n",
      "\u001b[1m625/625\u001b[0m \u001b[32m━━━━━━━━━━━━━━━━━━━━\u001b[0m\u001b[37m\u001b[0m \u001b[1m22s\u001b[0m 34ms/step - accuracy: 0.7169 - loss: 0.9374 - val_accuracy: 0.6636 - val_loss: 1.1706 - learning_rate: 1.9683e-08\n",
      "Epoch 74/100\n",
      "\u001b[1m624/625\u001b[0m \u001b[32m━━━━━━━━━━━━━━━━━━━\u001b[0m\u001b[37m━\u001b[0m \u001b[1m0s\u001b[0m 33ms/step - accuracy: 0.7155 - loss: 0.9523\n",
      "Epoch 74: val_accuracy did not improve from 0.66450\n",
      "\u001b[1m625/625\u001b[0m \u001b[32m━━━━━━━━━━━━━━━━━━━━\u001b[0m\u001b[37m\u001b[0m \u001b[1m22s\u001b[0m 35ms/step - accuracy: 0.7155 - loss: 0.9523 - val_accuracy: 0.6642 - val_loss: 1.1711 - learning_rate: 1.9683e-08\n",
      "Epoch 75/100\n",
      "\u001b[1m624/625\u001b[0m \u001b[32m━━━━━━━━━━━━━━━━━━━\u001b[0m\u001b[37m━\u001b[0m \u001b[1m0s\u001b[0m 34ms/step - accuracy: 0.7162 - loss: 0.9475\n",
      "Epoch 75: ReduceLROnPlateau reducing learning rate to 1e-08.\n",
      "\n",
      "Epoch 75: val_accuracy did not improve from 0.66450\n",
      "\u001b[1m625/625\u001b[0m \u001b[32m━━━━━━━━━━━━━━━━━━━━\u001b[0m\u001b[37m\u001b[0m \u001b[1m23s\u001b[0m 36ms/step - accuracy: 0.7162 - loss: 0.9475 - val_accuracy: 0.6630 - val_loss: 1.1699 - learning_rate: 1.9683e-08\n",
      "Epoch 76/100\n",
      "\u001b[1m625/625\u001b[0m \u001b[32m━━━━━━━━━━━━━━━━━━━━\u001b[0m\u001b[37m\u001b[0m \u001b[1m0s\u001b[0m 33ms/step - accuracy: 0.7157 - loss: 0.9442\n",
      "Epoch 76: val_accuracy did not improve from 0.66450\n",
      "\u001b[1m625/625\u001b[0m \u001b[32m━━━━━━━━━━━━━━━━━━━━\u001b[0m\u001b[37m\u001b[0m \u001b[1m22s\u001b[0m 34ms/step - accuracy: 0.7157 - loss: 0.9442 - val_accuracy: 0.6635 - val_loss: 1.1692 - learning_rate: 1.0000e-08\n",
      "Epoch 76: early stopping\n",
      "Restoring model weights from the end of the best epoch: 66.\n"
     ]
    }
   ],
   "source": [
    "history = model.fit(\n",
    "    train_data,\n",
    "    epochs = 100,\n",
    "    validation_data = val_data,\n",
    "    callbacks= [rlrop, es, mc, tb]\n",
    ")"
   ]
  },
  {
   "cell_type": "code",
   "execution_count": 19,
   "id": "1a2f8cc4",
   "metadata": {
    "execution": {
     "iopub.execute_input": "2024-06-30T02:26:24.284297Z",
     "iopub.status.busy": "2024-06-30T02:26:24.283522Z",
     "iopub.status.idle": "2024-06-30T02:26:24.561988Z",
     "shell.execute_reply": "2024-06-30T02:26:24.560981Z"
    },
    "papermill": {
     "duration": 2.331093,
     "end_time": "2024-06-30T02:26:24.564270",
     "exception": false,
     "start_time": "2024-06-30T02:26:22.233177",
     "status": "completed"
    },
    "tags": []
   },
   "outputs": [
    {
     "data": {
      "text/plain": [
       "[<matplotlib.lines.Line2D at 0x7e0d3c252470>]"
      ]
     },
     "execution_count": 19,
     "metadata": {},
     "output_type": "execute_result"
    },
    {
     "data": {
      "image/png": "[encoded data removed]",
      "text/plain": [
       "<Figure size 640x480 with 1 Axes>"
      ]
     },
     "metadata": {},
     "output_type": "display_data"
    }
   ],
   "source": [
    "plt.plot(history.history[\"loss\"])\n",
    "plt.plot(history.history[\"val_loss\"])"
   ]
  },
  {
   "cell_type": "code",
   "execution_count": 20,
   "id": "dc337e37",
   "metadata": {
    "execution": {
     "iopub.execute_input": "2024-06-30T02:26:28.694940Z",
     "iopub.status.busy": "2024-06-30T02:26:28.694064Z",
     "iopub.status.idle": "2024-06-30T02:26:28.967134Z",
     "shell.execute_reply": "2024-06-30T02:26:28.965987Z"
    },
    "papermill": {
     "duration": 2.331604,
     "end_time": "2024-06-30T02:26:28.969358",
     "exception": false,
     "start_time": "2024-06-30T02:26:26.637754",
     "status": "completed"
    },
    "tags": []
   },
   "outputs": [
    {
     "data": {
      "text/plain": [
       "[<matplotlib.lines.Line2D at 0x7e0d3c0cf520>]"
      ]
     },
     "execution_count": 20,
     "metadata": {},
     "output_type": "execute_result"
    },
    {
     "data": {
      "image/png": "[encoded data removed]",
      "text/plain": [
       "<Figure size 640x480 with 1 Axes>"
      ]
     },
     "metadata": {},
     "output_type": "display_data"
    }
   ],
   "source": [
    "plt.plot(history.history[\"loss\"])\n",
    "plt.plot(history.history[\"val_loss\"])"
   ]
  },
  {
   "cell_type": "code",
   "execution_count": 21,
   "id": "997f4b6d",
   "metadata": {
    "execution": {
     "iopub.execute_input": "2024-06-30T02:26:33.034566Z",
     "iopub.status.busy": "2024-06-30T02:26:33.033706Z",
     "iopub.status.idle": "2024-06-30T02:26:33.248572Z",
     "shell.execute_reply": "2024-06-30T02:26:33.247573Z"
    },
    "papermill": {
     "duration": 2.257696,
     "end_time": "2024-06-30T02:26:33.250779",
     "exception": false,
     "start_time": "2024-06-30T02:26:30.993083",
     "status": "completed"
    },
    "tags": []
   },
   "outputs": [
    {
     "data": {
      "text/plain": [
       "[<matplotlib.lines.Line2D at 0x7e0d3c1748b0>]"
      ]
     },
     "execution_count": 21,
     "metadata": {},
     "output_type": "execute_result"
    },
    {
     "data": {
      "image/png": "[encoded data removed]",
      "text/plain": [
       "<Figure size 640x480 with 1 Axes>"
      ]
     },
     "metadata": {},
     "output_type": "display_data"
    }
   ],
   "source": [
    "plt.plot(history.history[\"accuracy\"])\n",
    "plt.plot(history.history[\"val_accuracy\"])"
   ]
  },
  {
   "cell_type": "code",
   "execution_count": 22,
   "id": "591d06af",
   "metadata": {
    "execution": {
     "iopub.execute_input": "2024-06-30T02:26:37.265511Z",
     "iopub.status.busy": "2024-06-30T02:26:37.265110Z",
     "iopub.status.idle": "2024-06-30T02:26:37.469126Z",
     "shell.execute_reply": "2024-06-30T02:26:37.468197Z"
    },
    "papermill": {
     "duration": 2.185631,
     "end_time": "2024-06-30T02:26:37.471091",
     "exception": false,
     "start_time": "2024-06-30T02:26:35.285460",
     "status": "completed"
    },
    "tags": []
   },
   "outputs": [
    {
     "data": {
      "text/plain": [
       "[<matplotlib.lines.Line2D at 0x7e0d0a770b80>]"
      ]
     },
     "execution_count": 22,
     "metadata": {},
     "output_type": "execute_result"
    },
    {
     "data": {
      "image/png": "[encoded data removed]",
      "text/plain": [
       "<Figure size 640x480 with 1 Axes>"
      ]
     },
     "metadata": {},
     "output_type": "display_data"
    }
   ],
   "source": [
    "plt.plot(history.history[\"accuracy\"])\n",
    "plt.plot(history.history[\"val_accuracy\"])"
   ]
  },
  {
   "cell_type": "code",
   "execution_count": 23,
   "id": "26b867b2",
   "metadata": {
    "execution": {
     "iopub.execute_input": "2024-06-30T02:26:41.503379Z",
     "iopub.status.busy": "2024-06-30T02:26:41.503008Z",
     "iopub.status.idle": "2024-06-30T02:26:41.756820Z",
     "shell.execute_reply": "2024-06-30T02:26:41.755918Z"
    },
    "papermill": {
     "duration": 2.275735,
     "end_time": "2024-06-30T02:26:41.758866",
     "exception": false,
     "start_time": "2024-06-30T02:26:39.483131",
     "status": "completed"
    },
    "tags": []
   },
   "outputs": [
    {
     "data": {
      "text/plain": [
       "[<matplotlib.lines.Line2D at 0x7e0d0a7c3d30>]"
      ]
     },
     "execution_count": 23,
     "metadata": {},
     "output_type": "execute_result"
    },
    {
     "data": {
      "image/png": "[encoded data removed]",
      "text/plain": [
       "<Figure size 640x480 with 1 Axes>"
      ]
     },
     "metadata": {},
     "output_type": "display_data"
    }
   ],
   "source": [
    "plt.plot(history.history[\"learning_rate\"])"
   ]
  },
  {
   "cell_type": "code",
   "execution_count": 24,
   "id": "f9f61714",
   "metadata": {
    "execution": {
     "iopub.execute_input": "2024-06-30T02:26:45.787926Z",
     "iopub.status.busy": "2024-06-30T02:26:45.787556Z",
     "iopub.status.idle": "2024-06-30T02:26:49.808727Z",
     "shell.execute_reply": "2024-06-30T02:26:49.807731Z"
    },
    "papermill": {
     "duration": 6.0611,
     "end_time": "2024-06-30T02:26:49.811108",
     "exception": false,
     "start_time": "2024-06-30T02:26:43.750008",
     "status": "completed"
    },
    "tags": []
   },
   "outputs": [
    {
     "name": "stdout",
     "output_type": "stream",
     "text": [
      "\u001b[1m313/313\u001b[0m \u001b[32m━━━━━━━━━━━━━━━━━━━━\u001b[0m\u001b[37m\u001b[0m \u001b[1m3s\u001b[0m 6ms/step\n"
     ]
    }
   ],
   "source": [
    "predictions = model.predict(x_test)"
   ]
  },
  {
   "cell_type": "code",
   "execution_count": 25,
   "id": "2b4fbe90",
   "metadata": {
    "execution": {
     "iopub.execute_input": "2024-06-30T02:26:53.942701Z",
     "iopub.status.busy": "2024-06-30T02:26:53.942064Z",
     "iopub.status.idle": "2024-06-30T02:26:53.947116Z",
     "shell.execute_reply": "2024-06-30T02:26:53.946211Z"
    },
    "papermill": {
     "duration": 2.079682,
     "end_time": "2024-06-30T02:26:53.949160",
     "exception": false,
     "start_time": "2024-06-30T02:26:51.869478",
     "status": "completed"
    },
    "tags": []
   },
   "outputs": [],
   "source": [
    "predictions = predictions.argmax(axis=1)"
   ]
  },
  {
   "cell_type": "code",
   "execution_count": 26,
   "id": "6d80f4a5",
   "metadata": {
    "execution": {
     "iopub.execute_input": "2024-06-30T02:26:57.946150Z",
     "iopub.status.busy": "2024-06-30T02:26:57.945788Z",
     "iopub.status.idle": "2024-06-30T02:26:57.953069Z",
     "shell.execute_reply": "2024-06-30T02:26:57.951767Z"
    },
    "papermill": {
     "duration": 2.038279,
     "end_time": "2024-06-30T02:26:57.954913",
     "exception": false,
     "start_time": "2024-06-30T02:26:55.916634",
     "status": "completed"
    },
    "tags": []
   },
   "outputs": [
    {
     "data": {
      "text/plain": [
       "array([68, 33, 93, ..., 51, 42, 70])"
      ]
     },
     "execution_count": 26,
     "metadata": {},
     "output_type": "execute_result"
    }
   ],
   "source": [
    "predictions"
   ]
  },
  {
   "cell_type": "code",
   "execution_count": 27,
   "id": "9713f7ac",
   "metadata": {
    "execution": {
     "iopub.execute_input": "2024-06-30T02:27:01.959707Z",
     "iopub.status.busy": "2024-06-30T02:27:01.959335Z",
     "iopub.status.idle": "2024-06-30T02:27:01.966689Z",
     "shell.execute_reply": "2024-06-30T02:27:01.965608Z"
    },
    "papermill": {
     "duration": 2.005171,
     "end_time": "2024-06-30T02:27:01.968596",
     "exception": false,
     "start_time": "2024-06-30T02:26:59.963425",
     "status": "completed"
    },
    "tags": []
   },
   "outputs": [],
   "source": [
    "df = pd.DataFrame(predictions, columns=[\"Label\"])"
   ]
  },
  {
   "cell_type": "code",
   "execution_count": 28,
   "id": "a38940a8",
   "metadata": {
    "execution": {
     "iopub.execute_input": "2024-06-30T02:27:05.972365Z",
     "iopub.status.busy": "2024-06-30T02:27:05.971493Z",
     "iopub.status.idle": "2024-06-30T02:27:05.975800Z",
     "shell.execute_reply": "2024-06-30T02:27:05.974943Z"
    },
    "papermill": {
     "duration": 2.013854,
     "end_time": "2024-06-30T02:27:05.977732",
     "exception": false,
     "start_time": "2024-06-30T02:27:03.963878",
     "status": "completed"
    },
    "tags": []
   },
   "outputs": [],
   "source": [
    "df.index.name = \"Id\""
   ]
  },
  {
   "cell_type": "code",
   "execution_count": 29,
   "id": "1be2a851",
   "metadata": {
    "execution": {
     "iopub.execute_input": "2024-06-30T02:27:09.989505Z",
     "iopub.status.busy": "2024-06-30T02:27:09.989133Z",
     "iopub.status.idle": "2024-06-30T02:27:10.006105Z",
     "shell.execute_reply": "2024-06-30T02:27:10.005178Z"
    },
    "papermill": {
     "duration": 2.015617,
     "end_time": "2024-06-30T02:27:10.007938",
     "exception": false,
     "start_time": "2024-06-30T02:27:07.992321",
     "status": "completed"
    },
    "tags": []
   },
   "outputs": [
    {
     "data": {
      "text/html": [
       "<div>\n",
       "<style scoped>\n",
       "    .dataframe tbody tr th:only-of-type {\n",
       "        vertical-align: middle;\n",
       "    }\n",
       "\n",
       "    .dataframe tbody tr th {\n",
       "        vertical-align: top;\n",
       "    }\n",
       "\n",
       "    .dataframe thead th {\n",
       "        text-align: right;\n",
       "    }\n",
       "</style>\n",
       "<table border=\"1\" class=\"dataframe\">\n",
       "  <thead>\n",
       "    <tr style=\"text-align: right;\">\n",
       "      <th></th>\n",
       "      <th>Label</th>\n",
       "    </tr>\n",
       "    <tr>\n",
       "      <th>Id</th>\n",
       "      <th></th>\n",
       "    </tr>\n",
       "  </thead>\n",
       "  <tbody>\n",
       "    <tr>\n",
       "      <th>0</th>\n",
       "      <td>68</td>\n",
       "    </tr>\n",
       "    <tr>\n",
       "      <th>1</th>\n",
       "      <td>33</td>\n",
       "    </tr>\n",
       "    <tr>\n",
       "      <th>2</th>\n",
       "      <td>93</td>\n",
       "    </tr>\n",
       "    <tr>\n",
       "      <th>3</th>\n",
       "      <td>51</td>\n",
       "    </tr>\n",
       "    <tr>\n",
       "      <th>4</th>\n",
       "      <td>71</td>\n",
       "    </tr>\n",
       "  </tbody>\n",
       "</table>\n",
       "</div>"
      ],
      "text/plain": [
       "    Label\n",
       "Id       \n",
       "0      68\n",
       "1      33\n",
       "2      93\n",
       "3      51\n",
       "4      71"
      ]
     },
     "execution_count": 29,
     "metadata": {},
     "output_type": "execute_result"
    }
   ],
   "source": [
    "df.head()"
   ]
  },
  {
   "cell_type": "code",
   "execution_count": 30,
   "id": "2497c553",
   "metadata": {
    "execution": {
     "iopub.execute_input": "2024-06-30T02:27:14.025980Z",
     "iopub.status.busy": "2024-06-30T02:27:14.025601Z",
     "iopub.status.idle": "2024-06-30T02:27:14.043393Z",
     "shell.execute_reply": "2024-06-30T02:27:14.042751Z"
    },
    "papermill": {
     "duration": 2.025167,
     "end_time": "2024-06-30T02:27:14.045277",
     "exception": false,
     "start_time": "2024-06-30T02:27:12.020110",
     "status": "completed"
    },
    "tags": []
   },
   "outputs": [],
   "source": [
    "df.to_csv(\"submission.csv\")"
   ]
  }
 ],
 "metadata": {
  "kaggle": {
   "accelerator": "gpu",
   "dataSources": [
    {
     "databundleVersionId": 8490010,
     "sourceId": 77584,
     "sourceType": "competition"
    }
   ],
   "dockerImageVersionId": 30699,
   "isGpuEnabled": true,
   "isInternetEnabled": true,
   "language": "python",
   "sourceType": "notebook"
  },
  "kernelspec": {
   "display_name": "Python 3",
   "language": "python",
   "name": "python3"
  },
  "language_info": {
   "codemirror_mode": {
    "name": "ipython",
    "version": 3
   },
   "file_extension": ".py",
   "mimetype": "text/x-python",
   "name": "python",
   "nbconvert_exporter": "python",
   "pygments_lexer": "ipython3",
   "version": "3.10.13"
  },
  "papermill": {
   "default_parameters": {},
   "duration": 1780.447257,
   "end_time": "2024-06-30T02:27:18.426057",
   "environment_variables": {},
   "exception": null,
   "input_path": "__notebook__.ipynb",
   "output_path": "__notebook__.ipynb",
   "parameters": {},
   "start_time": "2024-06-30T01:57:37.978800",
   "version": "2.5.0"
  }
 },
 "nbformat": 4,
 "nbformat_minor": 5
}
